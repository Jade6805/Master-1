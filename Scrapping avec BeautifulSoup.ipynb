{
 "cells": [
  {
   "cell_type": "markdown",
   "id": "4f0f11e4",
   "metadata": {},
   "source": [
    "\n",
    "<center> <h1>Partiel</h1> </center><center> \n",
    "<h2>trustpilot.com - Renault Dacia BodemerAuto Saint-Brieuc </h2> </center>"
   ]
  },
  {
   "cell_type": "raw",
   "id": "9a82473d",
   "metadata": {},
   "source": [
    "Il faut récupérer:\n",
    "        - nombre d'avis \n",
    "        - Localisation du client\n",
    "        - Note\n",
    "        - avis "
   ]
  },
  {
   "cell_type": "markdown",
   "id": "75d81f9f",
   "metadata": {},
   "source": [
    "# Bibliothèques"
   ]
  },
  {
   "cell_type": "code",
   "execution_count": 91,
   "id": "fbad7371",
   "metadata": {},
   "outputs": [],
   "source": [
    "import random\n",
    "import time\n",
    "from bs4 import BeautifulSoup\n",
    "import requests\n",
    "import re\n",
    "import pandas as pd"
   ]
  },
  {
   "cell_type": "markdown",
   "id": "6287f2bd",
   "metadata": {},
   "source": [
    "# Les pages"
   ]
  },
  {
   "cell_type": "code",
   "execution_count": 2,
   "id": "ca1ae4fe",
   "metadata": {},
   "outputs": [
    {
     "name": "stdout",
     "output_type": "stream",
     "text": [
      "https://fr.trustpilot.com/review/www.bodemerauto.com/renault-saint-brieuc\n",
      "<Response [200]>\n"
     ]
    }
   ],
   "source": [
    "url = 'https://fr.trustpilot.com/review/www.bodemerauto.com/renault-saint-brieuc'\n",
    "print(url)\n",
    "response = requests.get(url)\n",
    "print(response)\n",
    "response_html=BeautifulSoup(response.text, 'html.parser')"
   ]
  },
  {
   "cell_type": "raw",
   "id": "01067b3e",
   "metadata": {},
   "source": [
    "page 1: https://fr.trustpilot.com/review/www.bodemerauto.com/renault-saint-brieuc\n",
    "si page=1, correspond à la page 1\n",
    "page 2: https://fr.trustpilot.com/review/www.bodemerauto.com/renault-saint-brieuc?page=2\n",
    "page 38: https://fr.trustpilot.com/review/www.bodemerauto.com/renault-saint-brieuc?page=38\n",
    "\n",
    "si met page 39, retour à la page 1 "
   ]
  },
  {
   "cell_type": "code",
   "execution_count": 20,
   "id": "eb0d63bb",
   "metadata": {
    "scrolled": false
   },
   "outputs": [
    {
     "name": "stdout",
     "output_type": "stream",
     "text": [
      "https://fr.trustpilot.com/review/www.bodemerauto.com/renault-saint-brieuc?page=1\n",
      "https://fr.trustpilot.com/review/www.bodemerauto.com/renault-saint-brieuc?page=2\n",
      "https://fr.trustpilot.com/review/www.bodemerauto.com/renault-saint-brieuc?page=3\n",
      "https://fr.trustpilot.com/review/www.bodemerauto.com/renault-saint-brieuc?page=4\n",
      "https://fr.trustpilot.com/review/www.bodemerauto.com/renault-saint-brieuc?page=5\n",
      "https://fr.trustpilot.com/review/www.bodemerauto.com/renault-saint-brieuc?page=6\n",
      "https://fr.trustpilot.com/review/www.bodemerauto.com/renault-saint-brieuc?page=7\n",
      "https://fr.trustpilot.com/review/www.bodemerauto.com/renault-saint-brieuc?page=8\n",
      "https://fr.trustpilot.com/review/www.bodemerauto.com/renault-saint-brieuc?page=9\n",
      "https://fr.trustpilot.com/review/www.bodemerauto.com/renault-saint-brieuc?page=10\n",
      "https://fr.trustpilot.com/review/www.bodemerauto.com/renault-saint-brieuc?page=11\n",
      "https://fr.trustpilot.com/review/www.bodemerauto.com/renault-saint-brieuc?page=12\n",
      "https://fr.trustpilot.com/review/www.bodemerauto.com/renault-saint-brieuc?page=13\n",
      "https://fr.trustpilot.com/review/www.bodemerauto.com/renault-saint-brieuc?page=14\n",
      "https://fr.trustpilot.com/review/www.bodemerauto.com/renault-saint-brieuc?page=15\n",
      "https://fr.trustpilot.com/review/www.bodemerauto.com/renault-saint-brieuc?page=16\n",
      "https://fr.trustpilot.com/review/www.bodemerauto.com/renault-saint-brieuc?page=17\n",
      "https://fr.trustpilot.com/review/www.bodemerauto.com/renault-saint-brieuc?page=18\n",
      "https://fr.trustpilot.com/review/www.bodemerauto.com/renault-saint-brieuc?page=19\n",
      "https://fr.trustpilot.com/review/www.bodemerauto.com/renault-saint-brieuc?page=20\n",
      "https://fr.trustpilot.com/review/www.bodemerauto.com/renault-saint-brieuc?page=21\n",
      "https://fr.trustpilot.com/review/www.bodemerauto.com/renault-saint-brieuc?page=22\n",
      "https://fr.trustpilot.com/review/www.bodemerauto.com/renault-saint-brieuc?page=23\n",
      "https://fr.trustpilot.com/review/www.bodemerauto.com/renault-saint-brieuc?page=24\n",
      "https://fr.trustpilot.com/review/www.bodemerauto.com/renault-saint-brieuc?page=25\n",
      "https://fr.trustpilot.com/review/www.bodemerauto.com/renault-saint-brieuc?page=26\n",
      "https://fr.trustpilot.com/review/www.bodemerauto.com/renault-saint-brieuc?page=27\n",
      "https://fr.trustpilot.com/review/www.bodemerauto.com/renault-saint-brieuc?page=28\n",
      "https://fr.trustpilot.com/review/www.bodemerauto.com/renault-saint-brieuc?page=29\n",
      "https://fr.trustpilot.com/review/www.bodemerauto.com/renault-saint-brieuc?page=30\n",
      "https://fr.trustpilot.com/review/www.bodemerauto.com/renault-saint-brieuc?page=31\n",
      "https://fr.trustpilot.com/review/www.bodemerauto.com/renault-saint-brieuc?page=32\n",
      "https://fr.trustpilot.com/review/www.bodemerauto.com/renault-saint-brieuc?page=33\n",
      "https://fr.trustpilot.com/review/www.bodemerauto.com/renault-saint-brieuc?page=34\n",
      "https://fr.trustpilot.com/review/www.bodemerauto.com/renault-saint-brieuc?page=35\n",
      "https://fr.trustpilot.com/review/www.bodemerauto.com/renault-saint-brieuc?page=36\n",
      "https://fr.trustpilot.com/review/www.bodemerauto.com/renault-saint-brieuc?page=37\n",
      "https://fr.trustpilot.com/review/www.bodemerauto.com/renault-saint-brieuc?page=38\n"
     ]
    }
   ],
   "source": [
    "page = 1\n",
    "\n",
    "while page < 39:\n",
    "    url = 'https://fr.trustpilot.com/review/www.bodemerauto.com/renault-saint-brieuc?page='+ str(page)\n",
    "    \n",
    "    print(url)\n",
    "    response = requests.get(url)\n",
    "    response_html=BeautifulSoup(response.text, 'html.parser')\n",
    " \n",
    "\n",
    "    page += 1"
   ]
  },
  {
   "cell_type": "code",
   "execution_count": 66,
   "id": "c29bab24",
   "metadata": {},
   "outputs": [
    {
     "name": "stdout",
     "output_type": "stream",
     "text": [
      "https://fr.trustpilot.com/review/www.bodemerauto.com/renault-saint-brieuc?page=2\n",
      "<Response [200]>\n"
     ]
    }
   ],
   "source": [
    "url = 'https://fr.trustpilot.com/review/www.bodemerauto.com/renault-saint-brieuc?page=2'\n",
    "print(url)\n",
    "response = requests.get(url)\n",
    "print(response)\n",
    "response_html=BeautifulSoup(response.text, 'html.parser')"
   ]
  },
  {
   "cell_type": "markdown",
   "id": "86ce029f",
   "metadata": {},
   "source": [
    "## nom du client "
   ]
  },
  {
   "cell_type": "code",
   "execution_count": 67,
   "id": "1c1c93af",
   "metadata": {},
   "outputs": [
    {
     "name": "stdout",
     "output_type": "stream",
     "text": [
      "Boscher Yves\n"
     ]
    }
   ],
   "source": [
    "Name = response_html.find('div', class_='typography_typography__QgicV typography_bodysmall__irytL typography_weight-medium__UNMDK typography_fontstyle-normal__kHyN3 styles_consumerName__dP8Um').text\n",
    "print(Name)"
   ]
  },
  {
   "cell_type": "markdown",
   "id": "a33cf2de",
   "metadata": {},
   "source": [
    "## Nombre d'avis"
   ]
  },
  {
   "cell_type": "code",
   "execution_count": 68,
   "id": "4b386aa9",
   "metadata": {
    "scrolled": true
   },
   "outputs": [
    {
     "name": "stdout",
     "output_type": "stream",
     "text": [
      "2 avis\n"
     ]
    }
   ],
   "source": [
    "NB_avis = response_html.find('div', class_='styles_consumerExtraDetails__fxS4S').text[0]+ ' avis'\n",
    "print(NB_avis)"
   ]
  },
  {
   "cell_type": "markdown",
   "id": "8c651984",
   "metadata": {},
   "source": [
    "## Localisation"
   ]
  },
  {
   "cell_type": "code",
   "execution_count": 104,
   "id": "1cb89e01",
   "metadata": {},
   "outputs": [
    {
     "name": "stdout",
     "output_type": "stream",
     "text": [
      "FR\n"
     ]
    }
   ],
   "source": [
    "Localisation = response_html.find('div', class_='styles_consumerExtraDetails__fxS4S').text[6:]\n",
    "print(Localisation.replace('s',''))"
   ]
  },
  {
   "cell_type": "markdown",
   "id": "6ffd2a83",
   "metadata": {},
   "source": [
    "## Note"
   ]
  },
  {
   "cell_type": "code",
   "execution_count": 70,
   "id": "693cf8c1",
   "metadata": {
    "scrolled": true
   },
   "outputs": [
    {
     "name": "stdout",
     "output_type": "stream",
     "text": [
      "4.5/5\n"
     ]
    }
   ],
   "source": [
    "Note = response_html.find('div', class_='star-rating_starRating__4rrcf star-rating_medium__iN6Ty').img['src'][58:]+'/5'\n",
    "print(Note.replace('.svg',''))"
   ]
  },
  {
   "cell_type": "markdown",
   "id": "1667ad3a",
   "metadata": {},
   "source": [
    "## Avis"
   ]
  },
  {
   "cell_type": "code",
   "execution_count": 71,
   "id": "cec619a8",
   "metadata": {},
   "outputs": [
    {
     "name": "stdout",
     "output_type": "stream",
     "text": [
      "Très bon accueil chaleureux.Personnel à l’écoute et compétent.Un peu plus d’informations concernant la LOA serait un plus\n"
     ]
    }
   ],
   "source": [
    "Avis = response_html.find('p', class_='typography_typography__QgicV typography_body__9UBeQ typography_color-black__5LYEn typography_weight-regular__TWEnf typography_fontstyle-normal__kHyN3').text\n",
    "print(Avis)"
   ]
  },
  {
   "cell_type": "code",
   "execution_count": null,
   "id": "f1baaddc",
   "metadata": {},
   "outputs": [],
   "source": []
  },
  {
   "cell_type": "markdown",
   "id": "aa68e4ed",
   "metadata": {},
   "source": [
    "# Scrapping total"
   ]
  },
  {
   "cell_type": "code",
   "execution_count": 121,
   "id": "0146486a",
   "metadata": {},
   "outputs": [
    {
     "name": "stdout",
     "output_type": "stream",
     "text": [
      "2\n",
      "3\n",
      "4\n",
      "5\n",
      "6\n",
      "7\n",
      "8\n",
      "9\n",
      "10\n",
      "11\n",
      "12\n",
      "13\n",
      "14\n",
      "15\n",
      "16\n",
      "17\n",
      "18\n",
      "19\n",
      "20\n",
      "21\n",
      "22\n",
      "23\n",
      "24\n",
      "25\n",
      "26\n",
      "27\n",
      "28\n",
      "29\n",
      "30\n",
      "31\n",
      "32\n",
      "33\n",
      "34\n",
      "35\n",
      "36\n",
      "37\n",
      "38\n",
      "39\n"
     ]
    }
   ],
   "source": [
    "# Creation de collections vides pour chaque variable \n",
    "# Mise en place d'une boucle while sur les 38 pages\n",
    "# Mise en place du changement de page \n",
    "# Boucle for pour récupérer chaque élément \n",
    "\n",
    "ls_name =[]\n",
    "ls_NB_avis=[]\n",
    "ls_localisation = []\n",
    "ls_note=[]\n",
    "ls_avis=[]\n",
    "\n",
    "page = 1 \n",
    "\n",
    "while page < 39: \n",
    "    url = 'https://fr.trustpilot.com/review/www.bodemerauto.com/renault-saint-brieuc?page='+ str(page)\n",
    "    \n",
    "    response = requests.get(url)\n",
    "    response_html=BeautifulSoup(response.text, 'html.parser')\n",
    "    \n",
    "    conteneur = response_html.find_all('div', class_='paper_paper__1PY90 paper_square__lJX8a card_card__lQWDv card_noPadding__D8PcU styles_cardWrapper__LcCPA styles_show__HUXRb styles_reviewCard__9HxJJ')\n",
    "\n",
    "\n",
    "    for ele in conteneur:\n",
    "        Name = ele.find('div', class_='typography_typography__QgicV typography_bodysmall__irytL typography_weight-medium__UNMDK typography_fontstyle-normal__kHyN3 styles_consumerName__dP8Um').text\n",
    "        NB_avis = ele.find('div', class_='styles_consumerExtraDetails__fxS4S').text[0]+ ' avis'\n",
    "        Localisation = ele.find('div', class_='styles_consumerExtraDetails__fxS4S').text[6:]\n",
    "        Note = ele.find('div', class_='star-rating_starRating__4rrcf star-rating_medium__iN6Ty').img['src'][58:]+'/5'\n",
    "        \n",
    "        try: \n",
    "            Avis = ele.find('p', class_='typography_typography__QgicV typography_body__9UBeQ typography_color-black__5LYEn typography_weight-regular__TWEnf typography_fontstyle-normal__kHyN3').text\n",
    "        except:\n",
    "            Avis = \"No comment\"\n",
    "                \n",
    "\n",
    "\n",
    "        \n",
    "        ls_name.append(Name)\n",
    "        ls_NB_avis.append(NB_avis)\n",
    "        ls_localisation.append(Localisation.replace('s',''))\n",
    "        ls_note.append(Note.replace('.svg',''))\n",
    "        ls_avis.append(Avis)\n",
    "        \n",
    "    page +=1\n",
    "    print(page)"
   ]
  },
  {
   "cell_type": "code",
   "execution_count": 122,
   "id": "2fca5c2a",
   "metadata": {
    "scrolled": true
   },
   "outputs": [
    {
     "data": {
      "text/plain": [
       "750"
      ]
     },
     "execution_count": 122,
     "metadata": {},
     "output_type": "execute_result"
    }
   ],
   "source": [
    "len(ls_name)"
   ]
  },
  {
   "cell_type": "code",
   "execution_count": 123,
   "id": "cc82a14f",
   "metadata": {
    "scrolled": true
   },
   "outputs": [
    {
     "data": {
      "text/plain": [
       "750"
      ]
     },
     "execution_count": 123,
     "metadata": {},
     "output_type": "execute_result"
    }
   ],
   "source": [
    "len(ls_NB_avis)"
   ]
  },
  {
   "cell_type": "code",
   "execution_count": 128,
   "id": "628880f2",
   "metadata": {},
   "outputs": [],
   "source": [
    "#ls_name"
   ]
  },
  {
   "cell_type": "code",
   "execution_count": null,
   "id": "13c4e164",
   "metadata": {},
   "outputs": [],
   "source": []
  },
  {
   "cell_type": "markdown",
   "id": "9b8a2b9f",
   "metadata": {},
   "source": [
    "# Dictionnaire"
   ]
  },
  {
   "cell_type": "code",
   "execution_count": 125,
   "id": "7b633e12",
   "metadata": {},
   "outputs": [],
   "source": [
    "Trustpilot_Renault = pd.DataFrame({'Name':ls_name, 'Nombre d avis':ls_NB_avis, \"Localisation\":ls_localisation, 'Note':ls_note, 'Avis':ls_avis })"
   ]
  },
  {
   "cell_type": "code",
   "execution_count": 126,
   "id": "c90bf128",
   "metadata": {},
   "outputs": [
    {
     "data": {
      "text/html": [
       "<div>\n",
       "<style scoped>\n",
       "    .dataframe tbody tr th:only-of-type {\n",
       "        vertical-align: middle;\n",
       "    }\n",
       "\n",
       "    .dataframe tbody tr th {\n",
       "        vertical-align: top;\n",
       "    }\n",
       "\n",
       "    .dataframe thead th {\n",
       "        text-align: right;\n",
       "    }\n",
       "</style>\n",
       "<table border=\"1\" class=\"dataframe\">\n",
       "  <thead>\n",
       "    <tr style=\"text-align: right;\">\n",
       "      <th></th>\n",
       "      <th>Name</th>\n",
       "      <th>Nombre d avis</th>\n",
       "      <th>Localisation</th>\n",
       "      <th>Note</th>\n",
       "      <th>Avis</th>\n",
       "    </tr>\n",
       "  </thead>\n",
       "  <tbody>\n",
       "    <tr>\n",
       "      <th>0</th>\n",
       "      <td>simon sylvie</td>\n",
       "      <td>1 avis</td>\n",
       "      <td>FR</td>\n",
       "      <td>5/5</td>\n",
       "      <td>Personnes très accueillantes et professionnell...</td>\n",
       "    </tr>\n",
       "    <tr>\n",
       "      <th>1</th>\n",
       "      <td>Isabelle Sarré Bouland</td>\n",
       "      <td>2 avis</td>\n",
       "      <td>FR</td>\n",
       "      <td>5/5</td>\n",
       "      <td>Très bon accueil.Equipe compétente et professi...</td>\n",
       "    </tr>\n",
       "    <tr>\n",
       "      <th>2</th>\n",
       "      <td>david riou</td>\n",
       "      <td>1 avis</td>\n",
       "      <td>FR</td>\n",
       "      <td>4/5</td>\n",
       "      <td>No comment</td>\n",
       "    </tr>\n",
       "    <tr>\n",
       "      <th>3</th>\n",
       "      <td>joel malenfant</td>\n",
       "      <td>1 avis</td>\n",
       "      <td>FR</td>\n",
       "      <td>5/5</td>\n",
       "      <td>Désirant changer mon S.U.V contre un véhicule ...</td>\n",
       "    </tr>\n",
       "    <tr>\n",
       "      <th>4</th>\n",
       "      <td>Christian Provost</td>\n",
       "      <td>1 avis</td>\n",
       "      <td>FR</td>\n",
       "      <td>5/5</td>\n",
       "      <td>Parfait ! Excellent professionnalisme !</td>\n",
       "    </tr>\n",
       "    <tr>\n",
       "      <th>...</th>\n",
       "      <td>...</td>\n",
       "      <td>...</td>\n",
       "      <td>...</td>\n",
       "      <td>...</td>\n",
       "      <td>...</td>\n",
       "    </tr>\n",
       "    <tr>\n",
       "      <th>745</th>\n",
       "      <td>M. GARREC</td>\n",
       "      <td>1 avis</td>\n",
       "      <td>FR</td>\n",
       "      <td>5/5</td>\n",
       "      <td>J'ai été très bien reçu; la prise en main du v...</td>\n",
       "    </tr>\n",
       "    <tr>\n",
       "      <th>746</th>\n",
       "      <td>M. LE CLERC</td>\n",
       "      <td>1 avis</td>\n",
       "      <td>FR</td>\n",
       "      <td>4/5</td>\n",
       "      <td>Après avoir indentifie  le bon interlocuteur ,...</td>\n",
       "    </tr>\n",
       "    <tr>\n",
       "      <th>747</th>\n",
       "      <td>M. CAROU</td>\n",
       "      <td>1 avis</td>\n",
       "      <td>FR</td>\n",
       "      <td>5/5</td>\n",
       "      <td>tout va bien bon achat !</td>\n",
       "    </tr>\n",
       "    <tr>\n",
       "      <th>748</th>\n",
       "      <td>Anita DUCHESNE</td>\n",
       "      <td>1 avis</td>\n",
       "      <td>FR</td>\n",
       "      <td>5/5</td>\n",
       "      <td>Tres bon accueil ! Excellent suivi sur mon veh...</td>\n",
       "    </tr>\n",
       "    <tr>\n",
       "      <th>749</th>\n",
       "      <td>Breton</td>\n",
       "      <td>2 avis</td>\n",
       "      <td>FR</td>\n",
       "      <td>5/5</td>\n",
       "      <td>A la recherche d'un nouveau véhicule avec pour...</td>\n",
       "    </tr>\n",
       "  </tbody>\n",
       "</table>\n",
       "<p>750 rows × 5 columns</p>\n",
       "</div>"
      ],
      "text/plain": [
       "                       Name Nombre d avis Localisation Note  \\\n",
       "0              simon sylvie        1 avis           FR  5/5   \n",
       "1    Isabelle Sarré Bouland        2 avis           FR  5/5   \n",
       "2                david riou        1 avis           FR  4/5   \n",
       "3            joel malenfant        1 avis           FR  5/5   \n",
       "4         Christian Provost        1 avis           FR  5/5   \n",
       "..                      ...           ...          ...  ...   \n",
       "745               M. GARREC        1 avis           FR  5/5   \n",
       "746             M. LE CLERC        1 avis           FR  4/5   \n",
       "747                M. CAROU        1 avis           FR  5/5   \n",
       "748          Anita DUCHESNE        1 avis           FR  5/5   \n",
       "749                  Breton        2 avis           FR  5/5   \n",
       "\n",
       "                                                  Avis  \n",
       "0    Personnes très accueillantes et professionnell...  \n",
       "1    Très bon accueil.Equipe compétente et professi...  \n",
       "2                                           No comment  \n",
       "3    Désirant changer mon S.U.V contre un véhicule ...  \n",
       "4              Parfait ! Excellent professionnalisme !  \n",
       "..                                                 ...  \n",
       "745  J'ai été très bien reçu; la prise en main du v...  \n",
       "746  Après avoir indentifie  le bon interlocuteur ,...  \n",
       "747                           tout va bien bon achat !  \n",
       "748  Tres bon accueil ! Excellent suivi sur mon veh...  \n",
       "749  A la recherche d'un nouveau véhicule avec pour...  \n",
       "\n",
       "[750 rows x 5 columns]"
      ]
     },
     "execution_count": 126,
     "metadata": {},
     "output_type": "execute_result"
    }
   ],
   "source": [
    "Trustpilot_Renault"
   ]
  },
  {
   "cell_type": "code",
   "execution_count": null,
   "id": "2861ffce",
   "metadata": {},
   "outputs": [],
   "source": []
  },
  {
   "cell_type": "markdown",
   "id": "1b0506b1",
   "metadata": {},
   "source": [
    "# Exportation du fichier"
   ]
  },
  {
   "cell_type": "code",
   "execution_count": 127,
   "id": "85e7334e",
   "metadata": {},
   "outputs": [],
   "source": [
    "Trustpilot_Renault.to_csv('Trustpilot_Renault.csv')"
   ]
  },
  {
   "cell_type": "code",
   "execution_count": null,
   "id": "d4118be1",
   "metadata": {},
   "outputs": [],
   "source": []
  },
  {
   "cell_type": "raw",
   "id": "9f5e0fa1",
   "metadata": {},
   "source": [
    "Il manque 19 commentaires\n",
    "L'exportation est problématique pour certains commentaires qui sont mis à la ligne"
   ]
  }
 ],
 "metadata": {
  "kernelspec": {
   "display_name": "Python 3 (ipykernel)",
   "language": "python",
   "name": "python3"
  },
  "language_info": {
   "codemirror_mode": {
    "name": "ipython",
    "version": 3
   },
   "file_extension": ".py",
   "mimetype": "text/x-python",
   "name": "python",
   "nbconvert_exporter": "python",
   "pygments_lexer": "ipython3",
   "version": "3.9.13"
  }
 },
 "nbformat": 4,
 "nbformat_minor": 5
}
