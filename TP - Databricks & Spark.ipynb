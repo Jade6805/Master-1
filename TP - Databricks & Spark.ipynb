{
 "cells": [
  {
   "cell_type": "markdown",
   "metadata": {
    "application/vnd.databricks.v1+cell": {
     "inputWidgets": {},
     "nuid": "8e8d2f63-4d77-426b-90bc-d06cb522e907",
     "showTitle": false,
     "title": ""
    }
   },
   "source": [
    "# Tp - Databricks 1 Spark"
   ]
  },
  {
   "cell_type": "markdown",
   "metadata": {
    "application/vnd.databricks.v1+cell": {
     "inputWidgets": {},
     "nuid": "a04fa744-e115-4cab-88ad-1079437c049a",
     "showTitle": false,
     "title": ""
    }
   },
   "source": [
    "## Charger les données sur Databricks"
   ]
  },
  {
   "cell_type": "code",
   "execution_count": 0,
   "metadata": {
    "application/vnd.databricks.v1+cell": {
     "inputWidgets": {},
     "nuid": "5f8ce16c-b9fc-472b-a970-31e64f2d4305",
     "showTitle": false,
     "title": ""
    }
   },
   "outputs": [
    {
     "data": {
      "text/html": [
       "<style scoped>\n",
       "  .table-result-container {\n",
       "    max-height: 300px;\n",
       "    overflow: auto;\n",
       "  }\n",
       "  table, th, td {\n",
       "    border: 1px solid black;\n",
       "    border-collapse: collapse;\n",
       "  }\n",
       "  th, td {\n",
       "    padding: 5px;\n",
       "  }\n",
       "  th {\n",
       "    text-align: left;\n",
       "  }\n",
       "</style><div class='table-result-container'><table class='table-result'><thead style='background-color: white'><tr><th>path</th><th>name</th><th>size</th></tr></thead><tbody><tr><td>dbfs:/FileStore/tables/LifeExp-1.csv</td><td>LifeExp-1.csv</td><td>4376</td></tr><tr><td>dbfs:/FileStore/tables/LifeExp.csv</td><td>LifeExp.csv</td><td>4376</td></tr><tr><td>dbfs:/FileStore/tables/LifeExp_headers-1.csv</td><td>LifeExp_headers-1.csv</td><td>4400</td></tr><tr><td>dbfs:/FileStore/tables/LifeExp_headers.csv</td><td>LifeExp_headers.csv</td><td>4400</td></tr><tr><td>dbfs:/FileStore/tables/advert-1.csv</td><td>advert-1.csv</td><td>10926</td></tr><tr><td>dbfs:/FileStore/tables/advert.csv</td><td>advert.csv</td><td>10926</td></tr><tr><td>dbfs:/FileStore/tables/auto1-1.parquet</td><td>auto1-1.parquet</td><td>1177</td></tr><tr><td>dbfs:/FileStore/tables/auto1.parquet</td><td>auto1.parquet</td><td>1177</td></tr><tr><td>dbfs:/FileStore/tables/autos-1.csv</td><td>autos-1.csv</td><td>68439217</td></tr><tr><td>dbfs:/FileStore/tables/autos.csv</td><td>autos.csv</td><td>68439217</td></tr><tr><td>dbfs:/FileStore/tables/client__1_.csv</td><td>client__1_.csv</td><td>551</td></tr><tr><td>dbfs:/FileStore/tables/commande.csv</td><td>commande.csv</td><td>320</td></tr><tr><td>dbfs:/FileStore/tables/cops_02_snappy-1.parquet</td><td>cops_02_snappy-1.parquet</td><td>45972543</td></tr><tr><td>dbfs:/FileStore/tables/cops_02_snappy.parquet</td><td>cops_02_snappy.parquet</td><td>45972543</td></tr><tr><td>dbfs:/FileStore/tables/cops_03_snappy-1.parquet</td><td>cops_03_snappy-1.parquet</td><td>45972543</td></tr><tr><td>dbfs:/FileStore/tables/cops_03_snappy.parquet</td><td>cops_03_snappy.parquet</td><td>45972543</td></tr><tr><td>dbfs:/FileStore/tables/dept-1.csv</td><td>dept-1.csv</td><td>302</td></tr><tr><td>dbfs:/FileStore/tables/dept.csv</td><td>dept.csv</td><td>302</td></tr><tr><td>dbfs:/FileStore/tables/dept_snappy-1.parquet</td><td>dept_snappy-1.parquet</td><td>1269</td></tr><tr><td>dbfs:/FileStore/tables/dept_snappy.parquet</td><td>dept_snappy.parquet</td><td>1269</td></tr><tr><td>dbfs:/FileStore/tables/emp1-1.parquet</td><td>emp1-1.parquet</td><td>2953</td></tr><tr><td>dbfs:/FileStore/tables/emp1.parquet</td><td>emp1.parquet</td><td>2953</td></tr><tr><td>dbfs:/FileStore/tables/emp_snappy-1.parquet</td><td>emp_snappy-1.parquet</td><td>2913</td></tr><tr><td>dbfs:/FileStore/tables/emp_snappy.parquet</td><td>emp_snappy.parquet</td><td>2913</td></tr><tr><td>dbfs:/FileStore/tables/fire_callsX_comma-1.csv</td><td>fire_callsX_comma-1.csv</td><td>141412467</td></tr><tr><td>dbfs:/FileStore/tables/fire_callsX_comma.csv</td><td>fire_callsX_comma.csv</td><td>141412467</td></tr><tr><td>dbfs:/FileStore/tables/fly1-1.parquet</td><td>fly1-1.parquet</td><td>1471850</td></tr><tr><td>dbfs:/FileStore/tables/fly1.parquet</td><td>fly1.parquet</td><td>1471850</td></tr><tr><td>dbfs:/FileStore/tables/fournisseur__1_.csv</td><td>fournisseur__1_.csv</td><td>228</td></tr><tr><td>dbfs:/FileStore/tables/header_airports-1.csv</td><td>header_airports-1.csv</td><td>205888</td></tr><tr><td>dbfs:/FileStore/tables/header_airports.csv</td><td>header_airports.csv</td><td>205888</td></tr><tr><td>dbfs:/FileStore/tables/header_carriers-1.csv</td><td>header_carriers-1.csv</td><td>37794</td></tr><tr><td>dbfs:/FileStore/tables/header_carriers.csv</td><td>header_carriers.csv</td><td>37794</td></tr><tr><td>dbfs:/FileStore/tables/header_flights-1.csv</td><td>header_flights-1.csv</td><td>136035443</td></tr><tr><td>dbfs:/FileStore/tables/header_flights.csv</td><td>header_flights.csv</td><td>136035443</td></tr><tr><td>dbfs:/FileStore/tables/header_flights_abbr-1.csv</td><td>header_flights_abbr-1.csv</td><td>32327</td></tr><tr><td>dbfs:/FileStore/tables/header_flights_abbr.csv</td><td>header_flights_abbr.csv</td><td>32327</td></tr><tr><td>dbfs:/FileStore/tables/header_planes-1.csv</td><td>header_planes-1.csv</td><td>432996</td></tr><tr><td>dbfs:/FileStore/tables/header_planes.csv</td><td>header_planes.csv</td><td>432996</td></tr><tr><td>dbfs:/FileStore/tables/heart1-1.csv</td><td>heart1-1.csv</td><td>11087</td></tr><tr><td>dbfs:/FileStore/tables/heart1.csv</td><td>heart1.csv</td><td>11087</td></tr><tr><td>dbfs:/FileStore/tables/hour-1.csv</td><td>hour-1.csv</td><td>1156736</td></tr><tr><td>dbfs:/FileStore/tables/hour.csv</td><td>hour.csv</td><td>1156736</td></tr><tr><td>dbfs:/FileStore/tables/lincoln-1.txt</td><td>lincoln-1.txt</td><td>1472</td></tr><tr><td>dbfs:/FileStore/tables/lincoln.txt</td><td>lincoln.txt</td><td>1472</td></tr><tr><td>dbfs:/FileStore/tables/mary-1.txt</td><td>mary-1.txt</td><td>106</td></tr><tr><td>dbfs:/FileStore/tables/mary.txt</td><td>mary.txt</td><td>106</td></tr><tr><td>dbfs:/FileStore/tables/movieid-1.txt</td><td>movieid-1.txt</td><td>236435</td></tr><tr><td>dbfs:/FileStore/tables/movieid.txt</td><td>movieid.txt</td><td>236435</td></tr><tr><td>dbfs:/FileStore/tables/movielens_ratings-1.txt</td><td>movielens_ratings-1.txt</td><td>29391</td></tr><tr><td>dbfs:/FileStore/tables/movielens_ratings.txt</td><td>movielens_ratings.txt</td><td>29391</td></tr><tr><td>dbfs:/FileStore/tables/names1-1.csv</td><td>names1-1.csv</td><td>81</td></tr><tr><td>dbfs:/FileStore/tables/names1-1.json</td><td>names1-1.json</td><td>263</td></tr><tr><td>dbfs:/FileStore/tables/names1.csv</td><td>names1.csv</td><td>81</td></tr><tr><td>dbfs:/FileStore/tables/names1.json</td><td>names1.json</td><td>263</td></tr><tr><td>dbfs:/FileStore/tables/neighbooddistricts-1.csv</td><td>neighbooddistricts-1.csv</td><td>629</td></tr><tr><td>dbfs:/FileStore/tables/neighbooddistricts.csv</td><td>neighbooddistricts.csv</td><td>629</td></tr><tr><td>dbfs:/FileStore/tables/piece.csv</td><td>piece.csv</td><td>262</td></tr><tr><td>dbfs:/FileStore/tables/school1-1.parquet</td><td>school1-1.parquet</td><td>982</td></tr><tr><td>dbfs:/FileStore/tables/school1.parquet</td><td>school1.parquet</td><td>982</td></tr><tr><td>dbfs:/FileStore/tables/state_city-1.json</td><td>state_city-1.json</td><td>156</td></tr><tr><td>dbfs:/FileStore/tables/state_city.json</td><td>state_city.json</td><td>156</td></tr><tr><td>dbfs:/FileStore/tables/teams-1.csv</td><td>teams-1.csv</td><td>524526</td></tr><tr><td>dbfs:/FileStore/tables/teams.csv</td><td>teams.csv</td><td>524526</td></tr><tr><td>dbfs:/FileStore/tables/temp1-1.parquet</td><td>temp1-1.parquet</td><td>1043</td></tr><tr><td>dbfs:/FileStore/tables/temp1.parquet</td><td>temp1.parquet</td><td>1043</td></tr><tr><td>dbfs:/FileStore/tables/temp_array_null-1.parquet</td><td>temp_array_null-1.parquet</td><td>1038</td></tr><tr><td>dbfs:/FileStore/tables/temp_array_null.parquet</td><td>temp_array_null.parquet</td><td>1038</td></tr><tr><td>dbfs:/FileStore/tables/titanic_master-1.txt</td><td>titanic_master-1.txt</td><td>61197</td></tr><tr><td>dbfs:/FileStore/tables/titanic_master.txt</td><td>titanic_master.txt</td><td>61197</td></tr><tr><td>dbfs:/FileStore/tables/u-1.data</td><td>u-1.data</td><td>1979173</td></tr><tr><td>dbfs:/FileStore/tables/u-1.item</td><td>u-1.item</td><td>236344</td></tr><tr><td>dbfs:/FileStore/tables/u.data</td><td>u.data</td><td>1979173</td></tr><tr><td>dbfs:/FileStore/tables/u.item</td><td>u.item</td><td>236344</td></tr><tr><td>dbfs:/FileStore/tables/webevent-1.csv</td><td>webevent-1.csv</td><td>47898</td></tr><tr><td>dbfs:/FileStore/tables/webevent.csv</td><td>webevent.csv</td><td>47898</td></tr></tbody></table></div>"
      ]
     },
     "metadata": {
      "application/vnd.databricks.v1+output": {
       "addedWidgets": {},
       "aggData": [],
       "aggError": "",
       "aggOverflow": false,
       "aggSchema": [],
       "aggSeriesLimitReached": false,
       "aggType": "",
       "arguments": {},
       "columnCustomDisplayInfos": {},
       "data": [
        [
         "dbfs:/FileStore/tables/LifeExp-1.csv",
         "LifeExp-1.csv",
         4376
        ],
        [
         "dbfs:/FileStore/tables/LifeExp.csv",
         "LifeExp.csv",
         4376
        ],
        [
         "dbfs:/FileStore/tables/LifeExp_headers-1.csv",
         "LifeExp_headers-1.csv",
         4400
        ],
        [
         "dbfs:/FileStore/tables/LifeExp_headers.csv",
         "LifeExp_headers.csv",
         4400
        ],
        [
         "dbfs:/FileStore/tables/advert-1.csv",
         "advert-1.csv",
         10926
        ],
        [
         "dbfs:/FileStore/tables/advert.csv",
         "advert.csv",
         10926
        ],
        [
         "dbfs:/FileStore/tables/auto1-1.parquet",
         "auto1-1.parquet",
         1177
        ],
        [
         "dbfs:/FileStore/tables/auto1.parquet",
         "auto1.parquet",
         1177
        ],
        [
         "dbfs:/FileStore/tables/autos-1.csv",
         "autos-1.csv",
         68439217
        ],
        [
         "dbfs:/FileStore/tables/autos.csv",
         "autos.csv",
         68439217
        ],
        [
         "dbfs:/FileStore/tables/client__1_.csv",
         "client__1_.csv",
         551
        ],
        [
         "dbfs:/FileStore/tables/commande.csv",
         "commande.csv",
         320
        ],
        [
         "dbfs:/FileStore/tables/cops_02_snappy-1.parquet",
         "cops_02_snappy-1.parquet",
         45972543
        ],
        [
         "dbfs:/FileStore/tables/cops_02_snappy.parquet",
         "cops_02_snappy.parquet",
         45972543
        ],
        [
         "dbfs:/FileStore/tables/cops_03_snappy-1.parquet",
         "cops_03_snappy-1.parquet",
         45972543
        ],
        [
         "dbfs:/FileStore/tables/cops_03_snappy.parquet",
         "cops_03_snappy.parquet",
         45972543
        ],
        [
         "dbfs:/FileStore/tables/dept-1.csv",
         "dept-1.csv",
         302
        ],
        [
         "dbfs:/FileStore/tables/dept.csv",
         "dept.csv",
         302
        ],
        [
         "dbfs:/FileStore/tables/dept_snappy-1.parquet",
         "dept_snappy-1.parquet",
         1269
        ],
        [
         "dbfs:/FileStore/tables/dept_snappy.parquet",
         "dept_snappy.parquet",
         1269
        ],
        [
         "dbfs:/FileStore/tables/emp1-1.parquet",
         "emp1-1.parquet",
         2953
        ],
        [
         "dbfs:/FileStore/tables/emp1.parquet",
         "emp1.parquet",
         2953
        ],
        [
         "dbfs:/FileStore/tables/emp_snappy-1.parquet",
         "emp_snappy-1.parquet",
         2913
        ],
        [
         "dbfs:/FileStore/tables/emp_snappy.parquet",
         "emp_snappy.parquet",
         2913
        ],
        [
         "dbfs:/FileStore/tables/fire_callsX_comma-1.csv",
         "fire_callsX_comma-1.csv",
         141412467
        ],
        [
         "dbfs:/FileStore/tables/fire_callsX_comma.csv",
         "fire_callsX_comma.csv",
         141412467
        ],
        [
         "dbfs:/FileStore/tables/fly1-1.parquet",
         "fly1-1.parquet",
         1471850
        ],
        [
         "dbfs:/FileStore/tables/fly1.parquet",
         "fly1.parquet",
         1471850
        ],
        [
         "dbfs:/FileStore/tables/fournisseur__1_.csv",
         "fournisseur__1_.csv",
         228
        ],
        [
         "dbfs:/FileStore/tables/header_airports-1.csv",
         "header_airports-1.csv",
         205888
        ],
        [
         "dbfs:/FileStore/tables/header_airports.csv",
         "header_airports.csv",
         205888
        ],
        [
         "dbfs:/FileStore/tables/header_carriers-1.csv",
         "header_carriers-1.csv",
         37794
        ],
        [
         "dbfs:/FileStore/tables/header_carriers.csv",
         "header_carriers.csv",
         37794
        ],
        [
         "dbfs:/FileStore/tables/header_flights-1.csv",
         "header_flights-1.csv",
         136035443
        ],
        [
         "dbfs:/FileStore/tables/header_flights.csv",
         "header_flights.csv",
         136035443
        ],
        [
         "dbfs:/FileStore/tables/header_flights_abbr-1.csv",
         "header_flights_abbr-1.csv",
         32327
        ],
        [
         "dbfs:/FileStore/tables/header_flights_abbr.csv",
         "header_flights_abbr.csv",
         32327
        ],
        [
         "dbfs:/FileStore/tables/header_planes-1.csv",
         "header_planes-1.csv",
         432996
        ],
        [
         "dbfs:/FileStore/tables/header_planes.csv",
         "header_planes.csv",
         432996
        ],
        [
         "dbfs:/FileStore/tables/heart1-1.csv",
         "heart1-1.csv",
         11087
        ],
        [
         "dbfs:/FileStore/tables/heart1.csv",
         "heart1.csv",
         11087
        ],
        [
         "dbfs:/FileStore/tables/hour-1.csv",
         "hour-1.csv",
         1156736
        ],
        [
         "dbfs:/FileStore/tables/hour.csv",
         "hour.csv",
         1156736
        ],
        [
         "dbfs:/FileStore/tables/lincoln-1.txt",
         "lincoln-1.txt",
         1472
        ],
        [
         "dbfs:/FileStore/tables/lincoln.txt",
         "lincoln.txt",
         1472
        ],
        [
         "dbfs:/FileStore/tables/mary-1.txt",
         "mary-1.txt",
         106
        ],
        [
         "dbfs:/FileStore/tables/mary.txt",
         "mary.txt",
         106
        ],
        [
         "dbfs:/FileStore/tables/movieid-1.txt",
         "movieid-1.txt",
         236435
        ],
        [
         "dbfs:/FileStore/tables/movieid.txt",
         "movieid.txt",
         236435
        ],
        [
         "dbfs:/FileStore/tables/movielens_ratings-1.txt",
         "movielens_ratings-1.txt",
         29391
        ],
        [
         "dbfs:/FileStore/tables/movielens_ratings.txt",
         "movielens_ratings.txt",
         29391
        ],
        [
         "dbfs:/FileStore/tables/names1-1.csv",
         "names1-1.csv",
         81
        ],
        [
         "dbfs:/FileStore/tables/names1-1.json",
         "names1-1.json",
         263
        ],
        [
         "dbfs:/FileStore/tables/names1.csv",
         "names1.csv",
         81
        ],
        [
         "dbfs:/FileStore/tables/names1.json",
         "names1.json",
         263
        ],
        [
         "dbfs:/FileStore/tables/neighbooddistricts-1.csv",
         "neighbooddistricts-1.csv",
         629
        ],
        [
         "dbfs:/FileStore/tables/neighbooddistricts.csv",
         "neighbooddistricts.csv",
         629
        ],
        [
         "dbfs:/FileStore/tables/piece.csv",
         "piece.csv",
         262
        ],
        [
         "dbfs:/FileStore/tables/school1-1.parquet",
         "school1-1.parquet",
         982
        ],
        [
         "dbfs:/FileStore/tables/school1.parquet",
         "school1.parquet",
         982
        ],
        [
         "dbfs:/FileStore/tables/state_city-1.json",
         "state_city-1.json",
         156
        ],
        [
         "dbfs:/FileStore/tables/state_city.json",
         "state_city.json",
         156
        ],
        [
         "dbfs:/FileStore/tables/teams-1.csv",
         "teams-1.csv",
         524526
        ],
        [
         "dbfs:/FileStore/tables/teams.csv",
         "teams.csv",
         524526
        ],
        [
         "dbfs:/FileStore/tables/temp1-1.parquet",
         "temp1-1.parquet",
         1043
        ],
        [
         "dbfs:/FileStore/tables/temp1.parquet",
         "temp1.parquet",
         1043
        ],
        [
         "dbfs:/FileStore/tables/temp_array_null-1.parquet",
         "temp_array_null-1.parquet",
         1038
        ],
        [
         "dbfs:/FileStore/tables/temp_array_null.parquet",
         "temp_array_null.parquet",
         1038
        ],
        [
         "dbfs:/FileStore/tables/titanic_master-1.txt",
         "titanic_master-1.txt",
         61197
        ],
        [
         "dbfs:/FileStore/tables/titanic_master.txt",
         "titanic_master.txt",
         61197
        ],
        [
         "dbfs:/FileStore/tables/u-1.data",
         "u-1.data",
         1979173
        ],
        [
         "dbfs:/FileStore/tables/u-1.item",
         "u-1.item",
         236344
        ],
        [
         "dbfs:/FileStore/tables/u.data",
         "u.data",
         1979173
        ],
        [
         "dbfs:/FileStore/tables/u.item",
         "u.item",
         236344
        ],
        [
         "dbfs:/FileStore/tables/webevent-1.csv",
         "webevent-1.csv",
         47898
        ],
        [
         "dbfs:/FileStore/tables/webevent.csv",
         "webevent.csv",
         47898
        ]
       ],
       "datasetInfos": [],
       "dbfsResultPath": null,
       "isJsonSchema": true,
       "metadata": {},
       "overflow": false,
       "plotOptions": {
        "customPlotOptions": {},
        "displayType": "table",
        "pivotAggregation": null,
        "pivotColumns": null,
        "xColumns": null,
        "yColumns": null
       },
       "removedWidgets": [],
       "schema": [
        {
         "metadata": "{}",
         "name": "path",
         "type": "\"string\""
        },
        {
         "metadata": "{}",
         "name": "name",
         "type": "\"string\""
        },
        {
         "metadata": "{}",
         "name": "size",
         "type": "\"long\""
        }
       ],
       "type": "table"
      }
     },
     "output_type": "display_data"
    }
   ],
   "source": [
    "\n",
    "display(dbutils.fs.ls(\"dbfs:/FileStore/tables/\"))"
   ]
  },
  {
   "cell_type": "markdown",
   "metadata": {
    "application/vnd.databricks.v1+cell": {
     "inputWidgets": {},
     "nuid": "f5323f8c-a465-41d4-8ba7-27a8ce8a5897",
     "showTitle": false,
     "title": ""
    }
   },
   "source": [
    "### Table Piece"
   ]
  },
  {
   "cell_type": "code",
   "execution_count": 0,
   "metadata": {
    "application/vnd.databricks.v1+cell": {
     "inputWidgets": {},
     "nuid": "a72d81a8-96b2-4c23-8a2f-86ad6ed13904",
     "showTitle": false,
     "title": ""
    }
   },
   "outputs": [
    {
     "data": {
      "text/html": [
       "<style scoped>\n",
       "  .table-result-container {\n",
       "    max-height: 300px;\n",
       "    overflow: auto;\n",
       "  }\n",
       "  table, th, td {\n",
       "    border: 1px solid black;\n",
       "    border-collapse: collapse;\n",
       "  }\n",
       "  th, td {\n",
       "    padding: 5px;\n",
       "  }\n",
       "  th {\n",
       "    text-align: left;\n",
       "  }\n",
       "</style><div class='table-result-container'><table class='table-result'><thead style='background-color: white'><tr></tr></thead><tbody></tbody></table></div>"
      ]
     },
     "metadata": {
      "application/vnd.databricks.v1+output": {
       "addedWidgets": {},
       "aggData": [],
       "aggError": "",
       "aggOverflow": false,
       "aggSchema": [],
       "aggSeriesLimitReached": false,
       "aggType": "",
       "arguments": {},
       "columnCustomDisplayInfos": {},
       "data": [],
       "datasetInfos": [],
       "dbfsResultPath": null,
       "isJsonSchema": true,
       "metadata": {},
       "overflow": false,
       "plotOptions": {
        "customPlotOptions": {},
        "displayType": "table",
        "pivotAggregation": null,
        "pivotColumns": null,
        "xColumns": null,
        "yColumns": null
       },
       "removedWidgets": [],
       "schema": [],
       "type": "table"
      }
     },
     "output_type": "display_data"
    }
   ],
   "source": [
    "%sql\n",
    "\n",
    "DROP TABLE IF EXISTS piece;\n",
    "\n",
    "CREATE TABLE piece\n",
    "USING csv\n",
    "OPTIONS (path \"dbfs:/FileStore/tables/piece.csv\", header \"true\", sep =';')\n"
   ]
  },
  {
   "cell_type": "code",
   "execution_count": 0,
   "metadata": {
    "application/vnd.databricks.v1+cell": {
     "inputWidgets": {},
     "nuid": "0072d29e-f0ec-43fd-99ed-7539e5fb14b1",
     "showTitle": false,
     "title": ""
    }
   },
   "outputs": [
    {
     "data": {
      "text/html": [
       "<style scoped>\n",
       "  .table-result-container {\n",
       "    max-height: 300px;\n",
       "    overflow: auto;\n",
       "  }\n",
       "  table, th, td {\n",
       "    border: 1px solid black;\n",
       "    border-collapse: collapse;\n",
       "  }\n",
       "  th, td {\n",
       "    padding: 5px;\n",
       "  }\n",
       "  th {\n",
       "    text-align: left;\n",
       "  }\n",
       "</style><div class='table-result-container'><table class='table-result'><thead style='background-color: white'><tr><th>numpce</th><th>nompce</th><th>pupce</th><th>qtestpce</th><th>numfour</th></tr></thead><tbody><tr><td>d32</td><td>bielette</td><td>830,67</td><td>8</td><td>1002101</td></tr><tr><td>e25</td><td>capot</td><td>890</td><td>3</td><td>4007101</td></tr><tr><td>f33</td><td>axe</td><td>410</td><td>50</td><td>4007101</td></tr><tr><td>g101</td><td>moteur</td><td>1215</td><td>2</td><td>4006901</td></tr><tr><td>r202</td><td>verrin</td><td>550</td><td>10</td><td>3006901</td></tr><tr><td>r205</td><td>visserie</td><td>180</td><td>120</td><td>3006901</td></tr><tr><td>r204</td><td>support</td><td>450</td><td>4</td><td>5008102</td></tr><tr><td>z222</td><td>calandre</td><td>615</td><td>7</td><td>5008001</td></tr></tbody></table></div>"
      ]
     },
     "metadata": {
      "application/vnd.databricks.v1+output": {
       "addedWidgets": {},
       "aggData": [],
       "aggError": "",
       "aggOverflow": false,
       "aggSchema": [],
       "aggSeriesLimitReached": false,
       "aggType": "",
       "arguments": {},
       "columnCustomDisplayInfos": {},
       "data": [
        [
         "d32",
         "bielette",
         "830,67",
         "8",
         "1002101"
        ],
        [
         "e25",
         "capot",
         "890",
         "3",
         "4007101"
        ],
        [
         "f33",
         "axe",
         "410",
         "50",
         "4007101"
        ],
        [
         "g101",
         "moteur",
         "1215",
         "2",
         "4006901"
        ],
        [
         "r202",
         "verrin",
         "550",
         "10",
         "3006901"
        ],
        [
         "r205",
         "visserie",
         "180",
         "120",
         "3006901"
        ],
        [
         "r204",
         "support",
         "450",
         "4",
         "5008102"
        ],
        [
         "z222",
         "calandre",
         "615",
         "7",
         "5008001"
        ]
       ],
       "datasetInfos": [],
       "dbfsResultPath": null,
       "isJsonSchema": true,
       "metadata": {},
       "overflow": false,
       "plotOptions": {
        "customPlotOptions": {},
        "displayType": "table",
        "pivotAggregation": null,
        "pivotColumns": null,
        "xColumns": null,
        "yColumns": null
       },
       "removedWidgets": [],
       "schema": [
        {
         "metadata": "{}",
         "name": "numpce",
         "type": "\"string\""
        },
        {
         "metadata": "{}",
         "name": "nompce",
         "type": "\"string\""
        },
        {
         "metadata": "{}",
         "name": "pupce",
         "type": "\"string\""
        },
        {
         "metadata": "{}",
         "name": "qtestpce",
         "type": "\"string\""
        },
        {
         "metadata": "{}",
         "name": "numfour",
         "type": "\"string\""
        }
       ],
       "type": "table"
      }
     },
     "output_type": "display_data"
    }
   ],
   "source": [
    "%sql \n",
    "select *\n",
    "from piece"
   ]
  },
  {
   "cell_type": "code",
   "execution_count": 0,
   "metadata": {
    "application/vnd.databricks.v1+cell": {
     "inputWidgets": {},
     "nuid": "5561d965-15ef-44e7-a92e-5306a2f9db07",
     "showTitle": false,
     "title": ""
    }
   },
   "outputs": [
    {
     "data": {
      "text/html": [
       "<style scoped>\n",
       "  .table-result-container {\n",
       "    max-height: 300px;\n",
       "    overflow: auto;\n",
       "  }\n",
       "  table, th, td {\n",
       "    border: 1px solid black;\n",
       "    border-collapse: collapse;\n",
       "  }\n",
       "  th, td {\n",
       "    padding: 5px;\n",
       "  }\n",
       "  th {\n",
       "    text-align: left;\n",
       "  }\n",
       "</style><div class='table-result-container'><table class='table-result'><thead style='background-color: white'><tr></tr></thead><tbody></tbody></table></div>"
      ]
     },
     "metadata": {
      "application/vnd.databricks.v1+output": {
       "addedWidgets": {},
       "aggData": [],
       "aggError": "",
       "aggOverflow": false,
       "aggSchema": [],
       "aggSeriesLimitReached": false,
       "aggType": "",
       "arguments": {},
       "columnCustomDisplayInfos": {},
       "data": [],
       "datasetInfos": [],
       "dbfsResultPath": null,
       "isJsonSchema": true,
       "metadata": {},
       "overflow": false,
       "plotOptions": {
        "customPlotOptions": {},
        "displayType": "table",
        "pivotAggregation": null,
        "pivotColumns": null,
        "xColumns": null,
        "yColumns": null
       },
       "removedWidgets": [],
       "schema": [],
       "type": "table"
      }
     },
     "output_type": "display_data"
    }
   ],
   "source": [
    "%sql \n",
    "\n",
    "\n",
    "DROP TABLE IF EXISTS piece1;\n",
    "\n",
    "CREATE TABLE piece1\n",
    "select \n",
    "numpce, \n",
    "nompce,\n",
    "replace(pupce,',','.') as pupce,\n",
    "int(qtestpce),\n",
    "numfour\n",
    "from piece "
   ]
  },
  {
   "cell_type": "code",
   "execution_count": 0,
   "metadata": {
    "application/vnd.databricks.v1+cell": {
     "inputWidgets": {},
     "nuid": "f2bd1c3a-599e-4b22-8c1a-e056e30b386a",
     "showTitle": false,
     "title": ""
    }
   },
   "outputs": [
    {
     "data": {
      "text/html": [
       "<style scoped>\n",
       "  .table-result-container {\n",
       "    max-height: 300px;\n",
       "    overflow: auto;\n",
       "  }\n",
       "  table, th, td {\n",
       "    border: 1px solid black;\n",
       "    border-collapse: collapse;\n",
       "  }\n",
       "  th, td {\n",
       "    padding: 5px;\n",
       "  }\n",
       "  th {\n",
       "    text-align: left;\n",
       "  }\n",
       "</style><div class='table-result-container'><table class='table-result'><thead style='background-color: white'><tr></tr></thead><tbody></tbody></table></div>"
      ]
     },
     "metadata": {
      "application/vnd.databricks.v1+output": {
       "addedWidgets": {},
       "aggData": [],
       "aggError": "",
       "aggOverflow": false,
       "aggSchema": [],
       "aggSeriesLimitReached": false,
       "aggType": "",
       "arguments": {},
       "columnCustomDisplayInfos": {},
       "data": [],
       "datasetInfos": [],
       "dbfsResultPath": null,
       "isJsonSchema": true,
       "metadata": {},
       "overflow": false,
       "plotOptions": {
        "customPlotOptions": {},
        "displayType": "table",
        "pivotAggregation": null,
        "pivotColumns": null,
        "xColumns": null,
        "yColumns": null
       },
       "removedWidgets": [],
       "schema": [],
       "type": "table"
      }
     },
     "output_type": "display_data"
    }
   ],
   "source": [
    "%sql \n",
    "\n",
    "\n",
    "DROP TABLE IF EXISTS piece;\n",
    "\n",
    "CREATE TABLE piece\n",
    "select \n",
    "numpce, \n",
    "nompce,\n",
    "float(pupce),\n",
    "int(qtestpce),\n",
    "numfour\n",
    "from piece1"
   ]
  },
  {
   "cell_type": "code",
   "execution_count": 0,
   "metadata": {
    "application/vnd.databricks.v1+cell": {
     "inputWidgets": {},
     "nuid": "4037f388-7e1f-41f9-8e8a-49ae91edc1ef",
     "showTitle": false,
     "title": ""
    }
   },
   "outputs": [
    {
     "data": {
      "text/html": [
       "<style scoped>\n",
       "  .table-result-container {\n",
       "    max-height: 300px;\n",
       "    overflow: auto;\n",
       "  }\n",
       "  table, th, td {\n",
       "    border: 1px solid black;\n",
       "    border-collapse: collapse;\n",
       "  }\n",
       "  th, td {\n",
       "    padding: 5px;\n",
       "  }\n",
       "  th {\n",
       "    text-align: left;\n",
       "  }\n",
       "</style><div class='table-result-container'><table class='table-result'><thead style='background-color: white'><tr><th>numpce</th><th>nompce</th><th>pupce</th><th>qtestpce</th><th>numfour</th></tr></thead><tbody><tr><td>d32</td><td>bielette</td><td>830.67</td><td>8</td><td>1002101</td></tr><tr><td>e25</td><td>capot</td><td>890.0</td><td>3</td><td>4007101</td></tr><tr><td>f33</td><td>axe</td><td>410.0</td><td>50</td><td>4007101</td></tr><tr><td>g101</td><td>moteur</td><td>1215.0</td><td>2</td><td>4006901</td></tr><tr><td>r202</td><td>verrin</td><td>550.0</td><td>10</td><td>3006901</td></tr><tr><td>r205</td><td>visserie</td><td>180.0</td><td>120</td><td>3006901</td></tr><tr><td>r204</td><td>support</td><td>450.0</td><td>4</td><td>5008102</td></tr><tr><td>z222</td><td>calandre</td><td>615.0</td><td>7</td><td>5008001</td></tr></tbody></table></div>"
      ]
     },
     "metadata": {
      "application/vnd.databricks.v1+output": {
       "addedWidgets": {},
       "aggData": [],
       "aggError": "",
       "aggOverflow": false,
       "aggSchema": [],
       "aggSeriesLimitReached": false,
       "aggType": "",
       "arguments": {},
       "columnCustomDisplayInfos": {},
       "data": [
        [
         "d32",
         "bielette",
         830.67,
         8,
         "1002101"
        ],
        [
         "e25",
         "capot",
         890,
         3,
         "4007101"
        ],
        [
         "f33",
         "axe",
         410,
         50,
         "4007101"
        ],
        [
         "g101",
         "moteur",
         1215,
         2,
         "4006901"
        ],
        [
         "r202",
         "verrin",
         550,
         10,
         "3006901"
        ],
        [
         "r205",
         "visserie",
         180,
         120,
         "3006901"
        ],
        [
         "r204",
         "support",
         450,
         4,
         "5008102"
        ],
        [
         "z222",
         "calandre",
         615,
         7,
         "5008001"
        ]
       ],
       "datasetInfos": [],
       "dbfsResultPath": null,
       "isJsonSchema": true,
       "metadata": {},
       "overflow": false,
       "plotOptions": {
        "customPlotOptions": {},
        "displayType": "table",
        "pivotAggregation": null,
        "pivotColumns": null,
        "xColumns": null,
        "yColumns": null
       },
       "removedWidgets": [],
       "schema": [
        {
         "metadata": "{}",
         "name": "numpce",
         "type": "\"string\""
        },
        {
         "metadata": "{}",
         "name": "nompce",
         "type": "\"string\""
        },
        {
         "metadata": "{}",
         "name": "pupce",
         "type": "\"float\""
        },
        {
         "metadata": "{}",
         "name": "qtestpce",
         "type": "\"integer\""
        },
        {
         "metadata": "{}",
         "name": "numfour",
         "type": "\"string\""
        }
       ],
       "type": "table"
      }
     },
     "output_type": "display_data"
    }
   ],
   "source": [
    "%sql \n",
    "select *\n",
    "from piece"
   ]
  },
  {
   "cell_type": "code",
   "execution_count": 0,
   "metadata": {
    "application/vnd.databricks.v1+cell": {
     "inputWidgets": {},
     "nuid": "7bcff634-24a6-4a31-b55c-37b4bcebefd9",
     "showTitle": false,
     "title": ""
    }
   },
   "outputs": [
    {
     "data": {
      "text/html": [
       "<style scoped>\n",
       "  .table-result-container {\n",
       "    max-height: 300px;\n",
       "    overflow: auto;\n",
       "  }\n",
       "  table, th, td {\n",
       "    border: 1px solid black;\n",
       "    border-collapse: collapse;\n",
       "  }\n",
       "  th, td {\n",
       "    padding: 5px;\n",
       "  }\n",
       "  th {\n",
       "    text-align: left;\n",
       "  }\n",
       "</style><div class='table-result-container'><table class='table-result'><thead style='background-color: white'><tr><th>col_name</th><th>data_type</th><th>comment</th></tr></thead><tbody><tr><td>numpce</td><td>string</td><td>null</td></tr><tr><td>nompce</td><td>string</td><td>null</td></tr><tr><td>pupce</td><td>float</td><td>null</td></tr><tr><td>qtestpce</td><td>int</td><td>null</td></tr><tr><td>numfour</td><td>string</td><td>null</td></tr><tr><td></td><td></td><td></td></tr><tr><td># Detailed Table Information</td><td></td><td></td></tr><tr><td>Database</td><td>default</td><td></td></tr><tr><td>Table</td><td>piece</td><td></td></tr><tr><td>Owner</td><td>root</td><td></td></tr><tr><td>Created Time</td><td>Sun Mar 20 10:25:08 UTC 2022</td><td></td></tr><tr><td>Last Access</td><td>UNKNOWN</td><td></td></tr><tr><td>Created By</td><td>Spark 3.0.1</td><td></td></tr><tr><td>Type</td><td>MANAGED</td><td></td></tr><tr><td>Provider</td><td>parquet</td><td></td></tr><tr><td>Statistics</td><td>1697 bytes</td><td></td></tr><tr><td>Location</td><td>dbfs:/user/hive/warehouse/piece</td><td></td></tr><tr><td>Serde Library</td><td>org.apache.hadoop.hive.ql.io.parquet.serde.ParquetHiveSerDe</td><td></td></tr><tr><td>InputFormat</td><td>org.apache.hadoop.hive.ql.io.parquet.MapredParquetInputFormat</td><td></td></tr><tr><td>OutputFormat</td><td>org.apache.hadoop.hive.ql.io.parquet.MapredParquetOutputFormat</td><td></td></tr></tbody></table></div>"
      ]
     },
     "metadata": {
      "application/vnd.databricks.v1+output": {
       "addedWidgets": {},
       "aggData": [],
       "aggError": "",
       "aggOverflow": false,
       "aggSchema": [],
       "aggSeriesLimitReached": false,
       "aggType": "",
       "arguments": {},
       "columnCustomDisplayInfos": {},
       "data": [
        [
         "numpce",
         "string",
         null
        ],
        [
         "nompce",
         "string",
         null
        ],
        [
         "pupce",
         "float",
         null
        ],
        [
         "qtestpce",
         "int",
         null
        ],
        [
         "numfour",
         "string",
         null
        ],
        [
         "",
         "",
         ""
        ],
        [
         "# Detailed Table Information",
         "",
         ""
        ],
        [
         "Database",
         "default",
         ""
        ],
        [
         "Table",
         "piece",
         ""
        ],
        [
         "Owner",
         "root",
         ""
        ],
        [
         "Created Time",
         "Sun Mar 20 10:25:08 UTC 2022",
         ""
        ],
        [
         "Last Access",
         "UNKNOWN",
         ""
        ],
        [
         "Created By",
         "Spark 3.0.1",
         ""
        ],
        [
         "Type",
         "MANAGED",
         ""
        ],
        [
         "Provider",
         "parquet",
         ""
        ],
        [
         "Statistics",
         "1697 bytes",
         ""
        ],
        [
         "Location",
         "dbfs:/user/hive/warehouse/piece",
         ""
        ],
        [
         "Serde Library",
         "org.apache.hadoop.hive.ql.io.parquet.serde.ParquetHiveSerDe",
         ""
        ],
        [
         "InputFormat",
         "org.apache.hadoop.hive.ql.io.parquet.MapredParquetInputFormat",
         ""
        ],
        [
         "OutputFormat",
         "org.apache.hadoop.hive.ql.io.parquet.MapredParquetOutputFormat",
         ""
        ]
       ],
       "datasetInfos": [],
       "dbfsResultPath": null,
       "isJsonSchema": true,
       "metadata": {},
       "overflow": false,
       "plotOptions": {
        "customPlotOptions": {},
        "displayType": "table",
        "pivotAggregation": null,
        "pivotColumns": null,
        "xColumns": null,
        "yColumns": null
       },
       "removedWidgets": [],
       "schema": [
        {
         "metadata": "{\"comment\":\"name of the column\"}",
         "name": "col_name",
         "type": "\"string\""
        },
        {
         "metadata": "{\"comment\":\"data type of the column\"}",
         "name": "data_type",
         "type": "\"string\""
        },
        {
         "metadata": "{\"comment\":\"comment of the column\"}",
         "name": "comment",
         "type": "\"string\""
        }
       ],
       "type": "table"
      }
     },
     "output_type": "display_data"
    }
   ],
   "source": [
    "%sql\n",
    "describe formatted piece\n",
    "\n",
    "-- toutes les données sont en string\n",
    "-- qtestpce = quantité \n",
    "-- pupce == prix"
   ]
  },
  {
   "cell_type": "code",
   "execution_count": 0,
   "metadata": {
    "application/vnd.databricks.v1+cell": {
     "inputWidgets": {},
     "nuid": "58f14a2e-bb48-4761-b9ad-1ef2d3f8d104",
     "showTitle": false,
     "title": ""
    }
   },
   "outputs": [
    {
     "data": {
      "text/html": [
       "<style scoped>\n",
       "  .table-result-container {\n",
       "    max-height: 300px;\n",
       "    overflow: auto;\n",
       "  }\n",
       "  table, th, td {\n",
       "    border: 1px solid black;\n",
       "    border-collapse: collapse;\n",
       "  }\n",
       "  th, td {\n",
       "    padding: 5px;\n",
       "  }\n",
       "  th {\n",
       "    text-align: left;\n",
       "  }\n",
       "</style><div class='table-result-container'><table class='table-result'><thead style='background-color: white'><tr><th>distinct_piece</th></tr></thead><tbody><tr><td>8</td></tr></tbody></table></div>"
      ]
     },
     "metadata": {
      "application/vnd.databricks.v1+output": {
       "addedWidgets": {},
       "aggData": [],
       "aggError": "",
       "aggOverflow": false,
       "aggSchema": [],
       "aggSeriesLimitReached": false,
       "aggType": "",
       "arguments": {},
       "columnCustomDisplayInfos": {},
       "data": [
        [
         8
        ]
       ],
       "datasetInfos": [],
       "dbfsResultPath": null,
       "isJsonSchema": true,
       "metadata": {},
       "overflow": false,
       "plotOptions": {
        "customPlotOptions": {},
        "displayType": "table",
        "pivotAggregation": null,
        "pivotColumns": null,
        "xColumns": null,
        "yColumns": null
       },
       "removedWidgets": [],
       "schema": [
        {
         "metadata": "{}",
         "name": "distinct_piece",
         "type": "\"long\""
        }
       ],
       "type": "table"
      }
     },
     "output_type": "display_data"
    }
   ],
   "source": [
    "%sql\n",
    "select count(distinct *) as distinct_piece\n",
    "from piece\n",
    "\n",
    "-- aucune donnée n'est un doublon"
   ]
  },
  {
   "cell_type": "markdown",
   "metadata": {
    "application/vnd.databricks.v1+cell": {
     "inputWidgets": {},
     "nuid": "6ccfa57b-3774-43de-8dd5-b19de1acc824",
     "showTitle": false,
     "title": ""
    }
   },
   "source": [
    "### Table commande"
   ]
  },
  {
   "cell_type": "code",
   "execution_count": 0,
   "metadata": {
    "application/vnd.databricks.v1+cell": {
     "inputWidgets": {},
     "nuid": "61c6d4fd-ae9b-426b-aac3-3ec937e6bd48",
     "showTitle": false,
     "title": ""
    }
   },
   "outputs": [
    {
     "data": {
      "text/html": [
       "<style scoped>\n",
       "  .table-result-container {\n",
       "    max-height: 300px;\n",
       "    overflow: auto;\n",
       "  }\n",
       "  table, th, td {\n",
       "    border: 1px solid black;\n",
       "    border-collapse: collapse;\n",
       "  }\n",
       "  th, td {\n",
       "    padding: 5px;\n",
       "  }\n",
       "  th {\n",
       "    text-align: left;\n",
       "  }\n",
       "</style><div class='table-result-container'><table class='table-result'><thead style='background-color: white'><tr><th>path</th><th>name</th><th>size</th></tr></thead><tbody><tr><td>dbfs:/FileStore/tables/commande.csv</td><td>commande.csv</td><td>320</td></tr></tbody></table></div>"
      ]
     },
     "metadata": {
      "application/vnd.databricks.v1+output": {
       "addedWidgets": {},
       "aggData": [],
       "aggError": "",
       "aggOverflow": false,
       "aggSchema": [],
       "aggSeriesLimitReached": false,
       "aggType": "",
       "arguments": {},
       "columnCustomDisplayInfos": {},
       "data": [
        [
         "dbfs:/FileStore/tables/commande.csv",
         "commande.csv",
         320
        ]
       ],
       "datasetInfos": [],
       "dbfsResultPath": null,
       "isJsonSchema": true,
       "metadata": {},
       "overflow": false,
       "plotOptions": {
        "customPlotOptions": {},
        "displayType": "table",
        "pivotAggregation": null,
        "pivotColumns": null,
        "xColumns": null,
        "yColumns": null
       },
       "removedWidgets": [],
       "schema": [
        {
         "metadata": "{}",
         "name": "path",
         "type": "\"string\""
        },
        {
         "metadata": "{}",
         "name": "name",
         "type": "\"string\""
        },
        {
         "metadata": "{}",
         "name": "size",
         "type": "\"long\""
        }
       ],
       "type": "table"
      }
     },
     "output_type": "display_data"
    }
   ],
   "source": [
    "display(dbutils.fs.ls(\"dbfs:/FileStore/tables/commande.csv\"))"
   ]
  },
  {
   "cell_type": "code",
   "execution_count": 0,
   "metadata": {
    "application/vnd.databricks.v1+cell": {
     "inputWidgets": {},
     "nuid": "a967eafe-a4be-4660-ab0a-d70878c8bade",
     "showTitle": false,
     "title": ""
    }
   },
   "outputs": [
    {
     "data": {
      "text/html": [
       "<style scoped>\n",
       "  .table-result-container {\n",
       "    max-height: 300px;\n",
       "    overflow: auto;\n",
       "  }\n",
       "  table, th, td {\n",
       "    border: 1px solid black;\n",
       "    border-collapse: collapse;\n",
       "  }\n",
       "  th, td {\n",
       "    padding: 5px;\n",
       "  }\n",
       "  th {\n",
       "    text-align: left;\n",
       "  }\n",
       "</style><div class='table-result-container'><table class='table-result'><thead style='background-color: white'><tr></tr></thead><tbody></tbody></table></div>"
      ]
     },
     "metadata": {
      "application/vnd.databricks.v1+output": {
       "addedWidgets": {},
       "aggData": [],
       "aggError": "",
       "aggOverflow": false,
       "aggSchema": [],
       "aggSeriesLimitReached": false,
       "aggType": "",
       "arguments": {},
       "columnCustomDisplayInfos": {},
       "data": [],
       "datasetInfos": [],
       "dbfsResultPath": null,
       "isJsonSchema": true,
       "metadata": {},
       "overflow": false,
       "plotOptions": {
        "customPlotOptions": {},
        "displayType": "table",
        "pivotAggregation": null,
        "pivotColumns": null,
        "xColumns": null,
        "yColumns": null
       },
       "removedWidgets": [],
       "schema": [],
       "type": "table"
      }
     },
     "output_type": "display_data"
    }
   ],
   "source": [
    "%sql\n",
    "\n",
    "DROP TABLE IF EXISTS commande;\n",
    "\n",
    "CREATE TABLE commande\n",
    "USING csv\n",
    "OPTIONS (path \"dbfs:/FileStore/tables/commande.csv\", header \"true\", sep = ';')"
   ]
  },
  {
   "cell_type": "code",
   "execution_count": 0,
   "metadata": {
    "application/vnd.databricks.v1+cell": {
     "inputWidgets": {},
     "nuid": "9f54d527-f344-4905-8545-3c0680d70b44",
     "showTitle": false,
     "title": ""
    }
   },
   "outputs": [
    {
     "data": {
      "text/html": [
       "<style scoped>\n",
       "  .table-result-container {\n",
       "    max-height: 300px;\n",
       "    overflow: auto;\n",
       "  }\n",
       "  table, th, td {\n",
       "    border: 1px solid black;\n",
       "    border-collapse: collapse;\n",
       "  }\n",
       "  th, td {\n",
       "    padding: 5px;\n",
       "  }\n",
       "  th {\n",
       "    text-align: left;\n",
       "  }\n",
       "</style><div class='table-result-container'><table class='table-result'><thead style='background-color: white'><tr><th>numcde</th><th>datecde</th><th>idcli</th><th>numpce</th><th>qtecde</th><th>mtcde</th></tr></thead><tbody><tr><td>12</td><td>14/09/1998</td><td>9002</td><td>r205</td><td>3</td><td>778,88</td></tr><tr><td>15</td><td>14/10/1998</td><td>9002</td><td>g101</td><td>2</td><td>3 504,97</td></tr><tr><td>16</td><td>14/10/1998</td><td>9601</td><td>r205</td><td>1</td><td>259,63</td></tr><tr><td>17</td><td>09/04/2002</td><td>8802</td><td>r204</td><td>8</td><td>5 555,98</td></tr><tr><td>18</td><td>04/03/2003</td><td>9701</td><td>z222</td><td>6</td><td>4 500,00</td></tr><tr><td>19</td><td>15/06/2004</td><td>9702</td><td>d32</td><td>2</td><td>3 500,02</td></tr><tr><td>20</td><td>15/06/2006</td><td>9801</td><td>f33</td><td>1</td><td>400,95</td></tr><tr><td>21</td><td>22/08/2007</td><td>9501</td><td>z222</td><td>3</td><td>600,52</td></tr></tbody></table></div>"
      ]
     },
     "metadata": {
      "application/vnd.databricks.v1+output": {
       "addedWidgets": {},
       "aggData": [],
       "aggError": "",
       "aggOverflow": false,
       "aggSchema": [],
       "aggSeriesLimitReached": false,
       "aggType": "",
       "arguments": {},
       "columnCustomDisplayInfos": {},
       "data": [
        [
         "12",
         "14/09/1998",
         "9002",
         "r205",
         "3",
         "778,88"
        ],
        [
         "15",
         "14/10/1998",
         "9002",
         "g101",
         "2",
         "3 504,97"
        ],
        [
         "16",
         "14/10/1998",
         "9601",
         "r205",
         "1",
         "259,63"
        ],
        [
         "17",
         "09/04/2002",
         "8802",
         "r204",
         "8",
         "5 555,98"
        ],
        [
         "18",
         "04/03/2003",
         "9701",
         "z222",
         "6",
         "4 500,00"
        ],
        [
         "19",
         "15/06/2004",
         "9702",
         "d32",
         "2",
         "3 500,02"
        ],
        [
         "20",
         "15/06/2006",
         "9801",
         "f33",
         "1",
         "400,95"
        ],
        [
         "21",
         "22/08/2007",
         "9501",
         "z222",
         "3",
         "600,52"
        ]
       ],
       "datasetInfos": [],
       "dbfsResultPath": null,
       "isJsonSchema": true,
       "metadata": {},
       "overflow": false,
       "plotOptions": {
        "customPlotOptions": {},
        "displayType": "table",
        "pivotAggregation": null,
        "pivotColumns": null,
        "xColumns": null,
        "yColumns": null
       },
       "removedWidgets": [],
       "schema": [
        {
         "metadata": "{}",
         "name": "numcde",
         "type": "\"string\""
        },
        {
         "metadata": "{}",
         "name": "datecde",
         "type": "\"string\""
        },
        {
         "metadata": "{}",
         "name": "idcli",
         "type": "\"string\""
        },
        {
         "metadata": "{}",
         "name": "numpce",
         "type": "\"string\""
        },
        {
         "metadata": "{}",
         "name": "qtecde",
         "type": "\"string\""
        },
        {
         "metadata": "{}",
         "name": "mtcde",
         "type": "\"string\""
        }
       ],
       "type": "table"
      }
     },
     "output_type": "display_data"
    }
   ],
   "source": [
    "%sql \n",
    "select *\n",
    "from commande"
   ]
  },
  {
   "cell_type": "code",
   "execution_count": 0,
   "metadata": {
    "application/vnd.databricks.v1+cell": {
     "inputWidgets": {},
     "nuid": "ac3883cb-cdbd-417e-8ee7-d77489d6bc5c",
     "showTitle": false,
     "title": ""
    }
   },
   "outputs": [
    {
     "data": {
      "text/html": [
       "<style scoped>\n",
       "  .table-result-container {\n",
       "    max-height: 300px;\n",
       "    overflow: auto;\n",
       "  }\n",
       "  table, th, td {\n",
       "    border: 1px solid black;\n",
       "    border-collapse: collapse;\n",
       "  }\n",
       "  th, td {\n",
       "    padding: 5px;\n",
       "  }\n",
       "  th {\n",
       "    text-align: left;\n",
       "  }\n",
       "</style><div class='table-result-container'><table class='table-result'><thead style='background-color: white'><tr></tr></thead><tbody></tbody></table></div>"
      ]
     },
     "metadata": {
      "application/vnd.databricks.v1+output": {
       "addedWidgets": {},
       "aggData": [],
       "aggError": "",
       "aggOverflow": false,
       "aggSchema": [],
       "aggSeriesLimitReached": false,
       "aggType": "",
       "arguments": {},
       "columnCustomDisplayInfos": {},
       "data": [],
       "datasetInfos": [],
       "dbfsResultPath": null,
       "isJsonSchema": true,
       "metadata": {},
       "overflow": false,
       "plotOptions": {
        "customPlotOptions": {},
        "displayType": "table",
        "pivotAggregation": null,
        "pivotColumns": null,
        "xColumns": null,
        "yColumns": null
       },
       "removedWidgets": [],
       "schema": [],
       "type": "table"
      }
     },
     "output_type": "display_data"
    }
   ],
   "source": [
    "%sql \n",
    "\n",
    "\n",
    "DROP TABLE IF EXISTS commande2;\n",
    "\n",
    "CREATE TABLE commande2\n",
    "select \n",
    "numcde, \n",
    "datecde,\n",
    "idcli,\n",
    "numpce, \n",
    "int(qtecde),\n",
    "replace(mtcde,' ','') as mtcde\n",
    "from commande "
   ]
  },
  {
   "cell_type": "code",
   "execution_count": 0,
   "metadata": {
    "application/vnd.databricks.v1+cell": {
     "inputWidgets": {},
     "nuid": "5ddfae10-3217-4842-b65d-df7c11216326",
     "showTitle": false,
     "title": ""
    }
   },
   "outputs": [
    {
     "data": {
      "text/html": [
       "<style scoped>\n",
       "  .table-result-container {\n",
       "    max-height: 300px;\n",
       "    overflow: auto;\n",
       "  }\n",
       "  table, th, td {\n",
       "    border: 1px solid black;\n",
       "    border-collapse: collapse;\n",
       "  }\n",
       "  th, td {\n",
       "    padding: 5px;\n",
       "  }\n",
       "  th {\n",
       "    text-align: left;\n",
       "  }\n",
       "</style><div class='table-result-container'><table class='table-result'><thead style='background-color: white'><tr></tr></thead><tbody></tbody></table></div>"
      ]
     },
     "metadata": {
      "application/vnd.databricks.v1+output": {
       "addedWidgets": {},
       "aggData": [],
       "aggError": "",
       "aggOverflow": false,
       "aggSchema": [],
       "aggSeriesLimitReached": false,
       "aggType": "",
       "arguments": {},
       "columnCustomDisplayInfos": {},
       "data": [],
       "datasetInfos": [],
       "dbfsResultPath": null,
       "isJsonSchema": true,
       "metadata": {},
       "overflow": false,
       "plotOptions": {
        "customPlotOptions": {},
        "displayType": "table",
        "pivotAggregation": null,
        "pivotColumns": null,
        "xColumns": null,
        "yColumns": null
       },
       "removedWidgets": [],
       "schema": [],
       "type": "table"
      }
     },
     "output_type": "display_data"
    }
   ],
   "source": [
    "%sql \n",
    "\n",
    "\n",
    "DROP TABLE IF EXISTS commande3;\n",
    "\n",
    "CREATE TABLE commande3\n",
    "select \n",
    "numcde, \n",
    "datecde,\n",
    "idcli,\n",
    "numpce, \n",
    "int(qtecde),\n",
    "replace(mtcde,',','.') as mtcde\n",
    "from commande2"
   ]
  },
  {
   "cell_type": "code",
   "execution_count": 0,
   "metadata": {
    "application/vnd.databricks.v1+cell": {
     "inputWidgets": {},
     "nuid": "51ec09c9-0289-4f6d-abd6-5c7d620195ac",
     "showTitle": false,
     "title": ""
    }
   },
   "outputs": [
    {
     "data": {
      "text/html": [
       "<style scoped>\n",
       "  .table-result-container {\n",
       "    max-height: 300px;\n",
       "    overflow: auto;\n",
       "  }\n",
       "  table, th, td {\n",
       "    border: 1px solid black;\n",
       "    border-collapse: collapse;\n",
       "  }\n",
       "  th, td {\n",
       "    padding: 5px;\n",
       "  }\n",
       "  th {\n",
       "    text-align: left;\n",
       "  }\n",
       "</style><div class='table-result-container'><table class='table-result'><thead style='background-color: white'><tr></tr></thead><tbody></tbody></table></div>"
      ]
     },
     "metadata": {
      "application/vnd.databricks.v1+output": {
       "addedWidgets": {},
       "aggData": [],
       "aggError": "",
       "aggOverflow": false,
       "aggSchema": [],
       "aggSeriesLimitReached": false,
       "aggType": "",
       "arguments": {},
       "columnCustomDisplayInfos": {},
       "data": [],
       "datasetInfos": [],
       "dbfsResultPath": null,
       "isJsonSchema": true,
       "metadata": {},
       "overflow": false,
       "plotOptions": {
        "customPlotOptions": {},
        "displayType": "table",
        "pivotAggregation": null,
        "pivotColumns": null,
        "xColumns": null,
        "yColumns": null
       },
       "removedWidgets": [],
       "schema": [],
       "type": "table"
      }
     },
     "output_type": "display_data"
    }
   ],
   "source": [
    "%sql\n",
    "\n",
    "DROP TABLE IF EXISTS commande3;\n",
    "\n",
    "CREATE TABLE commande3\n",
    "select \n",
    "numcde, \n",
    "datecde,\n",
    "idcli,\n",
    "numpce, \n",
    "int(qtecde),\n",
    "float(mtcde)\n",
    "from commande2 "
   ]
  },
  {
   "cell_type": "code",
   "execution_count": 0,
   "metadata": {
    "application/vnd.databricks.v1+cell": {
     "inputWidgets": {},
     "nuid": "54439abc-97df-4798-b0af-3df8e2818865",
     "showTitle": false,
     "title": ""
    }
   },
   "outputs": [
    {
     "data": {
      "text/html": [
       "<style scoped>\n",
       "  .table-result-container {\n",
       "    max-height: 300px;\n",
       "    overflow: auto;\n",
       "  }\n",
       "  table, th, td {\n",
       "    border: 1px solid black;\n",
       "    border-collapse: collapse;\n",
       "  }\n",
       "  th, td {\n",
       "    padding: 5px;\n",
       "  }\n",
       "  th {\n",
       "    text-align: left;\n",
       "  }\n",
       "</style><div class='table-result-container'><table class='table-result'><thead style='background-color: white'><tr></tr></thead><tbody></tbody></table></div>"
      ]
     },
     "metadata": {
      "application/vnd.databricks.v1+output": {
       "addedWidgets": {},
       "aggData": [],
       "aggError": "",
       "aggOverflow": false,
       "aggSchema": [],
       "aggSeriesLimitReached": false,
       "aggType": "",
       "arguments": {},
       "columnCustomDisplayInfos": {},
       "data": [],
       "datasetInfos": [],
       "dbfsResultPath": null,
       "isJsonSchema": true,
       "metadata": {},
       "overflow": false,
       "plotOptions": {
        "customPlotOptions": {},
        "displayType": "table",
        "pivotAggregation": null,
        "pivotColumns": null,
        "xColumns": null,
        "yColumns": null
       },
       "removedWidgets": [],
       "schema": [],
       "type": "table"
      }
     },
     "output_type": "display_data"
    }
   ],
   "source": [
    "%sql\n",
    "DROP TABLE IF EXISTS commande;\n",
    "\n",
    "CREATE TABLE commande\n",
    "select \n",
    "numcde, \n",
    "datecde,\n",
    "idcli,\n",
    "numpce, \n",
    "int(qtecde),\n",
    "float(mtcde)\n",
    "from commande3 "
   ]
  },
  {
   "cell_type": "code",
   "execution_count": 0,
   "metadata": {
    "application/vnd.databricks.v1+cell": {
     "inputWidgets": {},
     "nuid": "8ac03f21-6845-469c-8012-c74f08b6540d",
     "showTitle": false,
     "title": ""
    }
   },
   "outputs": [
    {
     "data": {
      "text/html": [
       "<style scoped>\n",
       "  .table-result-container {\n",
       "    max-height: 300px;\n",
       "    overflow: auto;\n",
       "  }\n",
       "  table, th, td {\n",
       "    border: 1px solid black;\n",
       "    border-collapse: collapse;\n",
       "  }\n",
       "  th, td {\n",
       "    padding: 5px;\n",
       "  }\n",
       "  th {\n",
       "    text-align: left;\n",
       "  }\n",
       "</style><div class='table-result-container'><table class='table-result'><thead style='background-color: white'><tr><th>numcde</th><th>datecde</th><th>idcli</th><th>numpce</th><th>qtecde</th><th>mtcde</th></tr></thead><tbody><tr><td>12</td><td>14/09/1998</td><td>9002</td><td>r205</td><td>3</td><td>778.88</td></tr><tr><td>15</td><td>14/10/1998</td><td>9002</td><td>g101</td><td>2</td><td>3504.97</td></tr><tr><td>16</td><td>14/10/1998</td><td>9601</td><td>r205</td><td>1</td><td>259.63</td></tr><tr><td>17</td><td>09/04/2002</td><td>8802</td><td>r204</td><td>8</td><td>5555.98</td></tr><tr><td>18</td><td>04/03/2003</td><td>9701</td><td>z222</td><td>6</td><td>4500.0</td></tr><tr><td>19</td><td>15/06/2004</td><td>9702</td><td>d32</td><td>2</td><td>3500.02</td></tr><tr><td>20</td><td>15/06/2006</td><td>9801</td><td>f33</td><td>1</td><td>400.95</td></tr><tr><td>21</td><td>22/08/2007</td><td>9501</td><td>z222</td><td>3</td><td>600.52</td></tr></tbody></table></div>"
      ]
     },
     "metadata": {
      "application/vnd.databricks.v1+output": {
       "addedWidgets": {},
       "aggData": [],
       "aggError": "",
       "aggOverflow": false,
       "aggSchema": [],
       "aggSeriesLimitReached": false,
       "aggType": "",
       "arguments": {},
       "columnCustomDisplayInfos": {},
       "data": [
        [
         "12",
         "14/09/1998",
         "9002",
         "r205",
         3,
         778.88
        ],
        [
         "15",
         "14/10/1998",
         "9002",
         "g101",
         2,
         3504.97
        ],
        [
         "16",
         "14/10/1998",
         "9601",
         "r205",
         1,
         259.63
        ],
        [
         "17",
         "09/04/2002",
         "8802",
         "r204",
         8,
         5555.98
        ],
        [
         "18",
         "04/03/2003",
         "9701",
         "z222",
         6,
         4500
        ],
        [
         "19",
         "15/06/2004",
         "9702",
         "d32",
         2,
         3500.02
        ],
        [
         "20",
         "15/06/2006",
         "9801",
         "f33",
         1,
         400.95
        ],
        [
         "21",
         "22/08/2007",
         "9501",
         "z222",
         3,
         600.52
        ]
       ],
       "datasetInfos": [],
       "dbfsResultPath": null,
       "isJsonSchema": true,
       "metadata": {},
       "overflow": false,
       "plotOptions": {
        "customPlotOptions": {},
        "displayType": "table",
        "pivotAggregation": null,
        "pivotColumns": null,
        "xColumns": null,
        "yColumns": null
       },
       "removedWidgets": [],
       "schema": [
        {
         "metadata": "{}",
         "name": "numcde",
         "type": "\"string\""
        },
        {
         "metadata": "{}",
         "name": "datecde",
         "type": "\"string\""
        },
        {
         "metadata": "{}",
         "name": "idcli",
         "type": "\"string\""
        },
        {
         "metadata": "{}",
         "name": "numpce",
         "type": "\"string\""
        },
        {
         "metadata": "{}",
         "name": "qtecde",
         "type": "\"integer\""
        },
        {
         "metadata": "{}",
         "name": "mtcde",
         "type": "\"float\""
        }
       ],
       "type": "table"
      }
     },
     "output_type": "display_data"
    }
   ],
   "source": [
    "%sql\n",
    "select *\n",
    "from commande"
   ]
  },
  {
   "cell_type": "code",
   "execution_count": 0,
   "metadata": {
    "application/vnd.databricks.v1+cell": {
     "inputWidgets": {},
     "nuid": "73297e71-5ca1-4efc-a5d8-7134661df570",
     "showTitle": false,
     "title": ""
    }
   },
   "outputs": [
    {
     "data": {
      "text/html": [
       "<style scoped>\n",
       "  .table-result-container {\n",
       "    max-height: 300px;\n",
       "    overflow: auto;\n",
       "  }\n",
       "  table, th, td {\n",
       "    border: 1px solid black;\n",
       "    border-collapse: collapse;\n",
       "  }\n",
       "  th, td {\n",
       "    padding: 5px;\n",
       "  }\n",
       "  th {\n",
       "    text-align: left;\n",
       "  }\n",
       "</style><div class='table-result-container'><table class='table-result'><thead style='background-color: white'><tr><th>col_name</th><th>data_type</th><th>comment</th></tr></thead><tbody><tr><td>numcde</td><td>string</td><td>null</td></tr><tr><td>datecde</td><td>string</td><td>null</td></tr><tr><td>idcli</td><td>string</td><td>null</td></tr><tr><td>numpce</td><td>string</td><td>null</td></tr><tr><td>qtecde</td><td>int</td><td>null</td></tr><tr><td>mtcde</td><td>float</td><td>null</td></tr><tr><td></td><td></td><td></td></tr><tr><td># Detailed Table Information</td><td></td><td></td></tr><tr><td>Database</td><td>default</td><td></td></tr><tr><td>Table</td><td>commande</td><td></td></tr><tr><td>Owner</td><td>root</td><td></td></tr><tr><td>Created Time</td><td>Sun Mar 20 09:52:34 UTC 2022</td><td></td></tr><tr><td>Last Access</td><td>UNKNOWN</td><td></td></tr><tr><td>Created By</td><td>Spark 3.0.1</td><td></td></tr><tr><td>Type</td><td>MANAGED</td><td></td></tr><tr><td>Provider</td><td>parquet</td><td></td></tr><tr><td>Statistics</td><td>1976 bytes</td><td></td></tr><tr><td>Location</td><td>dbfs:/user/hive/warehouse/commande</td><td></td></tr><tr><td>Serde Library</td><td>org.apache.hadoop.hive.ql.io.parquet.serde.ParquetHiveSerDe</td><td></td></tr><tr><td>InputFormat</td><td>org.apache.hadoop.hive.ql.io.parquet.MapredParquetInputFormat</td><td></td></tr><tr><td>OutputFormat</td><td>org.apache.hadoop.hive.ql.io.parquet.MapredParquetOutputFormat</td><td></td></tr></tbody></table></div>"
      ]
     },
     "metadata": {
      "application/vnd.databricks.v1+output": {
       "addedWidgets": {},
       "aggData": [],
       "aggError": "",
       "aggOverflow": false,
       "aggSchema": [],
       "aggSeriesLimitReached": false,
       "aggType": "",
       "arguments": {},
       "columnCustomDisplayInfos": {},
       "data": [
        [
         "numcde",
         "string",
         null
        ],
        [
         "datecde",
         "string",
         null
        ],
        [
         "idcli",
         "string",
         null
        ],
        [
         "numpce",
         "string",
         null
        ],
        [
         "qtecde",
         "int",
         null
        ],
        [
         "mtcde",
         "float",
         null
        ],
        [
         "",
         "",
         ""
        ],
        [
         "# Detailed Table Information",
         "",
         ""
        ],
        [
         "Database",
         "default",
         ""
        ],
        [
         "Table",
         "commande",
         ""
        ],
        [
         "Owner",
         "root",
         ""
        ],
        [
         "Created Time",
         "Sun Mar 20 09:52:34 UTC 2022",
         ""
        ],
        [
         "Last Access",
         "UNKNOWN",
         ""
        ],
        [
         "Created By",
         "Spark 3.0.1",
         ""
        ],
        [
         "Type",
         "MANAGED",
         ""
        ],
        [
         "Provider",
         "parquet",
         ""
        ],
        [
         "Statistics",
         "1976 bytes",
         ""
        ],
        [
         "Location",
         "dbfs:/user/hive/warehouse/commande",
         ""
        ],
        [
         "Serde Library",
         "org.apache.hadoop.hive.ql.io.parquet.serde.ParquetHiveSerDe",
         ""
        ],
        [
         "InputFormat",
         "org.apache.hadoop.hive.ql.io.parquet.MapredParquetInputFormat",
         ""
        ],
        [
         "OutputFormat",
         "org.apache.hadoop.hive.ql.io.parquet.MapredParquetOutputFormat",
         ""
        ]
       ],
       "datasetInfos": [],
       "dbfsResultPath": null,
       "isJsonSchema": true,
       "metadata": {},
       "overflow": false,
       "plotOptions": {
        "customPlotOptions": {},
        "displayType": "table",
        "pivotAggregation": null,
        "pivotColumns": null,
        "xColumns": null,
        "yColumns": null
       },
       "removedWidgets": [],
       "schema": [
        {
         "metadata": "{\"comment\":\"name of the column\"}",
         "name": "col_name",
         "type": "\"string\""
        },
        {
         "metadata": "{\"comment\":\"data type of the column\"}",
         "name": "data_type",
         "type": "\"string\""
        },
        {
         "metadata": "{\"comment\":\"comment of the column\"}",
         "name": "comment",
         "type": "\"string\""
        }
       ],
       "type": "table"
      }
     },
     "output_type": "display_data"
    }
   ],
   "source": [
    "%sql\n",
    "describe formatted commande\n",
    "\n",
    "-- toutes les données sont en string"
   ]
  },
  {
   "cell_type": "code",
   "execution_count": 0,
   "metadata": {
    "application/vnd.databricks.v1+cell": {
     "inputWidgets": {},
     "nuid": "376cb5e5-ed83-46bc-afc0-a7002e6668af",
     "showTitle": false,
     "title": ""
    }
   },
   "outputs": [
    {
     "data": {
      "text/html": [
       "<style scoped>\n",
       "  .table-result-container {\n",
       "    max-height: 300px;\n",
       "    overflow: auto;\n",
       "  }\n",
       "  table, th, td {\n",
       "    border: 1px solid black;\n",
       "    border-collapse: collapse;\n",
       "  }\n",
       "  th, td {\n",
       "    padding: 5px;\n",
       "  }\n",
       "  th {\n",
       "    text-align: left;\n",
       "  }\n",
       "</style><div class='table-result-container'><table class='table-result'><thead style='background-color: white'><tr><th>distinct_commande</th></tr></thead><tbody><tr><td>8</td></tr></tbody></table></div>"
      ]
     },
     "metadata": {
      "application/vnd.databricks.v1+output": {
       "addedWidgets": {},
       "aggData": [],
       "aggError": "",
       "aggOverflow": false,
       "aggSchema": [],
       "aggSeriesLimitReached": false,
       "aggType": "",
       "arguments": {},
       "columnCustomDisplayInfos": {},
       "data": [
        [
         8
        ]
       ],
       "datasetInfos": [],
       "dbfsResultPath": null,
       "isJsonSchema": true,
       "metadata": {},
       "overflow": false,
       "plotOptions": {
        "customPlotOptions": {},
        "displayType": "table",
        "pivotAggregation": null,
        "pivotColumns": null,
        "xColumns": null,
        "yColumns": null
       },
       "removedWidgets": [],
       "schema": [
        {
         "metadata": "{}",
         "name": "distinct_commande",
         "type": "\"long\""
        }
       ],
       "type": "table"
      }
     },
     "output_type": "display_data"
    }
   ],
   "source": [
    "%sql\n",
    "select count(distinct *) as distinct_commande \n",
    "from commande\n",
    "\n",
    "-- Aucune donnée n'est un doublon "
   ]
  },
  {
   "cell_type": "markdown",
   "metadata": {
    "application/vnd.databricks.v1+cell": {
     "inputWidgets": {},
     "nuid": "2d186bb4-3f06-418d-a4d1-d7f065c92ade",
     "showTitle": false,
     "title": ""
    }
   },
   "source": [
    "### Table fournisseur"
   ]
  },
  {
   "cell_type": "code",
   "execution_count": 0,
   "metadata": {
    "application/vnd.databricks.v1+cell": {
     "inputWidgets": {},
     "nuid": "55f22cd4-ab74-4e0e-8657-061e123e28eb",
     "showTitle": false,
     "title": ""
    }
   },
   "outputs": [
    {
     "data": {
      "text/html": [
       "<style scoped>\n",
       "  .table-result-container {\n",
       "    max-height: 300px;\n",
       "    overflow: auto;\n",
       "  }\n",
       "  table, th, td {\n",
       "    border: 1px solid black;\n",
       "    border-collapse: collapse;\n",
       "  }\n",
       "  th, td {\n",
       "    padding: 5px;\n",
       "  }\n",
       "  th {\n",
       "    text-align: left;\n",
       "  }\n",
       "</style><div class='table-result-container'><table class='table-result'><thead style='background-color: white'><tr></tr></thead><tbody></tbody></table></div>"
      ]
     },
     "metadata": {
      "application/vnd.databricks.v1+output": {
       "addedWidgets": {},
       "aggData": [],
       "aggError": "",
       "aggOverflow": false,
       "aggSchema": [],
       "aggSeriesLimitReached": false,
       "aggType": "",
       "arguments": {},
       "columnCustomDisplayInfos": {},
       "data": [],
       "datasetInfos": [],
       "dbfsResultPath": null,
       "isJsonSchema": true,
       "metadata": {},
       "overflow": false,
       "plotOptions": {
        "customPlotOptions": {},
        "displayType": "table",
        "pivotAggregation": null,
        "pivotColumns": null,
        "xColumns": null,
        "yColumns": null
       },
       "removedWidgets": [],
       "schema": [],
       "type": "table"
      }
     },
     "output_type": "display_data"
    }
   ],
   "source": [
    "%sql\n",
    "\n",
    "DROP TABLE IF EXISTS fournisseur;\n",
    "\n",
    "CREATE TABLE fournisseur\n",
    "USING csv\n",
    "OPTIONS (path \"dbfs:/FileStore/tables/fournisseur__1_.csv\", header \"true\", sep=';')"
   ]
  },
  {
   "cell_type": "code",
   "execution_count": 0,
   "metadata": {
    "application/vnd.databricks.v1+cell": {
     "inputWidgets": {},
     "nuid": "004d0052-6861-493e-9fc0-552bcee53945",
     "showTitle": false,
     "title": ""
    }
   },
   "outputs": [
    {
     "data": {
      "text/html": [
       "<style scoped>\n",
       "  .table-result-container {\n",
       "    max-height: 300px;\n",
       "    overflow: auto;\n",
       "  }\n",
       "  table, th, td {\n",
       "    border: 1px solid black;\n",
       "    border-collapse: collapse;\n",
       "  }\n",
       "  th, td {\n",
       "    padding: 5px;\n",
       "  }\n",
       "  th {\n",
       "    text-align: left;\n",
       "  }\n",
       "</style><div class='table-result-container'><table class='table-result'><thead style='background-color: white'><tr><th>numfour</th><th>nomfour</th><th>vilfour</th></tr></thead><tbody><tr><td>670</td><td>merlin</td><td>lyon</td></tr><tr><td>1002101</td><td>dubois</td><td>dijon</td></tr><tr><td>1002102</td><td>brossette</td><td>dijon</td></tr><tr><td>3006901</td><td>faure</td><td>lyon</td></tr><tr><td>4006901</td><td>gaspard</td><td>villeurbanne</td></tr><tr><td>4007101</td><td>merlin</td><td>macon</td></tr><tr><td>5008101</td><td>gaspard</td><td>nice</td></tr><tr><td>5008102</td><td>dubois</td><td>toulon</td></tr><tr><td>5008001</td><td>auchan</td><td>paris</td></tr></tbody></table></div>"
      ]
     },
     "metadata": {
      "application/vnd.databricks.v1+output": {
       "addedWidgets": {},
       "aggData": [],
       "aggError": "",
       "aggOverflow": false,
       "aggSchema": [],
       "aggSeriesLimitReached": false,
       "aggType": "",
       "arguments": {},
       "columnCustomDisplayInfos": {},
       "data": [
        [
         "670",
         "merlin",
         "lyon"
        ],
        [
         "1002101",
         "dubois",
         "dijon"
        ],
        [
         "1002102",
         "brossette",
         "dijon"
        ],
        [
         "3006901",
         "faure",
         "lyon"
        ],
        [
         "4006901",
         "gaspard",
         "villeurbanne"
        ],
        [
         "4007101",
         "merlin",
         "macon"
        ],
        [
         "5008101",
         "gaspard",
         "nice"
        ],
        [
         "5008102",
         "dubois",
         "toulon"
        ],
        [
         "5008001",
         "auchan",
         "paris"
        ]
       ],
       "datasetInfos": [],
       "dbfsResultPath": null,
       "isJsonSchema": true,
       "metadata": {},
       "overflow": false,
       "plotOptions": {
        "customPlotOptions": {},
        "displayType": "table",
        "pivotAggregation": null,
        "pivotColumns": null,
        "xColumns": null,
        "yColumns": null
       },
       "removedWidgets": [],
       "schema": [
        {
         "metadata": "{}",
         "name": "numfour",
         "type": "\"string\""
        },
        {
         "metadata": "{}",
         "name": "nomfour",
         "type": "\"string\""
        },
        {
         "metadata": "{}",
         "name": "vilfour",
         "type": "\"string\""
        }
       ],
       "type": "table"
      }
     },
     "output_type": "display_data"
    }
   ],
   "source": [
    "%sql\n",
    "select *\n",
    "from fournisseur"
   ]
  },
  {
   "cell_type": "code",
   "execution_count": 0,
   "metadata": {
    "application/vnd.databricks.v1+cell": {
     "inputWidgets": {},
     "nuid": "c41e5ba2-3c41-4920-a3c3-4f94b9e72394",
     "showTitle": false,
     "title": ""
    }
   },
   "outputs": [
    {
     "data": {
      "text/html": [
       "<style scoped>\n",
       "  .table-result-container {\n",
       "    max-height: 300px;\n",
       "    overflow: auto;\n",
       "  }\n",
       "  table, th, td {\n",
       "    border: 1px solid black;\n",
       "    border-collapse: collapse;\n",
       "  }\n",
       "  th, td {\n",
       "    padding: 5px;\n",
       "  }\n",
       "  th {\n",
       "    text-align: left;\n",
       "  }\n",
       "</style><div class='table-result-container'><table class='table-result'><thead style='background-color: white'><tr><th>col_name</th><th>data_type</th><th>comment</th></tr></thead><tbody><tr><td>numfour</td><td>string</td><td>null</td></tr><tr><td>nomfour</td><td>string</td><td>null</td></tr><tr><td>vilfour</td><td>string</td><td>null</td></tr><tr><td></td><td></td><td></td></tr><tr><td># Detailed Table Information</td><td></td><td></td></tr><tr><td>Database</td><td>default</td><td></td></tr><tr><td>Table</td><td>fournisseur</td><td></td></tr><tr><td>Owner</td><td>root</td><td></td></tr><tr><td>Created Time</td><td>Sun Mar 20 09:03:56 UTC 2022</td><td></td></tr><tr><td>Last Access</td><td>UNKNOWN</td><td></td></tr><tr><td>Created By</td><td>Spark 3.0.1</td><td></td></tr><tr><td>Type</td><td>EXTERNAL</td><td></td></tr><tr><td>Provider</td><td>csv</td><td></td></tr><tr><td>Location</td><td>dbfs:/FileStore/tables/fournisseur__1_.csv</td><td></td></tr><tr><td>Serde Library</td><td>org.apache.hadoop.hive.serde2.lazy.LazySimpleSerDe</td><td></td></tr><tr><td>InputFormat</td><td>org.apache.hadoop.mapred.SequenceFileInputFormat</td><td></td></tr><tr><td>OutputFormat</td><td>org.apache.hadoop.hive.ql.io.HiveSequenceFileOutputFormat</td><td></td></tr><tr><td>Storage Properties</td><td>[header=true, sep=;]</td><td></td></tr></tbody></table></div>"
      ]
     },
     "metadata": {
      "application/vnd.databricks.v1+output": {
       "addedWidgets": {},
       "aggData": [],
       "aggError": "",
       "aggOverflow": false,
       "aggSchema": [],
       "aggSeriesLimitReached": false,
       "aggType": "",
       "arguments": {},
       "columnCustomDisplayInfos": {},
       "data": [
        [
         "numfour",
         "string",
         null
        ],
        [
         "nomfour",
         "string",
         null
        ],
        [
         "vilfour",
         "string",
         null
        ],
        [
         "",
         "",
         ""
        ],
        [
         "# Detailed Table Information",
         "",
         ""
        ],
        [
         "Database",
         "default",
         ""
        ],
        [
         "Table",
         "fournisseur",
         ""
        ],
        [
         "Owner",
         "root",
         ""
        ],
        [
         "Created Time",
         "Sun Mar 20 09:03:56 UTC 2022",
         ""
        ],
        [
         "Last Access",
         "UNKNOWN",
         ""
        ],
        [
         "Created By",
         "Spark 3.0.1",
         ""
        ],
        [
         "Type",
         "EXTERNAL",
         ""
        ],
        [
         "Provider",
         "csv",
         ""
        ],
        [
         "Location",
         "dbfs:/FileStore/tables/fournisseur__1_.csv",
         ""
        ],
        [
         "Serde Library",
         "org.apache.hadoop.hive.serde2.lazy.LazySimpleSerDe",
         ""
        ],
        [
         "InputFormat",
         "org.apache.hadoop.mapred.SequenceFileInputFormat",
         ""
        ],
        [
         "OutputFormat",
         "org.apache.hadoop.hive.ql.io.HiveSequenceFileOutputFormat",
         ""
        ],
        [
         "Storage Properties",
         "[header=true, sep=;]",
         ""
        ]
       ],
       "datasetInfos": [],
       "dbfsResultPath": null,
       "isJsonSchema": true,
       "metadata": {},
       "overflow": false,
       "plotOptions": {
        "customPlotOptions": {},
        "displayType": "table",
        "pivotAggregation": null,
        "pivotColumns": null,
        "xColumns": null,
        "yColumns": null
       },
       "removedWidgets": [],
       "schema": [
        {
         "metadata": "{\"comment\":\"name of the column\"}",
         "name": "col_name",
         "type": "\"string\""
        },
        {
         "metadata": "{\"comment\":\"data type of the column\"}",
         "name": "data_type",
         "type": "\"string\""
        },
        {
         "metadata": "{\"comment\":\"comment of the column\"}",
         "name": "comment",
         "type": "\"string\""
        }
       ],
       "type": "table"
      }
     },
     "output_type": "display_data"
    }
   ],
   "source": [
    "%sql\n",
    "describe formatted fournisseur\n",
    "\n",
    "-- toutes les données sont en string"
   ]
  },
  {
   "cell_type": "code",
   "execution_count": 0,
   "metadata": {
    "application/vnd.databricks.v1+cell": {
     "inputWidgets": {},
     "nuid": "8ca7b827-cc58-4d68-80e4-c4d33b4a8ada",
     "showTitle": false,
     "title": ""
    }
   },
   "outputs": [
    {
     "data": {
      "text/html": [
       "<style scoped>\n",
       "  .table-result-container {\n",
       "    max-height: 300px;\n",
       "    overflow: auto;\n",
       "  }\n",
       "  table, th, td {\n",
       "    border: 1px solid black;\n",
       "    border-collapse: collapse;\n",
       "  }\n",
       "  th, td {\n",
       "    padding: 5px;\n",
       "  }\n",
       "  th {\n",
       "    text-align: left;\n",
       "  }\n",
       "</style><div class='table-result-container'><table class='table-result'><thead style='background-color: white'><tr><th>distinct_founisseur</th></tr></thead><tbody><tr><td>9</td></tr></tbody></table></div>"
      ]
     },
     "metadata": {
      "application/vnd.databricks.v1+output": {
       "addedWidgets": {},
       "aggData": [],
       "aggError": "",
       "aggOverflow": false,
       "aggSchema": [],
       "aggSeriesLimitReached": false,
       "aggType": "",
       "arguments": {},
       "columnCustomDisplayInfos": {},
       "data": [
        [
         9
        ]
       ],
       "datasetInfos": [],
       "dbfsResultPath": null,
       "isJsonSchema": true,
       "metadata": {},
       "overflow": false,
       "plotOptions": {
        "customPlotOptions": {},
        "displayType": "table",
        "pivotAggregation": null,
        "pivotColumns": null,
        "xColumns": null,
        "yColumns": null
       },
       "removedWidgets": [],
       "schema": [
        {
         "metadata": "{}",
         "name": "distinct_founisseur",
         "type": "\"long\""
        }
       ],
       "type": "table"
      }
     },
     "output_type": "display_data"
    }
   ],
   "source": [
    "%sql \n",
    "select count(distinct *) as distinct_founisseur\n",
    "from fournisseur\n",
    "\n",
    "-- aucune donnée n'est un doublon"
   ]
  },
  {
   "cell_type": "markdown",
   "metadata": {
    "application/vnd.databricks.v1+cell": {
     "inputWidgets": {},
     "nuid": "112c70c6-9e0b-4787-8405-4439cd843797",
     "showTitle": false,
     "title": ""
    }
   },
   "source": [
    "### Table client"
   ]
  },
  {
   "cell_type": "code",
   "execution_count": 0,
   "metadata": {
    "application/vnd.databricks.v1+cell": {
     "inputWidgets": {},
     "nuid": "94ca61a3-91f1-4875-8889-68ffe8906040",
     "showTitle": false,
     "title": ""
    }
   },
   "outputs": [
    {
     "data": {
      "text/html": [
       "<style scoped>\n",
       "  .table-result-container {\n",
       "    max-height: 300px;\n",
       "    overflow: auto;\n",
       "  }\n",
       "  table, th, td {\n",
       "    border: 1px solid black;\n",
       "    border-collapse: collapse;\n",
       "  }\n",
       "  th, td {\n",
       "    padding: 5px;\n",
       "  }\n",
       "  th {\n",
       "    text-align: left;\n",
       "  }\n",
       "</style><div class='table-result-container'><table class='table-result'><thead style='background-color: white'><tr></tr></thead><tbody></tbody></table></div>"
      ]
     },
     "metadata": {
      "application/vnd.databricks.v1+output": {
       "addedWidgets": {},
       "aggData": [],
       "aggError": "",
       "aggOverflow": false,
       "aggSchema": [],
       "aggSeriesLimitReached": false,
       "aggType": "",
       "arguments": {},
       "columnCustomDisplayInfos": {},
       "data": [],
       "datasetInfos": [],
       "dbfsResultPath": null,
       "isJsonSchema": true,
       "metadata": {},
       "overflow": false,
       "plotOptions": {
        "customPlotOptions": {},
        "displayType": "table",
        "pivotAggregation": null,
        "pivotColumns": null,
        "xColumns": null,
        "yColumns": null
       },
       "removedWidgets": [],
       "schema": [],
       "type": "table"
      }
     },
     "output_type": "display_data"
    }
   ],
   "source": [
    "%sql\n",
    "\n",
    "DROP TABLE IF EXISTS client;\n",
    "\n",
    "CREATE TABLE client\n",
    "USING csv\n",
    "OPTIONS (path \"dbfs:/FileStore/tables/client__1_.csv\", header \"true\", sep=';')"
   ]
  },
  {
   "cell_type": "code",
   "execution_count": 0,
   "metadata": {
    "application/vnd.databricks.v1+cell": {
     "inputWidgets": {},
     "nuid": "1780b30e-72bb-4b9b-9ac8-3c07f7d99c9d",
     "showTitle": false,
     "title": ""
    }
   },
   "outputs": [
    {
     "data": {
      "text/html": [
       "<style scoped>\n",
       "  .table-result-container {\n",
       "    max-height: 300px;\n",
       "    overflow: auto;\n",
       "  }\n",
       "  table, th, td {\n",
       "    border: 1px solid black;\n",
       "    border-collapse: collapse;\n",
       "  }\n",
       "  th, td {\n",
       "    padding: 5px;\n",
       "  }\n",
       "  th {\n",
       "    text-align: left;\n",
       "  }\n",
       "</style><div class='table-result-container'><table class='table-result'><thead style='background-color: white'><tr><th>idcli</th><th>nomcli</th><th>adrcli</th><th>cpcli</th><th>vilcli</th><th>telcli</th></tr></thead><tbody><tr><td>8802</td><td>tremblay</td><td>rue de la gare</td><td>69007</td><td>Lyon</td><td>0476123456</td></tr><tr><td>8803</td><td>durand</td><td>rue jules verne</td><td>21000</td><td>Dijon</td><td>0359841593</td></tr><tr><td>9001</td><td>mutter</td><td>rue gambetta</td><td>69120</td><td>Villeurbanne</td><td>0425698541</td></tr><tr><td>9002</td><td>rossi</td><td>boulevard jean jaures</td><td>69007</td><td>Lyon</td><td>0452496478</td></tr><tr><td>9501</td><td>pelletier</td><td>avenue allende</td><td>75002</td><td>Paris</td><td>0125964832</td></tr><tr><td>9601</td><td>guillet</td><td>cours emile zola</td><td>71000</td><td>M�con</td><td>0486541236</td></tr><tr><td>9701</td><td>macron</td><td>avenue charles de gaulle</td><td>42005</td><td>Saint-Etienne</td><td>0475693219</td></tr><tr><td>9702</td><td>mbappe</td><td>rue benoit bernard</td><td>38725</td><td>Bourgoin-Jailleux</td><td>0405485366</td></tr><tr><td>9801</td><td>diaz</td><td>rue de la guerre</td><td>69008</td><td>Lyon</td><td>0458315537</td></tr></tbody></table></div>"
      ]
     },
     "metadata": {
      "application/vnd.databricks.v1+output": {
       "addedWidgets": {},
       "aggData": [],
       "aggError": "",
       "aggOverflow": false,
       "aggSchema": [],
       "aggSeriesLimitReached": false,
       "aggType": "",
       "arguments": {},
       "columnCustomDisplayInfos": {},
       "data": [
        [
         "8802",
         "tremblay",
         "rue de la gare",
         "69007",
         "Lyon",
         "0476123456"
        ],
        [
         "8803",
         "durand",
         "rue jules verne",
         "21000",
         "Dijon",
         "0359841593"
        ],
        [
         "9001",
         "mutter",
         "rue gambetta",
         "69120",
         "Villeurbanne",
         "0425698541"
        ],
        [
         "9002",
         "rossi",
         "boulevard jean jaures",
         "69007",
         "Lyon",
         "0452496478"
        ],
        [
         "9501",
         "pelletier",
         "avenue allende",
         "75002",
         "Paris",
         "0125964832"
        ],
        [
         "9601",
         "guillet",
         "cours emile zola",
         "71000",
         "M�con",
         "0486541236"
        ],
        [
         "9701",
         "macron",
         "avenue charles de gaulle",
         "42005",
         "Saint-Etienne",
         "0475693219"
        ],
        [
         "9702",
         "mbappe",
         "rue benoit bernard",
         "38725",
         "Bourgoin-Jailleux",
         "0405485366"
        ],
        [
         "9801",
         "diaz",
         "rue de la guerre",
         "69008",
         "Lyon",
         "0458315537"
        ]
       ],
       "datasetInfos": [],
       "dbfsResultPath": null,
       "isJsonSchema": true,
       "metadata": {},
       "overflow": false,
       "plotOptions": {
        "customPlotOptions": {},
        "displayType": "table",
        "pivotAggregation": null,
        "pivotColumns": null,
        "xColumns": null,
        "yColumns": null
       },
       "removedWidgets": [],
       "schema": [
        {
         "metadata": "{}",
         "name": "idcli",
         "type": "\"string\""
        },
        {
         "metadata": "{}",
         "name": "nomcli",
         "type": "\"string\""
        },
        {
         "metadata": "{}",
         "name": "adrcli",
         "type": "\"string\""
        },
        {
         "metadata": "{}",
         "name": "cpcli",
         "type": "\"string\""
        },
        {
         "metadata": "{}",
         "name": "vilcli",
         "type": "\"string\""
        },
        {
         "metadata": "{}",
         "name": "telcli",
         "type": "\"string\""
        }
       ],
       "type": "table"
      }
     },
     "output_type": "display_data"
    }
   ],
   "source": [
    "%sql\n",
    "select *\n",
    "from client"
   ]
  },
  {
   "cell_type": "code",
   "execution_count": 0,
   "metadata": {
    "application/vnd.databricks.v1+cell": {
     "inputWidgets": {},
     "nuid": "1eba2033-103f-401c-8e68-7a44f21f3373",
     "showTitle": false,
     "title": ""
    }
   },
   "outputs": [
    {
     "data": {
      "text/html": [
       "<style scoped>\n",
       "  .table-result-container {\n",
       "    max-height: 300px;\n",
       "    overflow: auto;\n",
       "  }\n",
       "  table, th, td {\n",
       "    border: 1px solid black;\n",
       "    border-collapse: collapse;\n",
       "  }\n",
       "  th, td {\n",
       "    padding: 5px;\n",
       "  }\n",
       "  th {\n",
       "    text-align: left;\n",
       "  }\n",
       "</style><div class='table-result-container'><table class='table-result'><thead style='background-color: white'><tr><th>col_name</th><th>data_type</th><th>comment</th></tr></thead><tbody><tr><td>idcli</td><td>string</td><td>null</td></tr><tr><td>nomcli</td><td>string</td><td>null</td></tr><tr><td>adrcli</td><td>string</td><td>null</td></tr><tr><td>cpcli</td><td>string</td><td>null</td></tr><tr><td>vilcli</td><td>string</td><td>null</td></tr><tr><td>telcli</td><td>string</td><td>null</td></tr><tr><td></td><td></td><td></td></tr><tr><td># Detailed Table Information</td><td></td><td></td></tr><tr><td>Database</td><td>default</td><td></td></tr><tr><td>Table</td><td>client</td><td></td></tr><tr><td>Owner</td><td>root</td><td></td></tr><tr><td>Created Time</td><td>Sun Mar 20 09:04:51 UTC 2022</td><td></td></tr><tr><td>Last Access</td><td>UNKNOWN</td><td></td></tr><tr><td>Created By</td><td>Spark 3.0.1</td><td></td></tr><tr><td>Type</td><td>EXTERNAL</td><td></td></tr><tr><td>Provider</td><td>csv</td><td></td></tr><tr><td>Location</td><td>dbfs:/FileStore/tables/client__1_.csv</td><td></td></tr><tr><td>Serde Library</td><td>org.apache.hadoop.hive.serde2.lazy.LazySimpleSerDe</td><td></td></tr><tr><td>InputFormat</td><td>org.apache.hadoop.mapred.SequenceFileInputFormat</td><td></td></tr><tr><td>OutputFormat</td><td>org.apache.hadoop.hive.ql.io.HiveSequenceFileOutputFormat</td><td></td></tr><tr><td>Storage Properties</td><td>[header=true, sep=;]</td><td></td></tr></tbody></table></div>"
      ]
     },
     "metadata": {
      "application/vnd.databricks.v1+output": {
       "addedWidgets": {},
       "aggData": [],
       "aggError": "",
       "aggOverflow": false,
       "aggSchema": [],
       "aggSeriesLimitReached": false,
       "aggType": "",
       "arguments": {},
       "columnCustomDisplayInfos": {},
       "data": [
        [
         "idcli",
         "string",
         null
        ],
        [
         "nomcli",
         "string",
         null
        ],
        [
         "adrcli",
         "string",
         null
        ],
        [
         "cpcli",
         "string",
         null
        ],
        [
         "vilcli",
         "string",
         null
        ],
        [
         "telcli",
         "string",
         null
        ],
        [
         "",
         "",
         ""
        ],
        [
         "# Detailed Table Information",
         "",
         ""
        ],
        [
         "Database",
         "default",
         ""
        ],
        [
         "Table",
         "client",
         ""
        ],
        [
         "Owner",
         "root",
         ""
        ],
        [
         "Created Time",
         "Sun Mar 20 09:04:51 UTC 2022",
         ""
        ],
        [
         "Last Access",
         "UNKNOWN",
         ""
        ],
        [
         "Created By",
         "Spark 3.0.1",
         ""
        ],
        [
         "Type",
         "EXTERNAL",
         ""
        ],
        [
         "Provider",
         "csv",
         ""
        ],
        [
         "Location",
         "dbfs:/FileStore/tables/client__1_.csv",
         ""
        ],
        [
         "Serde Library",
         "org.apache.hadoop.hive.serde2.lazy.LazySimpleSerDe",
         ""
        ],
        [
         "InputFormat",
         "org.apache.hadoop.mapred.SequenceFileInputFormat",
         ""
        ],
        [
         "OutputFormat",
         "org.apache.hadoop.hive.ql.io.HiveSequenceFileOutputFormat",
         ""
        ],
        [
         "Storage Properties",
         "[header=true, sep=;]",
         ""
        ]
       ],
       "datasetInfos": [],
       "dbfsResultPath": null,
       "isJsonSchema": true,
       "metadata": {},
       "overflow": false,
       "plotOptions": {
        "customPlotOptions": {},
        "displayType": "table",
        "pivotAggregation": null,
        "pivotColumns": null,
        "xColumns": null,
        "yColumns": null
       },
       "removedWidgets": [],
       "schema": [
        {
         "metadata": "{\"comment\":\"name of the column\"}",
         "name": "col_name",
         "type": "\"string\""
        },
        {
         "metadata": "{\"comment\":\"data type of the column\"}",
         "name": "data_type",
         "type": "\"string\""
        },
        {
         "metadata": "{\"comment\":\"comment of the column\"}",
         "name": "comment",
         "type": "\"string\""
        }
       ],
       "type": "table"
      }
     },
     "output_type": "display_data"
    }
   ],
   "source": [
    "%sql\n",
    "describe formatted client\n",
    "\n",
    "-- le type de tous les éléments est string"
   ]
  },
  {
   "cell_type": "code",
   "execution_count": 0,
   "metadata": {
    "application/vnd.databricks.v1+cell": {
     "inputWidgets": {},
     "nuid": "6c772242-c97e-4fb9-a2ea-0d3e9f962d41",
     "showTitle": false,
     "title": ""
    }
   },
   "outputs": [
    {
     "data": {
      "text/html": [
       "<style scoped>\n",
       "  .table-result-container {\n",
       "    max-height: 300px;\n",
       "    overflow: auto;\n",
       "  }\n",
       "  table, th, td {\n",
       "    border: 1px solid black;\n",
       "    border-collapse: collapse;\n",
       "  }\n",
       "  th, td {\n",
       "    padding: 5px;\n",
       "  }\n",
       "  th {\n",
       "    text-align: left;\n",
       "  }\n",
       "</style><div class='table-result-container'><table class='table-result'><thead style='background-color: white'><tr><th>distinct_client</th></tr></thead><tbody><tr><td>9</td></tr></tbody></table></div>"
      ]
     },
     "metadata": {
      "application/vnd.databricks.v1+output": {
       "addedWidgets": {},
       "aggData": [],
       "aggError": "",
       "aggOverflow": false,
       "aggSchema": [],
       "aggSeriesLimitReached": false,
       "aggType": "",
       "arguments": {},
       "columnCustomDisplayInfos": {},
       "data": [
        [
         9
        ]
       ],
       "datasetInfos": [],
       "dbfsResultPath": null,
       "isJsonSchema": true,
       "metadata": {},
       "overflow": false,
       "plotOptions": {
        "customPlotOptions": {},
        "displayType": "table",
        "pivotAggregation": null,
        "pivotColumns": null,
        "xColumns": null,
        "yColumns": null
       },
       "removedWidgets": [],
       "schema": [
        {
         "metadata": "{}",
         "name": "distinct_client",
         "type": "\"long\""
        }
       ],
       "type": "table"
      }
     },
     "output_type": "display_data"
    }
   ],
   "source": [
    "%sql\n",
    "select count(distinct*) as distinct_client\n",
    "from client\n",
    "\n",
    "-- pas de doublons "
   ]
  },
  {
   "cell_type": "markdown",
   "metadata": {
    "application/vnd.databricks.v1+cell": {
     "inputWidgets": {},
     "nuid": "cec36b28-9866-411d-8c8f-0aa3f3aa7e39",
     "showTitle": false,
     "title": ""
    }
   },
   "source": [
    "## Requêtes"
   ]
  },
  {
   "cell_type": "markdown",
   "metadata": {
    "application/vnd.databricks.v1+cell": {
     "inputWidgets": {},
     "nuid": "46f424ba-f700-473d-9013-1660b6d41d28",
     "showTitle": false,
     "title": ""
    }
   },
   "source": [
    "### Requête 1 - Donner les caractéristiques des clients"
   ]
  },
  {
   "cell_type": "code",
   "execution_count": 0,
   "metadata": {
    "application/vnd.databricks.v1+cell": {
     "inputWidgets": {},
     "nuid": "a3e31a19-2c07-4ad2-b122-8530c9872975",
     "showTitle": false,
     "title": ""
    }
   },
   "outputs": [
    {
     "data": {
      "text/html": [
       "<style scoped>\n",
       "  .table-result-container {\n",
       "    max-height: 300px;\n",
       "    overflow: auto;\n",
       "  }\n",
       "  table, th, td {\n",
       "    border: 1px solid black;\n",
       "    border-collapse: collapse;\n",
       "  }\n",
       "  th, td {\n",
       "    padding: 5px;\n",
       "  }\n",
       "  th {\n",
       "    text-align: left;\n",
       "  }\n",
       "</style><div class='table-result-container'><table class='table-result'><thead style='background-color: white'><tr><th>idcli</th><th>nomcli</th><th>adrcli</th><th>cpcli</th><th>vilcli</th><th>telcli</th></tr></thead><tbody><tr><td>8802</td><td>tremblay</td><td>rue de la gare</td><td>69007</td><td>Lyon</td><td>0476123456</td></tr><tr><td>8803</td><td>durand</td><td>rue jules verne</td><td>21000</td><td>Dijon</td><td>0359841593</td></tr><tr><td>9001</td><td>mutter</td><td>rue gambetta</td><td>69120</td><td>Villeurbanne</td><td>0425698541</td></tr><tr><td>9002</td><td>rossi</td><td>boulevard jean jaures</td><td>69007</td><td>Lyon</td><td>0452496478</td></tr><tr><td>9501</td><td>pelletier</td><td>avenue allende</td><td>75002</td><td>Paris</td><td>0125964832</td></tr><tr><td>9601</td><td>guillet</td><td>cours emile zola</td><td>71000</td><td>M�con</td><td>0486541236</td></tr><tr><td>9701</td><td>macron</td><td>avenue charles de gaulle</td><td>42005</td><td>Saint-Etienne</td><td>0475693219</td></tr><tr><td>9702</td><td>mbappe</td><td>rue benoit bernard</td><td>38725</td><td>Bourgoin-Jailleux</td><td>0405485366</td></tr><tr><td>9801</td><td>diaz</td><td>rue de la guerre</td><td>69008</td><td>Lyon</td><td>0458315537</td></tr></tbody></table></div>"
      ]
     },
     "metadata": {
      "application/vnd.databricks.v1+output": {
       "addedWidgets": {},
       "aggData": [],
       "aggError": "",
       "aggOverflow": false,
       "aggSchema": [],
       "aggSeriesLimitReached": false,
       "aggType": "",
       "arguments": {},
       "columnCustomDisplayInfos": {},
       "data": [
        [
         "8802",
         "tremblay",
         "rue de la gare",
         "69007",
         "Lyon",
         "0476123456"
        ],
        [
         "8803",
         "durand",
         "rue jules verne",
         "21000",
         "Dijon",
         "0359841593"
        ],
        [
         "9001",
         "mutter",
         "rue gambetta",
         "69120",
         "Villeurbanne",
         "0425698541"
        ],
        [
         "9002",
         "rossi",
         "boulevard jean jaures",
         "69007",
         "Lyon",
         "0452496478"
        ],
        [
         "9501",
         "pelletier",
         "avenue allende",
         "75002",
         "Paris",
         "0125964832"
        ],
        [
         "9601",
         "guillet",
         "cours emile zola",
         "71000",
         "M�con",
         "0486541236"
        ],
        [
         "9701",
         "macron",
         "avenue charles de gaulle",
         "42005",
         "Saint-Etienne",
         "0475693219"
        ],
        [
         "9702",
         "mbappe",
         "rue benoit bernard",
         "38725",
         "Bourgoin-Jailleux",
         "0405485366"
        ],
        [
         "9801",
         "diaz",
         "rue de la guerre",
         "69008",
         "Lyon",
         "0458315537"
        ]
       ],
       "datasetInfos": [],
       "dbfsResultPath": null,
       "isJsonSchema": true,
       "metadata": {},
       "overflow": false,
       "plotOptions": {
        "customPlotOptions": {},
        "displayType": "table",
        "pivotAggregation": null,
        "pivotColumns": null,
        "xColumns": null,
        "yColumns": null
       },
       "removedWidgets": [],
       "schema": [
        {
         "metadata": "{}",
         "name": "idcli",
         "type": "\"string\""
        },
        {
         "metadata": "{}",
         "name": "nomcli",
         "type": "\"string\""
        },
        {
         "metadata": "{}",
         "name": "adrcli",
         "type": "\"string\""
        },
        {
         "metadata": "{}",
         "name": "cpcli",
         "type": "\"string\""
        },
        {
         "metadata": "{}",
         "name": "vilcli",
         "type": "\"string\""
        },
        {
         "metadata": "{}",
         "name": "telcli",
         "type": "\"string\""
        }
       ],
       "type": "table"
      }
     },
     "output_type": "display_data"
    }
   ],
   "source": [
    "%sql \n",
    "select * \n",
    "from client"
   ]
  },
  {
   "cell_type": "code",
   "execution_count": 0,
   "metadata": {
    "application/vnd.databricks.v1+cell": {
     "inputWidgets": {},
     "nuid": "dd7b3397-ca84-4fb4-9b50-e1ce92d1c089",
     "showTitle": false,
     "title": ""
    }
   },
   "outputs": [
    {
     "data": {
      "text/html": [
       "<style scoped>\n",
       "  .table-result-container {\n",
       "    max-height: 300px;\n",
       "    overflow: auto;\n",
       "  }\n",
       "  table, th, td {\n",
       "    border: 1px solid black;\n",
       "    border-collapse: collapse;\n",
       "  }\n",
       "  th, td {\n",
       "    padding: 5px;\n",
       "  }\n",
       "  th {\n",
       "    text-align: left;\n",
       "  }\n",
       "</style><div class='table-result-container'><table class='table-result'><thead style='background-color: white'><tr><th>concat(Le client , ucase(nomcli),  ayant le numéro , idcli,  habite , adrcli,  , cpcli,  , vilcli, . Son numéro est le , telcli, .)</th></tr></thead><tbody><tr><td>Le client TREMBLAY ayant le numéro 8802 habite rue de la gare 69007 Lyon. Son numéro est le 0476123456.</td></tr><tr><td>Le client DURAND ayant le numéro 8803 habite rue jules verne 21000 Dijon. Son numéro est le 0359841593.</td></tr><tr><td>Le client MUTTER ayant le numéro 9001 habite rue gambetta 69120 Villeurbanne. Son numéro est le 0425698541.</td></tr><tr><td>Le client ROSSI ayant le numéro 9002 habite boulevard jean jaures 69007 Lyon. Son numéro est le 0452496478.</td></tr><tr><td>Le client PELLETIER ayant le numéro 9501 habite avenue allende 75002 Paris. Son numéro est le 0125964832.</td></tr><tr><td>Le client GUILLET ayant le numéro 9601 habite cours emile zola 71000 M�con. Son numéro est le 0486541236.</td></tr><tr><td>Le client MACRON ayant le numéro 9701 habite avenue charles de gaulle 42005 Saint-Etienne. Son numéro est le 0475693219.</td></tr><tr><td>Le client MBAPPE ayant le numéro 9702 habite rue benoit bernard 38725 Bourgoin-Jailleux. Son numéro est le 0405485366.</td></tr><tr><td>Le client DIAZ ayant le numéro 9801 habite rue de la guerre 69008 Lyon. Son numéro est le 0458315537.</td></tr></tbody></table></div>"
      ]
     },
     "metadata": {
      "application/vnd.databricks.v1+output": {
       "addedWidgets": {},
       "aggData": [],
       "aggError": "",
       "aggOverflow": false,
       "aggSchema": [],
       "aggSeriesLimitReached": false,
       "aggType": "",
       "arguments": {},
       "columnCustomDisplayInfos": {},
       "data": [
        [
         "Le client TREMBLAY ayant le numéro 8802 habite rue de la gare 69007 Lyon. Son numéro est le 0476123456."
        ],
        [
         "Le client DURAND ayant le numéro 8803 habite rue jules verne 21000 Dijon. Son numéro est le 0359841593."
        ],
        [
         "Le client MUTTER ayant le numéro 9001 habite rue gambetta 69120 Villeurbanne. Son numéro est le 0425698541."
        ],
        [
         "Le client ROSSI ayant le numéro 9002 habite boulevard jean jaures 69007 Lyon. Son numéro est le 0452496478."
        ],
        [
         "Le client PELLETIER ayant le numéro 9501 habite avenue allende 75002 Paris. Son numéro est le 0125964832."
        ],
        [
         "Le client GUILLET ayant le numéro 9601 habite cours emile zola 71000 M�con. Son numéro est le 0486541236."
        ],
        [
         "Le client MACRON ayant le numéro 9701 habite avenue charles de gaulle 42005 Saint-Etienne. Son numéro est le 0475693219."
        ],
        [
         "Le client MBAPPE ayant le numéro 9702 habite rue benoit bernard 38725 Bourgoin-Jailleux. Son numéro est le 0405485366."
        ],
        [
         "Le client DIAZ ayant le numéro 9801 habite rue de la guerre 69008 Lyon. Son numéro est le 0458315537."
        ]
       ],
       "datasetInfos": [],
       "dbfsResultPath": null,
       "isJsonSchema": true,
       "metadata": {},
       "overflow": false,
       "plotOptions": {
        "customPlotOptions": {},
        "displayType": "table",
        "pivotAggregation": null,
        "pivotColumns": null,
        "xColumns": null,
        "yColumns": null
       },
       "removedWidgets": [],
       "schema": [
        {
         "metadata": "{}",
         "name": "concat(Le client , ucase(nomcli),  ayant le numéro , idcli,  habite , adrcli,  , cpcli,  , vilcli, . Son numéro est le , telcli, .)",
         "type": "\"string\""
        }
       ],
       "type": "table"
      }
     },
     "output_type": "display_data"
    }
   ],
   "source": [
    "%sql \n",
    "select \n",
    "concat (\"Le client \", UCASE(nomcli), \" ayant le numéro \", idcli, \" habite \", adrcli, \" \", cpcli, \" \", vilcli, \". Son numéro est le \", telcli, \".\")\n",
    "from client"
   ]
  },
  {
   "cell_type": "markdown",
   "metadata": {
    "application/vnd.databricks.v1+cell": {
     "inputWidgets": {},
     "nuid": "c4ab7d47-d8d7-41a8-b3f4-4af81cb4934f",
     "showTitle": false,
     "title": ""
    }
   },
   "source": [
    "### Requête 2 - Donner toutes les villes des fournisseurs"
   ]
  },
  {
   "cell_type": "code",
   "execution_count": 0,
   "metadata": {
    "application/vnd.databricks.v1+cell": {
     "inputWidgets": {},
     "nuid": "e9da4d95-fae1-4f75-8853-664a96a3f8e0",
     "showTitle": false,
     "title": ""
    }
   },
   "outputs": [
    {
     "data": {
      "text/html": [
       "<style scoped>\n",
       "  .table-result-container {\n",
       "    max-height: 300px;\n",
       "    overflow: auto;\n",
       "  }\n",
       "  table, th, td {\n",
       "    border: 1px solid black;\n",
       "    border-collapse: collapse;\n",
       "  }\n",
       "  th, td {\n",
       "    padding: 5px;\n",
       "  }\n",
       "  th {\n",
       "    text-align: left;\n",
       "  }\n",
       "</style><div class='table-result-container'><table class='table-result'><thead style='background-color: white'><tr><th>concat(Le fournisseur , ucase(nomfour),  , numéro , numfour,  provient de la ville de , vilfour, .)</th></tr></thead><tbody><tr><td>Le fournisseur MERLIN , numéro 670 provient de la ville de lyon.</td></tr><tr><td>Le fournisseur DUBOIS , numéro 1002101 provient de la ville de dijon.</td></tr><tr><td>Le fournisseur BROSSETTE , numéro 1002102 provient de la ville de dijon.</td></tr><tr><td>Le fournisseur FAURE , numéro 3006901 provient de la ville de lyon.</td></tr><tr><td>Le fournisseur GASPARD , numéro 4006901 provient de la ville de villeurbanne.</td></tr><tr><td>Le fournisseur MERLIN , numéro 4007101 provient de la ville de macon.</td></tr><tr><td>Le fournisseur GASPARD , numéro 5008101 provient de la ville de nice.</td></tr><tr><td>Le fournisseur DUBOIS , numéro 5008102 provient de la ville de toulon.</td></tr><tr><td>Le fournisseur AUCHAN , numéro 5008001 provient de la ville de paris.</td></tr></tbody></table></div>"
      ]
     },
     "metadata": {
      "application/vnd.databricks.v1+output": {
       "addedWidgets": {},
       "aggData": [],
       "aggError": "",
       "aggOverflow": false,
       "aggSchema": [],
       "aggSeriesLimitReached": false,
       "aggType": "",
       "arguments": {},
       "columnCustomDisplayInfos": {},
       "data": [
        [
         "Le fournisseur MERLIN , numéro 670 provient de la ville de lyon."
        ],
        [
         "Le fournisseur DUBOIS , numéro 1002101 provient de la ville de dijon."
        ],
        [
         "Le fournisseur BROSSETTE , numéro 1002102 provient de la ville de dijon."
        ],
        [
         "Le fournisseur FAURE , numéro 3006901 provient de la ville de lyon."
        ],
        [
         "Le fournisseur GASPARD , numéro 4006901 provient de la ville de villeurbanne."
        ],
        [
         "Le fournisseur MERLIN , numéro 4007101 provient de la ville de macon."
        ],
        [
         "Le fournisseur GASPARD , numéro 5008101 provient de la ville de nice."
        ],
        [
         "Le fournisseur DUBOIS , numéro 5008102 provient de la ville de toulon."
        ],
        [
         "Le fournisseur AUCHAN , numéro 5008001 provient de la ville de paris."
        ]
       ],
       "datasetInfos": [],
       "dbfsResultPath": null,
       "isJsonSchema": true,
       "metadata": {},
       "overflow": false,
       "plotOptions": {
        "customPlotOptions": {},
        "displayType": "table",
        "pivotAggregation": null,
        "pivotColumns": null,
        "xColumns": null,
        "yColumns": null
       },
       "removedWidgets": [],
       "schema": [
        {
         "metadata": "{}",
         "name": "concat(Le fournisseur , ucase(nomfour),  , numéro , numfour,  provient de la ville de , vilfour, .)",
         "type": "\"string\""
        }
       ],
       "type": "table"
      }
     },
     "output_type": "display_data"
    }
   ],
   "source": [
    "%sql \n",
    "select \n",
    "concat (\"Le fournisseur \", Ucase(nomfour),\" , numéro \", numfour, \" provient de la ville de \", vilfour, \".\")\n",
    "from fournisseur"
   ]
  },
  {
   "cell_type": "code",
   "execution_count": 0,
   "metadata": {
    "application/vnd.databricks.v1+cell": {
     "inputWidgets": {},
     "nuid": "a69754e7-328f-47ef-a932-44356660a731",
     "showTitle": false,
     "title": ""
    }
   },
   "outputs": [
    {
     "data": {
      "text/html": [
       "<style scoped>\n",
       "  .table-result-container {\n",
       "    max-height: 300px;\n",
       "    overflow: auto;\n",
       "  }\n",
       "  table, th, td {\n",
       "    border: 1px solid black;\n",
       "    border-collapse: collapse;\n",
       "  }\n",
       "  th, td {\n",
       "    padding: 5px;\n",
       "  }\n",
       "  th {\n",
       "    text-align: left;\n",
       "  }\n",
       "</style><div class='table-result-container'><table class='table-result'><thead style='background-color: white'><tr><th>distinct_vilfour</th></tr></thead><tbody><tr><td>paris</td></tr><tr><td>macon</td></tr><tr><td>lyon</td></tr><tr><td>dijon</td></tr><tr><td>nice</td></tr><tr><td>toulon</td></tr><tr><td>villeurbanne</td></tr></tbody></table></div>"
      ]
     },
     "metadata": {
      "application/vnd.databricks.v1+output": {
       "addedWidgets": {},
       "aggData": [],
       "aggError": "",
       "aggOverflow": false,
       "aggSchema": [],
       "aggSeriesLimitReached": false,
       "aggType": "",
       "arguments": {},
       "columnCustomDisplayInfos": {},
       "data": [
        [
         "paris"
        ],
        [
         "macon"
        ],
        [
         "lyon"
        ],
        [
         "dijon"
        ],
        [
         "nice"
        ],
        [
         "toulon"
        ],
        [
         "villeurbanne"
        ]
       ],
       "datasetInfos": [],
       "dbfsResultPath": null,
       "isJsonSchema": true,
       "metadata": {},
       "overflow": false,
       "plotOptions": {
        "customPlotOptions": {},
        "displayType": "table",
        "pivotAggregation": null,
        "pivotColumns": null,
        "xColumns": null,
        "yColumns": null
       },
       "removedWidgets": [],
       "schema": [
        {
         "metadata": "{}",
         "name": "distinct_vilfour",
         "type": "\"string\""
        }
       ],
       "type": "table"
      }
     },
     "output_type": "display_data"
    }
   ],
   "source": [
    "%sql \n",
    "select distinct(vilfour) as distinct_vilfour\n",
    "from fournisseur"
   ]
  },
  {
   "cell_type": "markdown",
   "metadata": {
    "application/vnd.databricks.v1+cell": {
     "inputWidgets": {},
     "nuid": "f40443f6-91b7-48bb-9994-ca5161b02e87",
     "showTitle": false,
     "title": ""
    }
   },
   "source": [
    "### Requête 3 -  Donner les villes et codes postaux des clients"
   ]
  },
  {
   "cell_type": "code",
   "execution_count": 0,
   "metadata": {
    "application/vnd.databricks.v1+cell": {
     "inputWidgets": {},
     "nuid": "c74fb13f-a3af-44d5-83ad-79b3f396f621",
     "showTitle": false,
     "title": ""
    }
   },
   "outputs": [
    {
     "data": {
      "text/html": [
       "<style scoped>\n",
       "  .table-result-container {\n",
       "    max-height: 300px;\n",
       "    overflow: auto;\n",
       "  }\n",
       "  table, th, td {\n",
       "    border: 1px solid black;\n",
       "    border-collapse: collapse;\n",
       "  }\n",
       "  th, td {\n",
       "    padding: 5px;\n",
       "  }\n",
       "  th {\n",
       "    text-align: left;\n",
       "  }\n",
       "</style><div class='table-result-container'><table class='table-result'><thead style='background-color: white'><tr><th>nomcli</th><th>cpcli</th><th>vilcli</th></tr></thead><tbody><tr><td>tremblay</td><td>69007</td><td>Lyon</td></tr><tr><td>durand</td><td>21000</td><td>Dijon</td></tr><tr><td>mutter</td><td>69120</td><td>Villeurbanne</td></tr><tr><td>rossi</td><td>69007</td><td>Lyon</td></tr><tr><td>pelletier</td><td>75002</td><td>Paris</td></tr><tr><td>guillet</td><td>71000</td><td>M�con</td></tr><tr><td>macron</td><td>42005</td><td>Saint-Etienne</td></tr><tr><td>mbappe</td><td>38725</td><td>Bourgoin-Jailleux</td></tr><tr><td>diaz</td><td>69008</td><td>Lyon</td></tr></tbody></table></div>"
      ]
     },
     "metadata": {
      "application/vnd.databricks.v1+output": {
       "addedWidgets": {},
       "aggData": [],
       "aggError": "",
       "aggOverflow": false,
       "aggSchema": [],
       "aggSeriesLimitReached": false,
       "aggType": "",
       "arguments": {},
       "columnCustomDisplayInfos": {},
       "data": [
        [
         "tremblay",
         "69007",
         "Lyon"
        ],
        [
         "durand",
         "21000",
         "Dijon"
        ],
        [
         "mutter",
         "69120",
         "Villeurbanne"
        ],
        [
         "rossi",
         "69007",
         "Lyon"
        ],
        [
         "pelletier",
         "75002",
         "Paris"
        ],
        [
         "guillet",
         "71000",
         "M�con"
        ],
        [
         "macron",
         "42005",
         "Saint-Etienne"
        ],
        [
         "mbappe",
         "38725",
         "Bourgoin-Jailleux"
        ],
        [
         "diaz",
         "69008",
         "Lyon"
        ]
       ],
       "datasetInfos": [],
       "dbfsResultPath": null,
       "isJsonSchema": true,
       "metadata": {},
       "overflow": false,
       "plotOptions": {
        "customPlotOptions": {},
        "displayType": "table",
        "pivotAggregation": null,
        "pivotColumns": null,
        "xColumns": null,
        "yColumns": null
       },
       "removedWidgets": [],
       "schema": [
        {
         "metadata": "{}",
         "name": "nomcli",
         "type": "\"string\""
        },
        {
         "metadata": "{}",
         "name": "cpcli",
         "type": "\"string\""
        },
        {
         "metadata": "{}",
         "name": "vilcli",
         "type": "\"string\""
        }
       ],
       "type": "table"
      }
     },
     "output_type": "display_data"
    }
   ],
   "source": [
    "%sql\n",
    "select nomcli, cpcli, vilcli\n",
    "from client"
   ]
  },
  {
   "cell_type": "code",
   "execution_count": 0,
   "metadata": {
    "application/vnd.databricks.v1+cell": {
     "inputWidgets": {},
     "nuid": "ee138e30-a4e9-4982-a5e5-24e154a4b6d6",
     "showTitle": false,
     "title": ""
    }
   },
   "outputs": [
    {
     "data": {
      "text/html": [
       "<style scoped>\n",
       "  .table-result-container {\n",
       "    max-height: 300px;\n",
       "    overflow: auto;\n",
       "  }\n",
       "  table, th, td {\n",
       "    border: 1px solid black;\n",
       "    border-collapse: collapse;\n",
       "  }\n",
       "  th, td {\n",
       "    padding: 5px;\n",
       "  }\n",
       "  th {\n",
       "    text-align: left;\n",
       "  }\n",
       "</style><div class='table-result-container'><table class='table-result'><thead style='background-color: white'><tr><th>client</th></tr></thead><tbody><tr><td>Le client TREMBLAY habite dans la ville de Lyon, 69007.</td></tr><tr><td>Le client DURAND habite dans la ville de Dijon, 21000.</td></tr><tr><td>Le client MUTTER habite dans la ville de Villeurbanne, 69120.</td></tr><tr><td>Le client ROSSI habite dans la ville de Lyon, 69007.</td></tr><tr><td>Le client PELLETIER habite dans la ville de Paris, 75002.</td></tr><tr><td>Le client GUILLET habite dans la ville de M�con, 71000.</td></tr><tr><td>Le client MACRON habite dans la ville de Saint-Etienne, 42005.</td></tr><tr><td>Le client MBAPPE habite dans la ville de Bourgoin-Jailleux, 38725.</td></tr><tr><td>Le client DIAZ habite dans la ville de Lyon, 69008.</td></tr></tbody></table></div>"
      ]
     },
     "metadata": {
      "application/vnd.databricks.v1+output": {
       "addedWidgets": {},
       "aggData": [],
       "aggError": "",
       "aggOverflow": false,
       "aggSchema": [],
       "aggSeriesLimitReached": false,
       "aggType": "",
       "arguments": {},
       "columnCustomDisplayInfos": {},
       "data": [
        [
         "Le client TREMBLAY habite dans la ville de Lyon, 69007."
        ],
        [
         "Le client DURAND habite dans la ville de Dijon, 21000."
        ],
        [
         "Le client MUTTER habite dans la ville de Villeurbanne, 69120."
        ],
        [
         "Le client ROSSI habite dans la ville de Lyon, 69007."
        ],
        [
         "Le client PELLETIER habite dans la ville de Paris, 75002."
        ],
        [
         "Le client GUILLET habite dans la ville de M�con, 71000."
        ],
        [
         "Le client MACRON habite dans la ville de Saint-Etienne, 42005."
        ],
        [
         "Le client MBAPPE habite dans la ville de Bourgoin-Jailleux, 38725."
        ],
        [
         "Le client DIAZ habite dans la ville de Lyon, 69008."
        ]
       ],
       "datasetInfos": [],
       "dbfsResultPath": null,
       "isJsonSchema": true,
       "metadata": {},
       "overflow": false,
       "plotOptions": {
        "customPlotOptions": {},
        "displayType": "table",
        "pivotAggregation": null,
        "pivotColumns": null,
        "xColumns": null,
        "yColumns": null
       },
       "removedWidgets": [],
       "schema": [
        {
         "metadata": "{}",
         "name": "client",
         "type": "\"string\""
        }
       ],
       "type": "table"
      }
     },
     "output_type": "display_data"
    }
   ],
   "source": [
    "%sql \n",
    "select \n",
    "concat (\"Le client \", UCASE(nomcli),  \" habite dans la ville de \", vilcli, \", \", cpcli, \".\") as client\n",
    "from client"
   ]
  },
  {
   "cell_type": "code",
   "execution_count": 0,
   "metadata": {
    "application/vnd.databricks.v1+cell": {
     "inputWidgets": {},
     "nuid": "72497b55-bbfb-4deb-8354-974199979583",
     "showTitle": false,
     "title": ""
    }
   },
   "outputs": [
    {
     "data": {
      "text/html": [
       "<style scoped>\n",
       "  .table-result-container {\n",
       "    max-height: 300px;\n",
       "    overflow: auto;\n",
       "  }\n",
       "  table, th, td {\n",
       "    border: 1px solid black;\n",
       "    border-collapse: collapse;\n",
       "  }\n",
       "  th, td {\n",
       "    padding: 5px;\n",
       "  }\n",
       "  th {\n",
       "    text-align: left;\n",
       "  }\n",
       "</style><div class='table-result-container'><table class='table-result'><thead style='background-color: white'><tr><th>concat(vilcli, cpcli)</th></tr></thead><tbody><tr><td>Lyon69007</td></tr><tr><td>Dijon21000</td></tr><tr><td>Villeurbanne69120</td></tr><tr><td>Lyon69007</td></tr><tr><td>Paris75002</td></tr><tr><td>M�con71000</td></tr><tr><td>Saint-Etienne42005</td></tr><tr><td>Bourgoin-Jailleux38725</td></tr><tr><td>Lyon69008</td></tr></tbody></table></div>"
      ]
     },
     "metadata": {
      "application/vnd.databricks.v1+output": {
       "addedWidgets": {},
       "aggData": [],
       "aggError": "",
       "aggOverflow": false,
       "aggSchema": [],
       "aggSeriesLimitReached": false,
       "aggType": "",
       "arguments": {},
       "columnCustomDisplayInfos": {},
       "data": [
        [
         "Lyon69007"
        ],
        [
         "Dijon21000"
        ],
        [
         "Villeurbanne69120"
        ],
        [
         "Lyon69007"
        ],
        [
         "Paris75002"
        ],
        [
         "M�con71000"
        ],
        [
         "Saint-Etienne42005"
        ],
        [
         "Bourgoin-Jailleux38725"
        ],
        [
         "Lyon69008"
        ]
       ],
       "datasetInfos": [],
       "dbfsResultPath": null,
       "isJsonSchema": true,
       "metadata": {},
       "overflow": false,
       "plotOptions": {
        "customPlotOptions": {},
        "displayType": "table",
        "pivotAggregation": null,
        "pivotColumns": null,
        "xColumns": null,
        "yColumns": null
       },
       "removedWidgets": [],
       "schema": [
        {
         "metadata": "{}",
         "name": "concat(vilcli, cpcli)",
         "type": "\"string\""
        }
       ],
       "type": "table"
      }
     },
     "output_type": "display_data"
    }
   ],
   "source": [
    "%sql\n",
    "\n",
    "select concat (vilcli, cpcli)\n",
    "from client\n"
   ]
  },
  {
   "cell_type": "code",
   "execution_count": 0,
   "metadata": {
    "application/vnd.databricks.v1+cell": {
     "inputWidgets": {},
     "nuid": "5aecf730-379c-4e19-9146-d2fda94dc5c7",
     "showTitle": false,
     "title": ""
    }
   },
   "outputs": [
    {
     "data": {
      "text/html": [
       "<style scoped>\n",
       "  .table-result-container {\n",
       "    max-height: 300px;\n",
       "    overflow: auto;\n",
       "  }\n",
       "  table, th, td {\n",
       "    border: 1px solid black;\n",
       "    border-collapse: collapse;\n",
       "  }\n",
       "  th, td {\n",
       "    padding: 5px;\n",
       "  }\n",
       "  th {\n",
       "    text-align: left;\n",
       "  }\n",
       "</style><div class='table-result-container'><table class='table-result'><thead style='background-color: white'><tr><th>Cities_postal_codes</th><th>number_of_customers</th></tr></thead><tbody><tr><td>Lyon 69008</td><td>1</td></tr><tr><td>Dijon 21000</td><td>1</td></tr><tr><td>Bourgoin-Jailleux 38725</td><td>1</td></tr><tr><td>Paris 75002</td><td>1</td></tr><tr><td>Villeurbanne 69120</td><td>1</td></tr><tr><td>M�con 71000</td><td>1</td></tr><tr><td>Lyon 69007</td><td>2</td></tr><tr><td>Saint-Etienne 42005</td><td>1</td></tr></tbody></table></div>"
      ]
     },
     "metadata": {
      "application/vnd.databricks.v1+output": {
       "addedWidgets": {},
       "aggData": [],
       "aggError": "",
       "aggOverflow": false,
       "aggSchema": [],
       "aggSeriesLimitReached": false,
       "aggType": "",
       "arguments": {},
       "columnCustomDisplayInfos": {},
       "data": [
        [
         "Lyon 69008",
         1
        ],
        [
         "Dijon 21000",
         1
        ],
        [
         "Bourgoin-Jailleux 38725",
         1
        ],
        [
         "Paris 75002",
         1
        ],
        [
         "Villeurbanne 69120",
         1
        ],
        [
         "M�con 71000",
         1
        ],
        [
         "Lyon 69007",
         2
        ],
        [
         "Saint-Etienne 42005",
         1
        ]
       ],
       "datasetInfos": [],
       "dbfsResultPath": null,
       "isJsonSchema": true,
       "metadata": {},
       "overflow": false,
       "plotOptions": {
        "customPlotOptions": {},
        "displayType": "table",
        "pivotAggregation": null,
        "pivotColumns": null,
        "xColumns": null,
        "yColumns": null
       },
       "removedWidgets": [],
       "schema": [
        {
         "metadata": "{}",
         "name": "Cities_postal_codes",
         "type": "\"string\""
        },
        {
         "metadata": "{}",
         "name": "number_of_customers",
         "type": "\"long\""
        }
       ],
       "type": "table"
      }
     },
     "output_type": "display_data"
    }
   ],
   "source": [
    "%sql\n",
    "\n",
    "select concat (vilcli,\" \", cpcli) as Cities_postal_codes,\n",
    "count(vilcli) as number_of_customers\n",
    "from client\n",
    "group by Cities_postal_codes"
   ]
  },
  {
   "cell_type": "markdown",
   "metadata": {
    "application/vnd.databricks.v1+cell": {
     "inputWidgets": {},
     "nuid": "3193e122-9396-4cb2-8eac-c1342415f198",
     "showTitle": false,
     "title": ""
    }
   },
   "source": [
    "### Requête 4 - Donner, pour chaque pièce, son prix TTC"
   ]
  },
  {
   "cell_type": "code",
   "execution_count": 0,
   "metadata": {
    "application/vnd.databricks.v1+cell": {
     "inputWidgets": {},
     "nuid": "4f7880cb-c94f-42d4-8f48-83be469a7d6e",
     "showTitle": false,
     "title": ""
    }
   },
   "outputs": [
    {
     "data": {
      "text/html": [
       "<style scoped>\n",
       "  .table-result-container {\n",
       "    max-height: 300px;\n",
       "    overflow: auto;\n",
       "  }\n",
       "  table, th, td {\n",
       "    border: 1px solid black;\n",
       "    border-collapse: collapse;\n",
       "  }\n",
       "  th, td {\n",
       "    padding: 5px;\n",
       "  }\n",
       "  th {\n",
       "    text-align: left;\n",
       "  }\n",
       "</style><div class='table-result-container'><table class='table-result'><thead style='background-color: white'><tr><th>nompce</th><th>pupce</th></tr></thead><tbody><tr><td>bielette</td><td>830,67</td></tr><tr><td>capot</td><td>890</td></tr><tr><td>axe</td><td>410</td></tr><tr><td>moteur</td><td>1215</td></tr><tr><td>verrin</td><td>550</td></tr><tr><td>visserie</td><td>180</td></tr><tr><td>support</td><td>450</td></tr><tr><td>calandre</td><td>615</td></tr></tbody></table></div>"
      ]
     },
     "metadata": {
      "application/vnd.databricks.v1+output": {
       "addedWidgets": {},
       "aggData": [],
       "aggError": "",
       "aggOverflow": false,
       "aggSchema": [],
       "aggSeriesLimitReached": false,
       "aggType": "",
       "arguments": {},
       "columnCustomDisplayInfos": {},
       "data": [
        [
         "bielette",
         "830,67"
        ],
        [
         "capot",
         "890"
        ],
        [
         "axe",
         "410"
        ],
        [
         "moteur",
         "1215"
        ],
        [
         "verrin",
         "550"
        ],
        [
         "visserie",
         "180"
        ],
        [
         "support",
         "450"
        ],
        [
         "calandre",
         "615"
        ]
       ],
       "datasetInfos": [],
       "dbfsResultPath": null,
       "isJsonSchema": true,
       "metadata": {},
       "overflow": false,
       "plotOptions": {
        "customPlotOptions": {},
        "displayType": "table",
        "pivotAggregation": null,
        "pivotColumns": null,
        "xColumns": null,
        "yColumns": null
       },
       "removedWidgets": [],
       "schema": [
        {
         "metadata": "{}",
         "name": "nompce",
         "type": "\"string\""
        },
        {
         "metadata": "{}",
         "name": "pupce",
         "type": "\"string\""
        }
       ],
       "type": "table"
      }
     },
     "output_type": "display_data"
    }
   ],
   "source": [
    "%sql \n",
    "select nompce, pupce\n",
    "from piece"
   ]
  },
  {
   "cell_type": "code",
   "execution_count": 0,
   "metadata": {
    "application/vnd.databricks.v1+cell": {
     "inputWidgets": {},
     "nuid": "72b808c0-42f5-48b9-b608-e5e24062774a",
     "showTitle": false,
     "title": ""
    }
   },
   "outputs": [
    {
     "data": {
      "text/html": [
       "<style scoped>\n",
       "  .table-result-container {\n",
       "    max-height: 300px;\n",
       "    overflow: auto;\n",
       "  }\n",
       "  table, th, td {\n",
       "    border: 1px solid black;\n",
       "    border-collapse: collapse;\n",
       "  }\n",
       "  th, td {\n",
       "    padding: 5px;\n",
       "  }\n",
       "  th {\n",
       "    text-align: left;\n",
       "  }\n",
       "</style><div class='table-result-container'><table class='table-result'><thead style='background-color: white'><tr><th>concat(La pièce , nompce,  a pour prix TTC: , pupce, €.)</th></tr></thead><tbody><tr><td>La pièce bielette a pour prix TTC: 830,67€.</td></tr><tr><td>La pièce capot a pour prix TTC: 890€.</td></tr><tr><td>La pièce axe a pour prix TTC: 410€.</td></tr><tr><td>La pièce moteur a pour prix TTC: 1215€.</td></tr><tr><td>La pièce verrin a pour prix TTC: 550€.</td></tr><tr><td>La pièce visserie a pour prix TTC: 180€.</td></tr><tr><td>La pièce support a pour prix TTC: 450€.</td></tr><tr><td>La pièce calandre a pour prix TTC: 615€.</td></tr></tbody></table></div>"
      ]
     },
     "metadata": {
      "application/vnd.databricks.v1+output": {
       "addedWidgets": {},
       "aggData": [],
       "aggError": "",
       "aggOverflow": false,
       "aggSchema": [],
       "aggSeriesLimitReached": false,
       "aggType": "",
       "arguments": {},
       "columnCustomDisplayInfos": {},
       "data": [
        [
         "La pièce bielette a pour prix TTC: 830,67€."
        ],
        [
         "La pièce capot a pour prix TTC: 890€."
        ],
        [
         "La pièce axe a pour prix TTC: 410€."
        ],
        [
         "La pièce moteur a pour prix TTC: 1215€."
        ],
        [
         "La pièce verrin a pour prix TTC: 550€."
        ],
        [
         "La pièce visserie a pour prix TTC: 180€."
        ],
        [
         "La pièce support a pour prix TTC: 450€."
        ],
        [
         "La pièce calandre a pour prix TTC: 615€."
        ]
       ],
       "datasetInfos": [],
       "dbfsResultPath": null,
       "isJsonSchema": true,
       "metadata": {},
       "overflow": false,
       "plotOptions": {
        "customPlotOptions": {},
        "displayType": "table",
        "pivotAggregation": null,
        "pivotColumns": null,
        "xColumns": null,
        "yColumns": null
       },
       "removedWidgets": [],
       "schema": [
        {
         "metadata": "{}",
         "name": "concat(La pièce , nompce,  a pour prix TTC: , pupce, €.)",
         "type": "\"string\""
        }
       ],
       "type": "table"
      }
     },
     "output_type": "display_data"
    }
   ],
   "source": [
    "%sql \n",
    "\n",
    "select \n",
    "concat (\"La pièce \", nompce,  \" a pour prix TTC: \", pupce, \"€.\")\n",
    "from piece "
   ]
  },
  {
   "cell_type": "markdown",
   "metadata": {
    "application/vnd.databricks.v1+cell": {
     "inputWidgets": {},
     "nuid": "563cf852-4a2b-4f20-b4d9-02e2e41c132a",
     "showTitle": false,
     "title": ""
    }
   },
   "source": [
    "### Requête 5 - Donner les caractéristiques des fournisseurs de Dijon"
   ]
  },
  {
   "cell_type": "code",
   "execution_count": 0,
   "metadata": {
    "application/vnd.databricks.v1+cell": {
     "inputWidgets": {},
     "nuid": "9ece467a-4199-4767-9997-973fe3463d11",
     "showTitle": false,
     "title": ""
    }
   },
   "outputs": [
    {
     "data": {
      "text/html": [
       "<style scoped>\n",
       "  .table-result-container {\n",
       "    max-height: 300px;\n",
       "    overflow: auto;\n",
       "  }\n",
       "  table, th, td {\n",
       "    border: 1px solid black;\n",
       "    border-collapse: collapse;\n",
       "  }\n",
       "  th, td {\n",
       "    padding: 5px;\n",
       "  }\n",
       "  th {\n",
       "    text-align: left;\n",
       "  }\n",
       "</style><div class='table-result-container'><table class='table-result'><thead style='background-color: white'><tr><th>numfour</th><th>nomfour</th><th>vilfour</th></tr></thead><tbody><tr><td>1002101</td><td>dubois</td><td>dijon</td></tr><tr><td>1002102</td><td>brossette</td><td>dijon</td></tr></tbody></table></div>"
      ]
     },
     "metadata": {
      "application/vnd.databricks.v1+output": {
       "addedWidgets": {},
       "aggData": [],
       "aggError": "",
       "aggOverflow": false,
       "aggSchema": [],
       "aggSeriesLimitReached": false,
       "aggType": "",
       "arguments": {},
       "columnCustomDisplayInfos": {},
       "data": [
        [
         "1002101",
         "dubois",
         "dijon"
        ],
        [
         "1002102",
         "brossette",
         "dijon"
        ]
       ],
       "datasetInfos": [],
       "dbfsResultPath": null,
       "isJsonSchema": true,
       "metadata": {},
       "overflow": false,
       "plotOptions": {
        "customPlotOptions": {},
        "displayType": "table",
        "pivotAggregation": null,
        "pivotColumns": null,
        "xColumns": null,
        "yColumns": null
       },
       "removedWidgets": [],
       "schema": [
        {
         "metadata": "{}",
         "name": "numfour",
         "type": "\"string\""
        },
        {
         "metadata": "{}",
         "name": "nomfour",
         "type": "\"string\""
        },
        {
         "metadata": "{}",
         "name": "vilfour",
         "type": "\"string\""
        }
       ],
       "type": "table"
      }
     },
     "output_type": "display_data"
    }
   ],
   "source": [
    "%sql\n",
    "\n",
    "select * \n",
    "from fournisseur\n",
    "where vilfour = \"dijon\"\n",
    "\n",
    "-- 2 fournisseurs habitent à Dijon. Mais un seul fournit en pièces."
   ]
  },
  {
   "cell_type": "code",
   "execution_count": 0,
   "metadata": {
    "application/vnd.databricks.v1+cell": {
     "inputWidgets": {},
     "nuid": "f702feec-e253-407a-b64b-1c9ba89536ae",
     "showTitle": false,
     "title": ""
    }
   },
   "outputs": [
    {
     "data": {
      "text/html": [
       "<style scoped>\n",
       "  .table-result-container {\n",
       "    max-height: 300px;\n",
       "    overflow: auto;\n",
       "  }\n",
       "  table, th, td {\n",
       "    border: 1px solid black;\n",
       "    border-collapse: collapse;\n",
       "  }\n",
       "  th, td {\n",
       "    padding: 5px;\n",
       "  }\n",
       "  th {\n",
       "    text-align: left;\n",
       "  }\n",
       "</style><div class='table-result-container'><table class='table-result'><thead style='background-color: white'><tr><th>Nomfour</th><th>vilfour</th><th>numpce</th></tr></thead><tbody><tr><td>dubois</td><td>dijon</td><td>d32</td></tr></tbody></table></div>"
      ]
     },
     "metadata": {
      "application/vnd.databricks.v1+output": {
       "addedWidgets": {},
       "aggData": [],
       "aggError": "",
       "aggOverflow": false,
       "aggSchema": [],
       "aggSeriesLimitReached": false,
       "aggType": "",
       "arguments": {},
       "columnCustomDisplayInfos": {},
       "data": [
        [
         "dubois",
         "dijon",
         "d32"
        ]
       ],
       "datasetInfos": [],
       "dbfsResultPath": null,
       "isJsonSchema": true,
       "metadata": {},
       "overflow": false,
       "plotOptions": {
        "customPlotOptions": {},
        "displayType": "table",
        "pivotAggregation": null,
        "pivotColumns": null,
        "xColumns": null,
        "yColumns": null
       },
       "removedWidgets": [],
       "schema": [
        {
         "metadata": "{}",
         "name": "Nomfour",
         "type": "\"string\""
        },
        {
         "metadata": "{}",
         "name": "vilfour",
         "type": "\"string\""
        },
        {
         "metadata": "{}",
         "name": "numpce",
         "type": "\"string\""
        }
       ],
       "type": "table"
      }
     },
     "output_type": "display_data"
    }
   ],
   "source": [
    "%sql\n",
    "\n",
    "select Nomfour, vilfour, numpce\n",
    "from fournisseur\n",
    "join piece\n",
    "on fournisseur.numfour = piece.numfour\n",
    "where vilfour = 'dijon'"
   ]
  },
  {
   "cell_type": "markdown",
   "metadata": {
    "application/vnd.databricks.v1+cell": {
     "inputWidgets": {},
     "nuid": "0340a958-0c67-4f26-a93c-a4c639c63c9e",
     "showTitle": false,
     "title": ""
    }
   },
   "source": [
    "### Requête 6 - Donner les caractéristiques des commandes de plus de 1000 euros"
   ]
  },
  {
   "cell_type": "code",
   "execution_count": 0,
   "metadata": {
    "application/vnd.databricks.v1+cell": {
     "inputWidgets": {},
     "nuid": "8100ae24-49bb-431f-8a6c-5c7b3a23b064",
     "showTitle": false,
     "title": ""
    }
   },
   "outputs": [
    {
     "data": {
      "text/html": [
       "<style scoped>\n",
       "  .table-result-container {\n",
       "    max-height: 300px;\n",
       "    overflow: auto;\n",
       "  }\n",
       "  table, th, td {\n",
       "    border: 1px solid black;\n",
       "    border-collapse: collapse;\n",
       "  }\n",
       "  th, td {\n",
       "    padding: 5px;\n",
       "  }\n",
       "  th {\n",
       "    text-align: left;\n",
       "  }\n",
       "</style><div class='table-result-container'><table class='table-result'><thead style='background-color: white'><tr><th>numcde</th><th>datecde</th><th>idcli</th><th>numpce</th><th>qtecde</th><th>mtcde</th></tr></thead><tbody><tr><td>15</td><td>14/10/1998</td><td>9002</td><td>g101</td><td>2</td><td>3504.97</td></tr><tr><td>17</td><td>09/04/2002</td><td>8802</td><td>r204</td><td>8</td><td>5555.98</td></tr><tr><td>18</td><td>04/03/2003</td><td>9701</td><td>z222</td><td>6</td><td>4500.0</td></tr><tr><td>19</td><td>15/06/2004</td><td>9702</td><td>d32</td><td>2</td><td>3500.02</td></tr></tbody></table></div>"
      ]
     },
     "metadata": {
      "application/vnd.databricks.v1+output": {
       "addedWidgets": {},
       "aggData": [],
       "aggError": "",
       "aggOverflow": false,
       "aggSchema": [],
       "aggSeriesLimitReached": false,
       "aggType": "",
       "arguments": {},
       "columnCustomDisplayInfos": {},
       "data": [
        [
         "15",
         "14/10/1998",
         "9002",
         "g101",
         2,
         3504.97
        ],
        [
         "17",
         "09/04/2002",
         "8802",
         "r204",
         8,
         5555.98
        ],
        [
         "18",
         "04/03/2003",
         "9701",
         "z222",
         6,
         4500
        ],
        [
         "19",
         "15/06/2004",
         "9702",
         "d32",
         2,
         3500.02
        ]
       ],
       "datasetInfos": [],
       "dbfsResultPath": null,
       "isJsonSchema": true,
       "metadata": {},
       "overflow": false,
       "plotOptions": {
        "customPlotOptions": {},
        "displayType": "table",
        "pivotAggregation": null,
        "pivotColumns": null,
        "xColumns": null,
        "yColumns": null
       },
       "removedWidgets": [],
       "schema": [
        {
         "metadata": "{}",
         "name": "numcde",
         "type": "\"string\""
        },
        {
         "metadata": "{}",
         "name": "datecde",
         "type": "\"string\""
        },
        {
         "metadata": "{}",
         "name": "idcli",
         "type": "\"string\""
        },
        {
         "metadata": "{}",
         "name": "numpce",
         "type": "\"string\""
        },
        {
         "metadata": "{}",
         "name": "qtecde",
         "type": "\"integer\""
        },
        {
         "metadata": "{}",
         "name": "mtcde",
         "type": "\"float\""
        }
       ],
       "type": "table"
      }
     },
     "output_type": "display_data"
    }
   ],
   "source": [
    "%sql\n",
    "select *\n",
    "from commande\n",
    "where mtcde > 1000\n",
    "\n",
    "-- 4 commandes valent plus de 1000€."
   ]
  },
  {
   "cell_type": "code",
   "execution_count": 0,
   "metadata": {
    "application/vnd.databricks.v1+cell": {
     "inputWidgets": {},
     "nuid": "78ad3ece-8b05-4f69-a553-93bb7663f084",
     "showTitle": false,
     "title": ""
    }
   },
   "outputs": [
    {
     "data": {
      "text/html": [
       "<style scoped>\n",
       "  .table-result-container {\n",
       "    max-height: 300px;\n",
       "    overflow: auto;\n",
       "  }\n",
       "  table, th, td {\n",
       "    border: 1px solid black;\n",
       "    border-collapse: collapse;\n",
       "  }\n",
       "  th, td {\n",
       "    padding: 5px;\n",
       "  }\n",
       "  th {\n",
       "    text-align: left;\n",
       "  }\n",
       "</style><div class='table-result-container'><table class='table-result'><thead style='background-color: white'><tr><th>numcde</th><th>datecde</th><th>nomcli</th><th>nompce</th><th>mtcde</th></tr></thead><tbody><tr><td>15</td><td>14/10/1998</td><td>rossi</td><td>moteur</td><td>3504.97</td></tr><tr><td>17</td><td>09/04/2002</td><td>tremblay</td><td>support</td><td>5555.98</td></tr><tr><td>18</td><td>04/03/2003</td><td>macron</td><td>calandre</td><td>4500.0</td></tr><tr><td>19</td><td>15/06/2004</td><td>mbappe</td><td>bielette</td><td>3500.02</td></tr></tbody></table></div>"
      ]
     },
     "metadata": {
      "application/vnd.databricks.v1+output": {
       "addedWidgets": {},
       "aggData": [],
       "aggError": "",
       "aggOverflow": false,
       "aggSchema": [],
       "aggSeriesLimitReached": false,
       "aggType": "",
       "arguments": {},
       "columnCustomDisplayInfos": {},
       "data": [
        [
         "15",
         "14/10/1998",
         "rossi",
         "moteur",
         3504.97
        ],
        [
         "17",
         "09/04/2002",
         "tremblay",
         "support",
         5555.98
        ],
        [
         "18",
         "04/03/2003",
         "macron",
         "calandre",
         4500
        ],
        [
         "19",
         "15/06/2004",
         "mbappe",
         "bielette",
         3500.02
        ]
       ],
       "datasetInfos": [],
       "dbfsResultPath": null,
       "isJsonSchema": true,
       "metadata": {},
       "overflow": false,
       "plotOptions": {
        "customPlotOptions": {},
        "displayType": "table",
        "pivotAggregation": null,
        "pivotColumns": null,
        "xColumns": null,
        "yColumns": null
       },
       "removedWidgets": [],
       "schema": [
        {
         "metadata": "{}",
         "name": "numcde",
         "type": "\"string\""
        },
        {
         "metadata": "{}",
         "name": "datecde",
         "type": "\"string\""
        },
        {
         "metadata": "{}",
         "name": "nomcli",
         "type": "\"string\""
        },
        {
         "metadata": "{}",
         "name": "nompce",
         "type": "\"string\""
        },
        {
         "metadata": "{}",
         "name": "mtcde",
         "type": "\"float\""
        }
       ],
       "type": "table"
      }
     },
     "output_type": "display_data"
    }
   ],
   "source": [
    "%sql\n",
    "select numcde,\n",
    "datecde, \n",
    "nomcli,\n",
    "nompce,\n",
    "mtcde\n",
    "from commande\n",
    "join piece \n",
    "on commande.numpce = piece.numpce\n",
    "join client\n",
    "on commande.idcli = client.idcli\n",
    "where mtcde > 1000\n",
    "\n"
   ]
  },
  {
   "cell_type": "markdown",
   "metadata": {
    "application/vnd.databricks.v1+cell": {
     "inputWidgets": {},
     "nuid": "d816507e-4447-4d06-97fb-4c44a3501f92",
     "showTitle": false,
     "title": ""
    }
   },
   "source": [
    "### Requête 7 - Donner la liste des clients habitant Dijon et des clients habitant Lyon"
   ]
  },
  {
   "cell_type": "code",
   "execution_count": 0,
   "metadata": {
    "application/vnd.databricks.v1+cell": {
     "inputWidgets": {},
     "nuid": "ecbb68d1-5b1f-4524-a62a-2d8eee85d69c",
     "showTitle": false,
     "title": ""
    }
   },
   "outputs": [
    {
     "data": {
      "text/html": [
       "<style scoped>\n",
       "  .table-result-container {\n",
       "    max-height: 300px;\n",
       "    overflow: auto;\n",
       "  }\n",
       "  table, th, td {\n",
       "    border: 1px solid black;\n",
       "    border-collapse: collapse;\n",
       "  }\n",
       "  th, td {\n",
       "    padding: 5px;\n",
       "  }\n",
       "  th {\n",
       "    text-align: left;\n",
       "  }\n",
       "</style><div class='table-result-container'><table class='table-result'><thead style='background-color: white'><tr><th>idcli</th><th>nomcli</th><th>adrcli</th><th>cpcli</th><th>vilcli</th><th>telcli</th></tr></thead><tbody><tr><td>8803</td><td>durand</td><td>rue jules verne</td><td>21000</td><td>Dijon</td><td>0359841593</td></tr><tr><td>8802</td><td>tremblay</td><td>rue de la gare</td><td>69007</td><td>Lyon</td><td>0476123456</td></tr><tr><td>9801</td><td>diaz</td><td>rue de la guerre</td><td>69008</td><td>Lyon</td><td>0458315537</td></tr><tr><td>9002</td><td>rossi</td><td>boulevard jean jaures</td><td>69007</td><td>Lyon</td><td>0452496478</td></tr></tbody></table></div>"
      ]
     },
     "metadata": {
      "application/vnd.databricks.v1+output": {
       "addedWidgets": {},
       "aggData": [],
       "aggError": "",
       "aggOverflow": false,
       "aggSchema": [],
       "aggSeriesLimitReached": false,
       "aggType": "",
       "arguments": {},
       "columnCustomDisplayInfos": {},
       "data": [
        [
         "8803",
         "durand",
         "rue jules verne",
         "21000",
         "Dijon",
         "0359841593"
        ],
        [
         "8802",
         "tremblay",
         "rue de la gare",
         "69007",
         "Lyon",
         "0476123456"
        ],
        [
         "9801",
         "diaz",
         "rue de la guerre",
         "69008",
         "Lyon",
         "0458315537"
        ],
        [
         "9002",
         "rossi",
         "boulevard jean jaures",
         "69007",
         "Lyon",
         "0452496478"
        ]
       ],
       "datasetInfos": [],
       "dbfsResultPath": null,
       "isJsonSchema": true,
       "metadata": {},
       "overflow": false,
       "plotOptions": {
        "customPlotOptions": {},
        "displayType": "table",
        "pivotAggregation": null,
        "pivotColumns": null,
        "xColumns": null,
        "yColumns": null
       },
       "removedWidgets": [],
       "schema": [
        {
         "metadata": "{}",
         "name": "idcli",
         "type": "\"string\""
        },
        {
         "metadata": "{}",
         "name": "nomcli",
         "type": "\"string\""
        },
        {
         "metadata": "{}",
         "name": "adrcli",
         "type": "\"string\""
        },
        {
         "metadata": "{}",
         "name": "cpcli",
         "type": "\"string\""
        },
        {
         "metadata": "{}",
         "name": "vilcli",
         "type": "\"string\""
        },
        {
         "metadata": "{}",
         "name": "telcli",
         "type": "\"string\""
        }
       ],
       "type": "table"
      }
     },
     "output_type": "display_data"
    }
   ],
   "source": [
    "%sql\n",
    "select *\n",
    "from client\n",
    "where vilcli = 'Dijon' or vilcli = \"Lyon\"\n",
    "order by vilcli\n",
    "\n",
    "-- 1 client habite à Dijon et 3 habitent à Lyon"
   ]
  },
  {
   "cell_type": "markdown",
   "metadata": {
    "application/vnd.databricks.v1+cell": {
     "inputWidgets": {},
     "nuid": "357a2b81-2ae1-4e63-8162-35c50155a2b8",
     "showTitle": false,
     "title": ""
    }
   },
   "source": [
    "### Requête 8 - Donner la liste des clients habitant Lyon, Dijon, Marseille, Paris"
   ]
  },
  {
   "cell_type": "code",
   "execution_count": 0,
   "metadata": {
    "application/vnd.databricks.v1+cell": {
     "inputWidgets": {},
     "nuid": "24144ffd-3846-4681-b6bd-8d09e63bf376",
     "showTitle": false,
     "title": ""
    }
   },
   "outputs": [
    {
     "data": {
      "text/html": [
       "<style scoped>\n",
       "  .table-result-container {\n",
       "    max-height: 300px;\n",
       "    overflow: auto;\n",
       "  }\n",
       "  table, th, td {\n",
       "    border: 1px solid black;\n",
       "    border-collapse: collapse;\n",
       "  }\n",
       "  th, td {\n",
       "    padding: 5px;\n",
       "  }\n",
       "  th {\n",
       "    text-align: left;\n",
       "  }\n",
       "</style><div class='table-result-container'><table class='table-result'><thead style='background-color: white'><tr><th>idcli</th><th>nomcli</th><th>adrcli</th><th>cpcli</th><th>vilcli</th><th>telcli</th></tr></thead><tbody><tr><td>8803</td><td>durand</td><td>rue jules verne</td><td>21000</td><td>Dijon</td><td>0359841593</td></tr><tr><td>8802</td><td>tremblay</td><td>rue de la gare</td><td>69007</td><td>Lyon</td><td>0476123456</td></tr><tr><td>9002</td><td>rossi</td><td>boulevard jean jaures</td><td>69007</td><td>Lyon</td><td>0452496478</td></tr><tr><td>9801</td><td>diaz</td><td>rue de la guerre</td><td>69008</td><td>Lyon</td><td>0458315537</td></tr><tr><td>9501</td><td>pelletier</td><td>avenue allende</td><td>75002</td><td>Paris</td><td>0125964832</td></tr></tbody></table></div>"
      ]
     },
     "metadata": {
      "application/vnd.databricks.v1+output": {
       "addedWidgets": {},
       "aggData": [],
       "aggError": "",
       "aggOverflow": false,
       "aggSchema": [],
       "aggSeriesLimitReached": false,
       "aggType": "",
       "arguments": {},
       "columnCustomDisplayInfos": {},
       "data": [
        [
         "8803",
         "durand",
         "rue jules verne",
         "21000",
         "Dijon",
         "0359841593"
        ],
        [
         "8802",
         "tremblay",
         "rue de la gare",
         "69007",
         "Lyon",
         "0476123456"
        ],
        [
         "9002",
         "rossi",
         "boulevard jean jaures",
         "69007",
         "Lyon",
         "0452496478"
        ],
        [
         "9801",
         "diaz",
         "rue de la guerre",
         "69008",
         "Lyon",
         "0458315537"
        ],
        [
         "9501",
         "pelletier",
         "avenue allende",
         "75002",
         "Paris",
         "0125964832"
        ]
       ],
       "datasetInfos": [],
       "dbfsResultPath": null,
       "isJsonSchema": true,
       "metadata": {},
       "overflow": false,
       "plotOptions": {
        "customPlotOptions": {},
        "displayType": "table",
        "pivotAggregation": null,
        "pivotColumns": null,
        "xColumns": null,
        "yColumns": null
       },
       "removedWidgets": [],
       "schema": [
        {
         "metadata": "{}",
         "name": "idcli",
         "type": "\"string\""
        },
        {
         "metadata": "{}",
         "name": "nomcli",
         "type": "\"string\""
        },
        {
         "metadata": "{}",
         "name": "adrcli",
         "type": "\"string\""
        },
        {
         "metadata": "{}",
         "name": "cpcli",
         "type": "\"string\""
        },
        {
         "metadata": "{}",
         "name": "vilcli",
         "type": "\"string\""
        },
        {
         "metadata": "{}",
         "name": "telcli",
         "type": "\"string\""
        }
       ],
       "type": "table"
      }
     },
     "output_type": "display_data"
    }
   ],
   "source": [
    "%sql\n",
    "\n",
    "select *\n",
    "from client\n",
    "where vilcli = 'Dijon' or vilcli = \"Lyon\" or vilcli = 'Marseille' or vilcli = 'Paris'\n",
    "order by vilcli\n",
    "\n",
    "-- 5 clients habitent dans les 4 villes désignées, cependant aucun n'habite à Marseille."
   ]
  },
  {
   "cell_type": "code",
   "execution_count": 0,
   "metadata": {
    "application/vnd.databricks.v1+cell": {
     "inputWidgets": {},
     "nuid": "c1fa032d-4393-4dc3-9c1b-085d3eefcf17",
     "showTitle": false,
     "title": ""
    }
   },
   "outputs": [
    {
     "data": {
      "text/html": [
       "<style scoped>\n",
       "  .table-result-container {\n",
       "    max-height: 300px;\n",
       "    overflow: auto;\n",
       "  }\n",
       "  table, th, td {\n",
       "    border: 1px solid black;\n",
       "    border-collapse: collapse;\n",
       "  }\n",
       "  th, td {\n",
       "    padding: 5px;\n",
       "  }\n",
       "  th {\n",
       "    text-align: left;\n",
       "  }\n",
       "</style><div class='table-result-container'><table class='table-result'><thead style='background-color: white'><tr><th>vilcli</th><th>number_of_customers</th></tr></thead><tbody><tr><td>Dijon</td><td>1</td></tr><tr><td>Paris</td><td>1</td></tr><tr><td>Lyon</td><td>3</td></tr></tbody></table></div>"
      ]
     },
     "metadata": {
      "application/vnd.databricks.v1+output": {
       "addedWidgets": {},
       "aggData": [],
       "aggError": "",
       "aggOverflow": false,
       "aggSchema": [],
       "aggSeriesLimitReached": false,
       "aggType": "",
       "arguments": {},
       "columnCustomDisplayInfos": {},
       "data": [
        [
         "Dijon",
         1
        ],
        [
         "Paris",
         1
        ],
        [
         "Lyon",
         3
        ]
       ],
       "datasetInfos": [],
       "dbfsResultPath": null,
       "isJsonSchema": true,
       "metadata": {},
       "overflow": false,
       "plotOptions": {
        "customPlotOptions": {},
        "displayType": "table",
        "pivotAggregation": null,
        "pivotColumns": null,
        "xColumns": null,
        "yColumns": null
       },
       "removedWidgets": [],
       "schema": [
        {
         "metadata": "{}",
         "name": "vilcli",
         "type": "\"string\""
        },
        {
         "metadata": "{}",
         "name": "number_of_customers",
         "type": "\"long\""
        }
       ],
       "type": "table"
      }
     },
     "output_type": "display_data"
    }
   ],
   "source": [
    "%sql\n",
    "\n",
    "select vilcli,\n",
    "count(vilcli) as number_of_customers\n",
    "from client\n",
    "where vilcli = 'Dijon' or vilcli = \"Lyon\" or vilcli = 'Marseille' or vilcli = 'Paris'\n",
    "group by vilcli"
   ]
  },
  {
   "cell_type": "markdown",
   "metadata": {
    "application/vnd.databricks.v1+cell": {
     "inputWidgets": {},
     "nuid": "bde4ffe9-6be1-45a8-9c63-24ae188c7440",
     "showTitle": false,
     "title": ""
    }
   },
   "source": [
    "### Requête 9 - Donner la liste des pieces dont le prix est supérieur à 800 et inférieur à 1000"
   ]
  },
  {
   "cell_type": "code",
   "execution_count": 0,
   "metadata": {
    "application/vnd.databricks.v1+cell": {
     "inputWidgets": {},
     "nuid": "2096ca31-498b-4e80-b17b-42ebf7456e97",
     "showTitle": false,
     "title": ""
    }
   },
   "outputs": [
    {
     "data": {
      "text/html": [
       "<style scoped>\n",
       "  .table-result-container {\n",
       "    max-height: 300px;\n",
       "    overflow: auto;\n",
       "  }\n",
       "  table, th, td {\n",
       "    border: 1px solid black;\n",
       "    border-collapse: collapse;\n",
       "  }\n",
       "  th, td {\n",
       "    padding: 5px;\n",
       "  }\n",
       "  th {\n",
       "    text-align: left;\n",
       "  }\n",
       "</style><div class='table-result-container'><table class='table-result'><thead style='background-color: white'><tr><th>numpce</th><th>nompce</th><th>pupce</th><th>qtestpce</th><th>numfour</th></tr></thead><tbody><tr><td>d32</td><td>bielette</td><td>830.67</td><td>8</td><td>1002101</td></tr><tr><td>e25</td><td>capot</td><td>890.0</td><td>3</td><td>4007101</td></tr></tbody></table></div>"
      ]
     },
     "metadata": {
      "application/vnd.databricks.v1+output": {
       "addedWidgets": {},
       "aggData": [],
       "aggError": "",
       "aggOverflow": false,
       "aggSchema": [],
       "aggSeriesLimitReached": false,
       "aggType": "",
       "arguments": {},
       "columnCustomDisplayInfos": {},
       "data": [
        [
         "d32",
         "bielette",
         830.67,
         8,
         "1002101"
        ],
        [
         "e25",
         "capot",
         890,
         3,
         "4007101"
        ]
       ],
       "datasetInfos": [],
       "dbfsResultPath": null,
       "isJsonSchema": true,
       "metadata": {},
       "overflow": false,
       "plotOptions": {
        "customPlotOptions": {},
        "displayType": "table",
        "pivotAggregation": null,
        "pivotColumns": null,
        "xColumns": null,
        "yColumns": null
       },
       "removedWidgets": [],
       "schema": [
        {
         "metadata": "{}",
         "name": "numpce",
         "type": "\"string\""
        },
        {
         "metadata": "{}",
         "name": "nompce",
         "type": "\"string\""
        },
        {
         "metadata": "{}",
         "name": "pupce",
         "type": "\"float\""
        },
        {
         "metadata": "{}",
         "name": "qtestpce",
         "type": "\"integer\""
        },
        {
         "metadata": "{}",
         "name": "numfour",
         "type": "\"string\""
        }
       ],
       "type": "table"
      }
     },
     "output_type": "display_data"
    }
   ],
   "source": [
    "%sql\n",
    "select *\n",
    "from piece\n",
    "where pupce between 800 and 1000\n",
    "\n",
    "-- 2 pièces ont un prix supérieur à 800 et inférieur à 1000."
   ]
  },
  {
   "cell_type": "markdown",
   "metadata": {
    "application/vnd.databricks.v1+cell": {
     "inputWidgets": {},
     "nuid": "3c30bd4a-39de-4f1f-b2b3-9d750e64c02d",
     "showTitle": false,
     "title": ""
    }
   },
   "source": [
    "### Requête 10 - Donner la liste des clients donts le nom commence par M"
   ]
  },
  {
   "cell_type": "code",
   "execution_count": 0,
   "metadata": {
    "application/vnd.databricks.v1+cell": {
     "inputWidgets": {},
     "nuid": "a6c5aaa2-7f9e-4884-94c0-786d53ee3b05",
     "showTitle": false,
     "title": ""
    }
   },
   "outputs": [
    {
     "data": {
      "text/html": [
       "<style scoped>\n",
       "  .table-result-container {\n",
       "    max-height: 300px;\n",
       "    overflow: auto;\n",
       "  }\n",
       "  table, th, td {\n",
       "    border: 1px solid black;\n",
       "    border-collapse: collapse;\n",
       "  }\n",
       "  th, td {\n",
       "    padding: 5px;\n",
       "  }\n",
       "  th {\n",
       "    text-align: left;\n",
       "  }\n",
       "</style><div class='table-result-container'><table class='table-result'><thead style='background-color: white'><tr><th>idcli</th><th>nomcli</th><th>adrcli</th><th>cpcli</th><th>vilcli</th><th>telcli</th></tr></thead><tbody><tr><td>9001</td><td>mutter</td><td>rue gambetta</td><td>69120</td><td>Villeurbanne</td><td>0425698541</td></tr><tr><td>9701</td><td>macron</td><td>avenue charles de gaulle</td><td>42005</td><td>Saint-Etienne</td><td>0475693219</td></tr><tr><td>9702</td><td>mbappe</td><td>rue benoit bernard</td><td>38725</td><td>Bourgoin-Jailleux</td><td>0405485366</td></tr></tbody></table></div>"
      ]
     },
     "metadata": {
      "application/vnd.databricks.v1+output": {
       "addedWidgets": {},
       "aggData": [],
       "aggError": "",
       "aggOverflow": false,
       "aggSchema": [],
       "aggSeriesLimitReached": false,
       "aggType": "",
       "arguments": {},
       "columnCustomDisplayInfos": {},
       "data": [
        [
         "9001",
         "mutter",
         "rue gambetta",
         "69120",
         "Villeurbanne",
         "0425698541"
        ],
        [
         "9701",
         "macron",
         "avenue charles de gaulle",
         "42005",
         "Saint-Etienne",
         "0475693219"
        ],
        [
         "9702",
         "mbappe",
         "rue benoit bernard",
         "38725",
         "Bourgoin-Jailleux",
         "0405485366"
        ]
       ],
       "datasetInfos": [],
       "dbfsResultPath": null,
       "isJsonSchema": true,
       "metadata": {},
       "overflow": false,
       "plotOptions": {
        "customPlotOptions": {},
        "displayType": "table",
        "pivotAggregation": null,
        "pivotColumns": null,
        "xColumns": null,
        "yColumns": null
       },
       "removedWidgets": [],
       "schema": [
        {
         "metadata": "{}",
         "name": "idcli",
         "type": "\"string\""
        },
        {
         "metadata": "{}",
         "name": "nomcli",
         "type": "\"string\""
        },
        {
         "metadata": "{}",
         "name": "adrcli",
         "type": "\"string\""
        },
        {
         "metadata": "{}",
         "name": "cpcli",
         "type": "\"string\""
        },
        {
         "metadata": "{}",
         "name": "vilcli",
         "type": "\"string\""
        },
        {
         "metadata": "{}",
         "name": "telcli",
         "type": "\"string\""
        }
       ],
       "type": "table"
      }
     },
     "output_type": "display_data"
    }
   ],
   "source": [
    "%sql\n",
    "\n",
    "select *\n",
    "from client \n",
    "where nomcli like 'm%'\n",
    "\n",
    "-- 3 clients ont un nom qui commence par M"
   ]
  },
  {
   "cell_type": "markdown",
   "metadata": {
    "application/vnd.databricks.v1+cell": {
     "inputWidgets": {},
     "nuid": "7487ced0-32bc-4ff2-b7a0-5429307be07b",
     "showTitle": false,
     "title": ""
    }
   },
   "source": [
    "### Requête 11 - Donner la liste des clients dont on ignore le téléphone"
   ]
  },
  {
   "cell_type": "code",
   "execution_count": 0,
   "metadata": {
    "application/vnd.databricks.v1+cell": {
     "inputWidgets": {},
     "nuid": "39cef033-317c-4692-854f-88643ed0d93d",
     "showTitle": false,
     "title": ""
    }
   },
   "outputs": [
    {
     "data": {
      "text/html": [
       "<style scoped>\n",
       "  .table-result-container {\n",
       "    max-height: 300px;\n",
       "    overflow: auto;\n",
       "  }\n",
       "  table, th, td {\n",
       "    border: 1px solid black;\n",
       "    border-collapse: collapse;\n",
       "  }\n",
       "  th, td {\n",
       "    padding: 5px;\n",
       "  }\n",
       "  th {\n",
       "    text-align: left;\n",
       "  }\n",
       "</style><div class='table-result-container'><table class='table-result'><thead style='background-color: white'><tr><th>idcli</th><th>nomcli</th><th>adrcli</th><th>cpcli</th><th>vilcli</th><th>telcli</th></tr></thead><tbody></tbody></table></div>"
      ]
     },
     "metadata": {
      "application/vnd.databricks.v1+output": {
       "addedWidgets": {},
       "aggData": [],
       "aggError": "",
       "aggOverflow": false,
       "aggSchema": [],
       "aggSeriesLimitReached": false,
       "aggType": "",
       "arguments": {},
       "columnCustomDisplayInfos": {},
       "data": [],
       "datasetInfos": [],
       "dbfsResultPath": null,
       "isJsonSchema": true,
       "metadata": {},
       "overflow": false,
       "plotOptions": {
        "customPlotOptions": {},
        "displayType": "table",
        "pivotAggregation": null,
        "pivotColumns": null,
        "xColumns": null,
        "yColumns": null
       },
       "removedWidgets": [],
       "schema": [
        {
         "metadata": "{}",
         "name": "idcli",
         "type": "\"string\""
        },
        {
         "metadata": "{}",
         "name": "nomcli",
         "type": "\"string\""
        },
        {
         "metadata": "{}",
         "name": "adrcli",
         "type": "\"string\""
        },
        {
         "metadata": "{}",
         "name": "cpcli",
         "type": "\"string\""
        },
        {
         "metadata": "{}",
         "name": "vilcli",
         "type": "\"string\""
        },
        {
         "metadata": "{}",
         "name": "telcli",
         "type": "\"string\""
        }
       ],
       "type": "table"
      }
     },
     "output_type": "display_data"
    }
   ],
   "source": [
    "%sql\n",
    "\n",
    "select *\n",
    "from client\n",
    "where telcli is null\n",
    "\n",
    "-- Tous les numéros téléphones sont connus"
   ]
  },
  {
   "cell_type": "markdown",
   "metadata": {
    "application/vnd.databricks.v1+cell": {
     "inputWidgets": {},
     "nuid": "16aa80e9-0bb8-4495-9249-ebb1a031a027",
     "showTitle": false,
     "title": ""
    }
   },
   "source": [
    "### Requête 12 - Donner la liste des fournisseurs habitant à Lyon"
   ]
  },
  {
   "cell_type": "code",
   "execution_count": 0,
   "metadata": {
    "application/vnd.databricks.v1+cell": {
     "inputWidgets": {},
     "nuid": "586bcaa7-7d03-40b2-94f1-6f765821c7ed",
     "showTitle": false,
     "title": ""
    }
   },
   "outputs": [
    {
     "data": {
      "text/html": [
       "<style scoped>\n",
       "  .table-result-container {\n",
       "    max-height: 300px;\n",
       "    overflow: auto;\n",
       "  }\n",
       "  table, th, td {\n",
       "    border: 1px solid black;\n",
       "    border-collapse: collapse;\n",
       "  }\n",
       "  th, td {\n",
       "    padding: 5px;\n",
       "  }\n",
       "  th {\n",
       "    text-align: left;\n",
       "  }\n",
       "</style><div class='table-result-container'><table class='table-result'><thead style='background-color: white'><tr><th>numfour</th><th>nomfour</th><th>vilfour</th></tr></thead><tbody><tr><td>670</td><td>merlin</td><td>lyon</td></tr><tr><td>3006901</td><td>faure</td><td>lyon</td></tr></tbody></table></div>"
      ]
     },
     "metadata": {
      "application/vnd.databricks.v1+output": {
       "addedWidgets": {},
       "aggData": [],
       "aggError": "",
       "aggOverflow": false,
       "aggSchema": [],
       "aggSeriesLimitReached": false,
       "aggType": "",
       "arguments": {},
       "columnCustomDisplayInfos": {},
       "data": [
        [
         "670",
         "merlin",
         "lyon"
        ],
        [
         "3006901",
         "faure",
         "lyon"
        ]
       ],
       "datasetInfos": [],
       "dbfsResultPath": null,
       "isJsonSchema": true,
       "metadata": {},
       "overflow": false,
       "plotOptions": {
        "customPlotOptions": {},
        "displayType": "table",
        "pivotAggregation": null,
        "pivotColumns": null,
        "xColumns": null,
        "yColumns": null
       },
       "removedWidgets": [],
       "schema": [
        {
         "metadata": "{}",
         "name": "numfour",
         "type": "\"string\""
        },
        {
         "metadata": "{}",
         "name": "nomfour",
         "type": "\"string\""
        },
        {
         "metadata": "{}",
         "name": "vilfour",
         "type": "\"string\""
        }
       ],
       "type": "table"
      }
     },
     "output_type": "display_data"
    }
   ],
   "source": [
    "%sql\n",
    "\n",
    "select *\n",
    "from fournisseur \n",
    "where vilfour = \"lyon\"\n",
    "\n",
    "-- 2 fournisseurs habitent à Lyon"
   ]
  },
  {
   "cell_type": "markdown",
   "metadata": {
    "application/vnd.databricks.v1+cell": {
     "inputWidgets": {},
     "nuid": "f56f9969-c261-4f22-bace-bef9370d6ebe",
     "showTitle": false,
     "title": ""
    }
   },
   "source": [
    "### Requête 14 - Dénombrer les clients ayant déjà passé commande"
   ]
  },
  {
   "cell_type": "code",
   "execution_count": 0,
   "metadata": {
    "application/vnd.databricks.v1+cell": {
     "inputWidgets": {},
     "nuid": "061afd8e-bf26-4dc4-8040-d574499fdfc5",
     "showTitle": false,
     "title": ""
    }
   },
   "outputs": [
    {
     "data": {
      "text/html": [
       "<style scoped>\n",
       "  .table-result-container {\n",
       "    max-height: 300px;\n",
       "    overflow: auto;\n",
       "  }\n",
       "  table, th, td {\n",
       "    border: 1px solid black;\n",
       "    border-collapse: collapse;\n",
       "  }\n",
       "  th, td {\n",
       "    padding: 5px;\n",
       "  }\n",
       "  th {\n",
       "    text-align: left;\n",
       "  }\n",
       "</style><div class='table-result-container'><table class='table-result'><thead style='background-color: white'><tr><th>nomcli</th><th>Cities</th><th>datecde</th><th>mtcde</th></tr></thead><tbody><tr><td>rossi</td><td>69007 Lyon</td><td>14/09/1998</td><td>778.88</td></tr><tr><td>rossi</td><td>69007 Lyon</td><td>14/10/1998</td><td>3504.97</td></tr><tr><td>guillet</td><td>71000 M�con</td><td>14/10/1998</td><td>259.63</td></tr><tr><td>tremblay</td><td>69007 Lyon</td><td>09/04/2002</td><td>5555.98</td></tr><tr><td>macron</td><td>42005 Saint-Etienne</td><td>04/03/2003</td><td>4500.0</td></tr><tr><td>mbappe</td><td>38725 Bourgoin-Jailleux</td><td>15/06/2004</td><td>3500.02</td></tr><tr><td>diaz</td><td>69008 Lyon</td><td>15/06/2006</td><td>400.95</td></tr><tr><td>pelletier</td><td>75002 Paris</td><td>22/08/2007</td><td>600.52</td></tr></tbody></table></div>"
      ]
     },
     "metadata": {
      "application/vnd.databricks.v1+output": {
       "addedWidgets": {},
       "aggData": [],
       "aggError": "",
       "aggOverflow": false,
       "aggSchema": [],
       "aggSeriesLimitReached": false,
       "aggType": "",
       "arguments": {},
       "columnCustomDisplayInfos": {},
       "data": [
        [
         "rossi",
         "69007 Lyon",
         "14/09/1998",
         778.88
        ],
        [
         "rossi",
         "69007 Lyon",
         "14/10/1998",
         3504.97
        ],
        [
         "guillet",
         "71000 M�con",
         "14/10/1998",
         259.63
        ],
        [
         "tremblay",
         "69007 Lyon",
         "09/04/2002",
         5555.98
        ],
        [
         "macron",
         "42005 Saint-Etienne",
         "04/03/2003",
         4500
        ],
        [
         "mbappe",
         "38725 Bourgoin-Jailleux",
         "15/06/2004",
         3500.02
        ],
        [
         "diaz",
         "69008 Lyon",
         "15/06/2006",
         400.95
        ],
        [
         "pelletier",
         "75002 Paris",
         "22/08/2007",
         600.52
        ]
       ],
       "datasetInfos": [],
       "dbfsResultPath": null,
       "isJsonSchema": true,
       "metadata": {},
       "overflow": false,
       "plotOptions": {
        "customPlotOptions": {},
        "displayType": "table",
        "pivotAggregation": null,
        "pivotColumns": null,
        "xColumns": null,
        "yColumns": null
       },
       "removedWidgets": [],
       "schema": [
        {
         "metadata": "{}",
         "name": "nomcli",
         "type": "\"string\""
        },
        {
         "metadata": "{}",
         "name": "Cities",
         "type": "\"string\""
        },
        {
         "metadata": "{}",
         "name": "datecde",
         "type": "\"string\""
        },
        {
         "metadata": "{}",
         "name": "mtcde",
         "type": "\"float\""
        }
       ],
       "type": "table"
      }
     },
     "output_type": "display_data"
    }
   ],
   "source": [
    "%sql\n",
    "\n",
    "select nomcli, \n",
    "concat(cpcli, \" \", vilcli) as Cities,\n",
    "datecde,\n",
    "mtcde\n",
    "from client \n",
    "join commande\n",
    "on client.idcli = commande.idcli\n",
    "\n",
    "-- 8 clients ont déjà passés commande."
   ]
  },
  {
   "cell_type": "code",
   "execution_count": 0,
   "metadata": {
    "application/vnd.databricks.v1+cell": {
     "inputWidgets": {},
     "nuid": "53ccf888-1e39-45f8-a666-dc5424fd41f2",
     "showTitle": false,
     "title": ""
    }
   },
   "outputs": [
    {
     "data": {
      "text/html": [
       "<style scoped>\n",
       "  .table-result-container {\n",
       "    max-height: 300px;\n",
       "    overflow: auto;\n",
       "  }\n",
       "  table, th, td {\n",
       "    border: 1px solid black;\n",
       "    border-collapse: collapse;\n",
       "  }\n",
       "  th, td {\n",
       "    padding: 5px;\n",
       "  }\n",
       "  th {\n",
       "    text-align: left;\n",
       "  }\n",
       "</style><div class='table-result-container'><table class='table-result'><thead style='background-color: white'><tr><th>nomcli</th><th>Cities</th></tr></thead><tbody><tr><td>durand</td><td>21000 Dijon</td></tr><tr><td>mutter</td><td>69120 Villeurbanne</td></tr></tbody></table></div>"
      ]
     },
     "metadata": {
      "application/vnd.databricks.v1+output": {
       "addedWidgets": {},
       "aggData": [],
       "aggError": "",
       "aggOverflow": false,
       "aggSchema": [],
       "aggSeriesLimitReached": false,
       "aggType": "",
       "arguments": {},
       "columnCustomDisplayInfos": {},
       "data": [
        [
         "durand",
         "21000 Dijon"
        ],
        [
         "mutter",
         "69120 Villeurbanne"
        ]
       ],
       "datasetInfos": [],
       "dbfsResultPath": null,
       "isJsonSchema": true,
       "metadata": {},
       "overflow": false,
       "plotOptions": {
        "customPlotOptions": {},
        "displayType": "table",
        "pivotAggregation": null,
        "pivotColumns": null,
        "xColumns": null,
        "yColumns": null
       },
       "removedWidgets": [],
       "schema": [
        {
         "metadata": "{}",
         "name": "nomcli",
         "type": "\"string\""
        },
        {
         "metadata": "{}",
         "name": "Cities",
         "type": "\"string\""
        }
       ],
       "type": "table"
      }
     },
     "output_type": "display_data"
    }
   ],
   "source": [
    "%sql\n",
    "\n",
    "select nomcli, \n",
    "concat(cpcli, \" \", vilcli) as Cities\n",
    "from client \n",
    "left join commande\n",
    "on client.idcli = commande.idcli\n",
    "where commande.idcli is null\n",
    "\n",
    "-- 2 clients n'ont fait aucune commande à ce jour."
   ]
  },
  {
   "cell_type": "markdown",
   "metadata": {
    "application/vnd.databricks.v1+cell": {
     "inputWidgets": {},
     "nuid": "523fa9c7-f4a7-4e85-88d5-48676b1daa96",
     "showTitle": false,
     "title": ""
    }
   },
   "source": [
    "### Requête 15 - Donner le nombre de commandes dont le montant dépasse 1000€"
   ]
  },
  {
   "cell_type": "code",
   "execution_count": 0,
   "metadata": {
    "application/vnd.databricks.v1+cell": {
     "inputWidgets": {},
     "nuid": "e94f8192-77f5-4da9-b2de-0ba0c6db04f1",
     "showTitle": false,
     "title": ""
    }
   },
   "outputs": [
    {
     "data": {
      "text/html": [
       "<style scoped>\n",
       "  .table-result-container {\n",
       "    max-height: 300px;\n",
       "    overflow: auto;\n",
       "  }\n",
       "  table, th, td {\n",
       "    border: 1px solid black;\n",
       "    border-collapse: collapse;\n",
       "  }\n",
       "  th, td {\n",
       "    padding: 5px;\n",
       "  }\n",
       "  th {\n",
       "    text-align: left;\n",
       "  }\n",
       "</style><div class='table-result-container'><table class='table-result'><thead style='background-color: white'><tr><th>Number_of_orders</th></tr></thead><tbody><tr><td>4</td></tr></tbody></table></div>"
      ]
     },
     "metadata": {
      "application/vnd.databricks.v1+output": {
       "addedWidgets": {},
       "aggData": [],
       "aggError": "",
       "aggOverflow": false,
       "aggSchema": [],
       "aggSeriesLimitReached": false,
       "aggType": "",
       "arguments": {},
       "columnCustomDisplayInfos": {},
       "data": [
        [
         4
        ]
       ],
       "datasetInfos": [],
       "dbfsResultPath": null,
       "isJsonSchema": true,
       "metadata": {},
       "overflow": false,
       "plotOptions": {
        "customPlotOptions": {},
        "displayType": "table",
        "pivotAggregation": null,
        "pivotColumns": null,
        "xColumns": null,
        "yColumns": null
       },
       "removedWidgets": [],
       "schema": [
        {
         "metadata": "{}",
         "name": "Number_of_orders",
         "type": "\"long\""
        }
       ],
       "type": "table"
      }
     },
     "output_type": "display_data"
    }
   ],
   "source": [
    "%sql\n",
    "\n",
    "select count(*) as Number_of_orders\n",
    "from commande\n",
    "where mtcde > 1000\n",
    "\n",
    "-- 4 commandes ont une valeur supérieur à 1000€"
   ]
  },
  {
   "cell_type": "code",
   "execution_count": 0,
   "metadata": {
    "application/vnd.databricks.v1+cell": {
     "inputWidgets": {},
     "nuid": "af9bf9e8-4e65-4f69-9cf7-04bbf237d3ad",
     "showTitle": false,
     "title": ""
    }
   },
   "outputs": [
    {
     "data": {
      "text/html": [
       "<style scoped>\n",
       "  .table-result-container {\n",
       "    max-height: 300px;\n",
       "    overflow: auto;\n",
       "  }\n",
       "  table, th, td {\n",
       "    border: 1px solid black;\n",
       "    border-collapse: collapse;\n",
       "  }\n",
       "  th, td {\n",
       "    padding: 5px;\n",
       "  }\n",
       "  th {\n",
       "    text-align: left;\n",
       "  }\n",
       "</style><div class='table-result-container'><table class='table-result'><thead style='background-color: white'><tr><th>nomcli</th><th>Cities</th><th>datecde</th><th>mtcde</th></tr></thead><tbody><tr><td>rossi</td><td>69007 Lyon</td><td>14/10/1998</td><td>3504.97</td></tr><tr><td>tremblay</td><td>69007 Lyon</td><td>09/04/2002</td><td>5555.98</td></tr><tr><td>macron</td><td>42005 Saint-Etienne</td><td>04/03/2003</td><td>4500.0</td></tr><tr><td>mbappe</td><td>38725 Bourgoin-Jailleux</td><td>15/06/2004</td><td>3500.02</td></tr></tbody></table></div>"
      ]
     },
     "metadata": {
      "application/vnd.databricks.v1+output": {
       "addedWidgets": {},
       "aggData": [],
       "aggError": "",
       "aggOverflow": false,
       "aggSchema": [],
       "aggSeriesLimitReached": false,
       "aggType": "",
       "arguments": {},
       "columnCustomDisplayInfos": {},
       "data": [
        [
         "rossi",
         "69007 Lyon",
         "14/10/1998",
         3504.97
        ],
        [
         "tremblay",
         "69007 Lyon",
         "09/04/2002",
         5555.98
        ],
        [
         "macron",
         "42005 Saint-Etienne",
         "04/03/2003",
         4500
        ],
        [
         "mbappe",
         "38725 Bourgoin-Jailleux",
         "15/06/2004",
         3500.02
        ]
       ],
       "datasetInfos": [],
       "dbfsResultPath": null,
       "isJsonSchema": true,
       "metadata": {},
       "overflow": false,
       "plotOptions": {
        "customPlotOptions": {},
        "displayType": "table",
        "pivotAggregation": null,
        "pivotColumns": null,
        "xColumns": null,
        "yColumns": null
       },
       "removedWidgets": [],
       "schema": [
        {
         "metadata": "{}",
         "name": "nomcli",
         "type": "\"string\""
        },
        {
         "metadata": "{}",
         "name": "Cities",
         "type": "\"string\""
        },
        {
         "metadata": "{}",
         "name": "datecde",
         "type": "\"string\""
        },
        {
         "metadata": "{}",
         "name": "mtcde",
         "type": "\"float\""
        }
       ],
       "type": "table"
      }
     },
     "output_type": "display_data"
    }
   ],
   "source": [
    "%sql\n",
    "\n",
    "select nomcli, \n",
    "concat(cpcli, \" \", vilcli) as Cities,\n",
    "datecde,\n",
    "mtcde\n",
    "from client \n",
    "join commande\n",
    "on client.idcli = commande.idcli\n",
    "where mtcde > 1000"
   ]
  },
  {
   "cell_type": "markdown",
   "metadata": {
    "application/vnd.databricks.v1+cell": {
     "inputWidgets": {},
     "nuid": "f0230d25-e37d-4e8c-9406-dbab53c9b787",
     "showTitle": false,
     "title": ""
    }
   },
   "source": [
    "### Requête 16 - Donner la moyenne des prix des pièces, le prix mini, le prix maxi"
   ]
  },
  {
   "cell_type": "code",
   "execution_count": 0,
   "metadata": {
    "application/vnd.databricks.v1+cell": {
     "inputWidgets": {},
     "nuid": "d7b95aa1-22bf-4109-8731-8b36ba8a8dda",
     "showTitle": false,
     "title": ""
    }
   },
   "outputs": [
    {
     "data": {
      "text/html": [
       "<style scoped>\n",
       "  .table-result-container {\n",
       "    max-height: 300px;\n",
       "    overflow: auto;\n",
       "  }\n",
       "  table, th, td {\n",
       "    border: 1px solid black;\n",
       "    border-collapse: collapse;\n",
       "  }\n",
       "  th, td {\n",
       "    padding: 5px;\n",
       "  }\n",
       "  th {\n",
       "    text-align: left;\n",
       "  }\n",
       "</style><div class='table-result-container'><table class='table-result'><thead style='background-color: white'><tr><th>Min_pupce</th><th>Max_pupce</th><th>Avg_pupce</th></tr></thead><tbody><tr><td>180.0</td><td>1215.0</td><td>642.58</td></tr></tbody></table></div>"
      ]
     },
     "metadata": {
      "application/vnd.databricks.v1+output": {
       "addedWidgets": {},
       "aggData": [],
       "aggError": "",
       "aggOverflow": false,
       "aggSchema": [],
       "aggSeriesLimitReached": false,
       "aggType": "",
       "arguments": {},
       "columnCustomDisplayInfos": {},
       "data": [
        [
         180,
         1215,
         642.58
        ]
       ],
       "datasetInfos": [],
       "dbfsResultPath": null,
       "isJsonSchema": true,
       "metadata": {},
       "overflow": false,
       "plotOptions": {
        "customPlotOptions": {},
        "displayType": "table",
        "pivotAggregation": null,
        "pivotColumns": null,
        "xColumns": null,
        "yColumns": null
       },
       "removedWidgets": [],
       "schema": [
        {
         "metadata": "{}",
         "name": "Min_pupce",
         "type": "\"float\""
        },
        {
         "metadata": "{}",
         "name": "Max_pupce",
         "type": "\"float\""
        },
        {
         "metadata": "{}",
         "name": "Avg_pupce",
         "type": "\"double\""
        }
       ],
       "type": "table"
      }
     },
     "output_type": "display_data"
    }
   ],
   "source": [
    "%sql\n",
    "\n",
    "select min(pupce) as Min_pupce,\n",
    "max(pupce) as Max_pupce,\n",
    "round(avg(pupce), 2) as Avg_pupce\n",
    "from piece\n",
    "\n",
    "-- Le prix minimum d'une pièce est 180€\n",
    "-- Le prix maximum d'une pièce est 1215€\n",
    "-- Le prix moyen d'une pièce est 642€58\n",
    "  "
   ]
  },
  {
   "cell_type": "markdown",
   "metadata": {
    "application/vnd.databricks.v1+cell": {
     "inputWidgets": {},
     "nuid": "57de4afd-8b03-42f0-89e6-0363fd69a3a3",
     "showTitle": false,
     "title": ""
    }
   },
   "source": [
    "### Requête 17 - Donner le nombre total de pièces commandées par le client n°9002"
   ]
  },
  {
   "cell_type": "code",
   "execution_count": 0,
   "metadata": {
    "application/vnd.databricks.v1+cell": {
     "inputWidgets": {},
     "nuid": "1f94f8fa-e32a-4f1d-b300-b7d0bde66d3b",
     "showTitle": false,
     "title": ""
    }
   },
   "outputs": [
    {
     "data": {
      "text/html": [
       "<style scoped>\n",
       "  .table-result-container {\n",
       "    max-height: 300px;\n",
       "    overflow: auto;\n",
       "  }\n",
       "  table, th, td {\n",
       "    border: 1px solid black;\n",
       "    border-collapse: collapse;\n",
       "  }\n",
       "  th, td {\n",
       "    padding: 5px;\n",
       "  }\n",
       "  th {\n",
       "    text-align: left;\n",
       "  }\n",
       "</style><div class='table-result-container'><table class='table-result'><thead style='background-color: white'><tr><th>idcli</th><th>nombre_de_commande</th><th>pieces_commandes</th></tr></thead><tbody><tr><td>9002</td><td>2</td><td>5</td></tr></tbody></table></div>"
      ]
     },
     "metadata": {
      "application/vnd.databricks.v1+output": {
       "addedWidgets": {},
       "aggData": [],
       "aggError": "",
       "aggOverflow": false,
       "aggSchema": [],
       "aggSeriesLimitReached": false,
       "aggType": "",
       "arguments": {},
       "columnCustomDisplayInfos": {},
       "data": [
        [
         "9002",
         2,
         5
        ]
       ],
       "datasetInfos": [],
       "dbfsResultPath": null,
       "isJsonSchema": true,
       "metadata": {},
       "overflow": false,
       "plotOptions": {
        "customPlotOptions": {},
        "displayType": "table",
        "pivotAggregation": null,
        "pivotColumns": null,
        "xColumns": null,
        "yColumns": null
       },
       "removedWidgets": [],
       "schema": [
        {
         "metadata": "{}",
         "name": "idcli",
         "type": "\"string\""
        },
        {
         "metadata": "{}",
         "name": "nombre_de_commande",
         "type": "\"long\""
        },
        {
         "metadata": "{}",
         "name": "pieces_commandes",
         "type": "\"long\""
        }
       ],
       "type": "table"
      }
     },
     "output_type": "display_data"
    }
   ],
   "source": [
    "%sql\n",
    "select idcli,\n",
    "count(numcde) as nombre_de_commande,\n",
    "sum(qtecde) as pieces_commandes\n",
    "from commande\n",
    "where idcli = \"9002\"\n",
    "group by idcli\n",
    "\n",
    "-- Le client n°9002 a commandé 5 pièces au total pour 2 commandes"
   ]
  },
  {
   "cell_type": "code",
   "execution_count": 0,
   "metadata": {
    "application/vnd.databricks.v1+cell": {
     "inputWidgets": {},
     "nuid": "8a103e38-024a-4e5b-84f0-a615d51cc3ff",
     "showTitle": false,
     "title": ""
    }
   },
   "outputs": [
    {
     "data": {
      "text/html": [
       "<style scoped>\n",
       "  .table-result-container {\n",
       "    max-height: 300px;\n",
       "    overflow: auto;\n",
       "  }\n",
       "  table, th, td {\n",
       "    border: 1px solid black;\n",
       "    border-collapse: collapse;\n",
       "  }\n",
       "  th, td {\n",
       "    padding: 5px;\n",
       "  }\n",
       "  th {\n",
       "    text-align: left;\n",
       "  }\n",
       "</style><div class='table-result-container'><table class='table-result'><thead style='background-color: white'><tr><th>nomcli</th><th>nombre_de_commande</th><th>pieces_commandes</th></tr></thead><tbody><tr><td>rossi</td><td>2</td><td>5</td></tr></tbody></table></div>"
      ]
     },
     "metadata": {
      "application/vnd.databricks.v1+output": {
       "addedWidgets": {},
       "aggData": [],
       "aggError": "",
       "aggOverflow": false,
       "aggSchema": [],
       "aggSeriesLimitReached": false,
       "aggType": "",
       "arguments": {},
       "columnCustomDisplayInfos": {},
       "data": [
        [
         "rossi",
         2,
         5
        ]
       ],
       "datasetInfos": [],
       "dbfsResultPath": null,
       "isJsonSchema": true,
       "metadata": {},
       "overflow": false,
       "plotOptions": {
        "customPlotOptions": {},
        "displayType": "table",
        "pivotAggregation": null,
        "pivotColumns": null,
        "xColumns": null,
        "yColumns": null
       },
       "removedWidgets": [],
       "schema": [
        {
         "metadata": "{}",
         "name": "nomcli",
         "type": "\"string\""
        },
        {
         "metadata": "{}",
         "name": "nombre_de_commande",
         "type": "\"long\""
        },
        {
         "metadata": "{}",
         "name": "pieces_commandes",
         "type": "\"long\""
        }
       ],
       "type": "table"
      }
     },
     "output_type": "display_data"
    }
   ],
   "source": [
    "%sql\n",
    "\n",
    "select nomcli, \n",
    "count(numcde) as nombre_de_commande,\n",
    "sum(qtecde) as pieces_commandes\n",
    "from commande \n",
    "join client\n",
    "on commande.idcli = client.idcli\n",
    "where commande.idcli = '9002'\n",
    "group by nomcli\n",
    "\n",
    "-- Le client n°9002 est Rossi."
   ]
  },
  {
   "cell_type": "markdown",
   "metadata": {
    "application/vnd.databricks.v1+cell": {
     "inputWidgets": {},
     "nuid": "cd705999-61af-44ca-a9de-0960cf6be72f",
     "showTitle": false,
     "title": ""
    }
   },
   "source": [
    "### Requête 18 - Donner pour chaque client ayant commandé, son numéro et le montant cumulés de ses commandes"
   ]
  },
  {
   "cell_type": "code",
   "execution_count": 0,
   "metadata": {
    "application/vnd.databricks.v1+cell": {
     "inputWidgets": {},
     "nuid": "fb943e06-d7b1-4220-aab7-180e8da0861e",
     "showTitle": false,
     "title": ""
    }
   },
   "outputs": [
    {
     "data": {
      "text/html": [
       "<style scoped>\n",
       "  .table-result-container {\n",
       "    max-height: 300px;\n",
       "    overflow: auto;\n",
       "  }\n",
       "  table, th, td {\n",
       "    border: 1px solid black;\n",
       "    border-collapse: collapse;\n",
       "  }\n",
       "  th, td {\n",
       "    padding: 5px;\n",
       "  }\n",
       "  th {\n",
       "    text-align: left;\n",
       "  }\n",
       "</style><div class='table-result-container'><table class='table-result'><thead style='background-color: white'><tr><th>nomcli</th><th>nombre_de_commande</th><th>montant_cumule</th></tr></thead><tbody><tr><td>macron</td><td>1</td><td>4500.0</td></tr><tr><td>tremblay</td><td>1</td><td>5555.98</td></tr><tr><td>guillet</td><td>1</td><td>259.63</td></tr><tr><td>mbappe</td><td>1</td><td>3500.02</td></tr><tr><td>diaz</td><td>1</td><td>400.95</td></tr><tr><td>pelletier</td><td>1</td><td>600.52</td></tr><tr><td>rossi</td><td>2</td><td>4283.85</td></tr></tbody></table></div>"
      ]
     },
     "metadata": {
      "application/vnd.databricks.v1+output": {
       "addedWidgets": {},
       "aggData": [],
       "aggError": "",
       "aggOverflow": false,
       "aggSchema": [],
       "aggSeriesLimitReached": false,
       "aggType": "",
       "arguments": {},
       "columnCustomDisplayInfos": {},
       "data": [
        [
         "macron",
         1,
         4500
        ],
        [
         "tremblay",
         1,
         5555.98
        ],
        [
         "guillet",
         1,
         259.63
        ],
        [
         "mbappe",
         1,
         3500.02
        ],
        [
         "diaz",
         1,
         400.95
        ],
        [
         "pelletier",
         1,
         600.52
        ],
        [
         "rossi",
         2,
         4283.85
        ]
       ],
       "datasetInfos": [],
       "dbfsResultPath": null,
       "isJsonSchema": true,
       "metadata": {},
       "overflow": false,
       "plotOptions": {
        "customPlotOptions": {},
        "displayType": "table",
        "pivotAggregation": null,
        "pivotColumns": null,
        "xColumns": null,
        "yColumns": null
       },
       "removedWidgets": [],
       "schema": [
        {
         "metadata": "{}",
         "name": "nomcli",
         "type": "\"string\""
        },
        {
         "metadata": "{}",
         "name": "nombre_de_commande",
         "type": "\"long\""
        },
        {
         "metadata": "{}",
         "name": "montant_cumule",
         "type": "\"double\""
        }
       ],
       "type": "table"
      }
     },
     "output_type": "display_data"
    }
   ],
   "source": [
    "%sql\n",
    "\n",
    "select  \n",
    "nomcli, \n",
    "count(numcde) as nombre_de_commande,\n",
    "round(sum(mtcde),2) as montant_cumule\n",
    "from commande \n",
    "join client\n",
    "on commande.idcli = client.idcli\n",
    "group by nomcli\n"
   ]
  },
  {
   "cell_type": "code",
   "execution_count": 0,
   "metadata": {
    "application/vnd.databricks.v1+cell": {
     "inputWidgets": {},
     "nuid": "23daa963-8169-4191-846a-0ceb79a29d5b",
     "showTitle": false,
     "title": ""
    }
   },
   "outputs": [
    {
     "data": {
      "text/html": [
       "<style scoped>\n",
       "  .table-result-container {\n",
       "    max-height: 300px;\n",
       "    overflow: auto;\n",
       "  }\n",
       "  table, th, td {\n",
       "    border: 1px solid black;\n",
       "    border-collapse: collapse;\n",
       "  }\n",
       "  th, td {\n",
       "    padding: 5px;\n",
       "  }\n",
       "  th {\n",
       "    text-align: left;\n",
       "  }\n",
       "</style><div class='table-result-container'><table class='table-result'><thead style='background-color: white'><tr><th>idcli</th><th>nomcli</th><th>nombre_de_commande</th><th>montant_cumule</th></tr></thead><tbody><tr><td>9801</td><td>diaz</td><td>1</td><td>400.95</td></tr><tr><td>9601</td><td>guillet</td><td>1</td><td>259.63</td></tr><tr><td>9701</td><td>macron</td><td>1</td><td>4500.0</td></tr><tr><td>9702</td><td>mbappe</td><td>1</td><td>3500.02</td></tr><tr><td>9501</td><td>pelletier</td><td>1</td><td>600.52</td></tr><tr><td>9002</td><td>rossi</td><td>2</td><td>4283.85</td></tr><tr><td>8802</td><td>tremblay</td><td>1</td><td>5555.98</td></tr></tbody></table></div>"
      ]
     },
     "metadata": {
      "application/vnd.databricks.v1+output": {
       "addedWidgets": {},
       "aggData": [],
       "aggError": "",
       "aggOverflow": false,
       "aggSchema": [],
       "aggSeriesLimitReached": false,
       "aggType": "",
       "arguments": {},
       "columnCustomDisplayInfos": {},
       "data": [
        [
         "9801",
         "diaz",
         1,
         400.95
        ],
        [
         "9601",
         "guillet",
         1,
         259.63
        ],
        [
         "9701",
         "macron",
         1,
         4500
        ],
        [
         "9702",
         "mbappe",
         1,
         3500.02
        ],
        [
         "9501",
         "pelletier",
         1,
         600.52
        ],
        [
         "9002",
         "rossi",
         2,
         4283.85
        ],
        [
         "8802",
         "tremblay",
         1,
         5555.98
        ]
       ],
       "datasetInfos": [],
       "dbfsResultPath": null,
       "isJsonSchema": true,
       "metadata": {},
       "overflow": false,
       "plotOptions": {
        "customPlotOptions": {},
        "displayType": "table",
        "pivotAggregation": null,
        "pivotColumns": null,
        "xColumns": null,
        "yColumns": null
       },
       "removedWidgets": [],
       "schema": [
        {
         "metadata": "{}",
         "name": "idcli",
         "type": "\"string\""
        },
        {
         "metadata": "{}",
         "name": "nomcli",
         "type": "\"string\""
        },
        {
         "metadata": "{}",
         "name": "nombre_de_commande",
         "type": "\"long\""
        },
        {
         "metadata": "{}",
         "name": "montant_cumule",
         "type": "\"double\""
        }
       ],
       "type": "table"
      }
     },
     "output_type": "display_data"
    }
   ],
   "source": [
    "%sql\n",
    "\n",
    "select first_value(client.idcli) as idcli,\n",
    "nomcli, \n",
    "count(numcde) as nombre_de_commande,\n",
    "round(sum(mtcde),2) as montant_cumule\n",
    "from commande \n",
    "join client\n",
    "on commande.idcli = client.idcli\n",
    "group by nomcli\n",
    "\n"
   ]
  },
  {
   "cell_type": "markdown",
   "metadata": {
    "application/vnd.databricks.v1+cell": {
     "inputWidgets": {},
     "nuid": "2a37a9b0-cd33-46a0-8993-0eaf97004192",
     "showTitle": false,
     "title": ""
    }
   },
   "source": [
    "### Requête 19 - Donner, pour chaque ville de fournisseur, le nombre de fournisseurs y résidant"
   ]
  },
  {
   "cell_type": "code",
   "execution_count": 0,
   "metadata": {
    "application/vnd.databricks.v1+cell": {
     "inputWidgets": {},
     "nuid": "9f95303e-d97f-4f39-aca3-efcfa6d470ea",
     "showTitle": false,
     "title": ""
    }
   },
   "outputs": [
    {
     "data": {
      "text/html": [
       "<style scoped>\n",
       "  .table-result-container {\n",
       "    max-height: 300px;\n",
       "    overflow: auto;\n",
       "  }\n",
       "  table, th, td {\n",
       "    border: 1px solid black;\n",
       "    border-collapse: collapse;\n",
       "  }\n",
       "  th, td {\n",
       "    padding: 5px;\n",
       "  }\n",
       "  th {\n",
       "    text-align: left;\n",
       "  }\n",
       "</style><div class='table-result-container'><table class='table-result'><thead style='background-color: white'><tr><th>Nombre_fournisseurs</th><th>vilfour</th></tr></thead><tbody><tr><td>1</td><td>paris</td></tr><tr><td>1</td><td>macon</td></tr><tr><td>2</td><td>lyon</td></tr><tr><td>2</td><td>dijon</td></tr><tr><td>1</td><td>nice</td></tr><tr><td>1</td><td>toulon</td></tr><tr><td>1</td><td>villeurbanne</td></tr></tbody></table></div>"
      ]
     },
     "metadata": {
      "application/vnd.databricks.v1+output": {
       "addedWidgets": {},
       "aggData": [],
       "aggError": "",
       "aggOverflow": false,
       "aggSchema": [],
       "aggSeriesLimitReached": false,
       "aggType": "",
       "arguments": {},
       "columnCustomDisplayInfos": {},
       "data": [
        [
         1,
         "paris"
        ],
        [
         1,
         "macon"
        ],
        [
         2,
         "lyon"
        ],
        [
         2,
         "dijon"
        ],
        [
         1,
         "nice"
        ],
        [
         1,
         "toulon"
        ],
        [
         1,
         "villeurbanne"
        ]
       ],
       "datasetInfos": [],
       "dbfsResultPath": null,
       "isJsonSchema": true,
       "metadata": {},
       "overflow": false,
       "plotOptions": {
        "customPlotOptions": {},
        "displayType": "table",
        "pivotAggregation": null,
        "pivotColumns": null,
        "xColumns": null,
        "yColumns": null
       },
       "removedWidgets": [],
       "schema": [
        {
         "metadata": "{}",
         "name": "Nombre_fournisseurs",
         "type": "\"long\""
        },
        {
         "metadata": "{}",
         "name": "vilfour",
         "type": "\"string\""
        }
       ],
       "type": "table"
      }
     },
     "output_type": "display_data"
    }
   ],
   "source": [
    "%sql\n",
    "\n",
    "select \n",
    "count(nomfour) as Nombre_fournisseurs,\n",
    "vilfour\n",
    "from fournisseur\n",
    "group by vilfour"
   ]
  },
  {
   "cell_type": "markdown",
   "metadata": {
    "application/vnd.databricks.v1+cell": {
     "inputWidgets": {},
     "nuid": "d6776bb6-fb3b-4370-a0e9-832967eca86e",
     "showTitle": false,
     "title": ""
    }
   },
   "source": [
    "### Requête 20 - Donner, pour chaque pièce en stock, son numéro, son nom, son prix et le nombre moyen de quantité commandé"
   ]
  },
  {
   "cell_type": "code",
   "execution_count": 0,
   "metadata": {
    "application/vnd.databricks.v1+cell": {
     "inputWidgets": {},
     "nuid": "fde455d6-886f-45d1-80a4-0711c00a8b20",
     "showTitle": false,
     "title": ""
    }
   },
   "outputs": [
    {
     "data": {
      "text/html": [
       "<style scoped>\n",
       "  .table-result-container {\n",
       "    max-height: 300px;\n",
       "    overflow: auto;\n",
       "  }\n",
       "  table, th, td {\n",
       "    border: 1px solid black;\n",
       "    border-collapse: collapse;\n",
       "  }\n",
       "  th, td {\n",
       "    padding: 5px;\n",
       "  }\n",
       "  th {\n",
       "    text-align: left;\n",
       "  }\n",
       "</style><div class='table-result-container'><table class='table-result'><thead style='background-color: white'><tr><th>numero</th><th>nompce</th><th>price</th><th>mean_order</th><th>Total_order</th></tr></thead><tbody><tr><td>f33</td><td>axe</td><td>410.0</td><td>1.0</td><td>1</td></tr><tr><td>d32</td><td>bielette</td><td>830.67</td><td>2.0</td><td>2</td></tr><tr><td>z222</td><td>calandre</td><td>615.0</td><td>4.5</td><td>9</td></tr><tr><td>g101</td><td>moteur</td><td>1215.0</td><td>2.0</td><td>2</td></tr><tr><td>r204</td><td>support</td><td>450.0</td><td>8.0</td><td>8</td></tr><tr><td>r205</td><td>visserie</td><td>180.0</td><td>2.0</td><td>4</td></tr></tbody></table></div>"
      ]
     },
     "metadata": {
      "application/vnd.databricks.v1+output": {
       "addedWidgets": {},
       "aggData": [],
       "aggError": "",
       "aggOverflow": false,
       "aggSchema": [],
       "aggSeriesLimitReached": false,
       "aggType": "",
       "arguments": {},
       "columnCustomDisplayInfos": {},
       "data": [
        [
         "f33",
         "axe",
         410,
         1,
         1
        ],
        [
         "d32",
         "bielette",
         830.67,
         2,
         2
        ],
        [
         "z222",
         "calandre",
         615,
         4.5,
         9
        ],
        [
         "g101",
         "moteur",
         1215,
         2,
         2
        ],
        [
         "r204",
         "support",
         450,
         8,
         8
        ],
        [
         "r205",
         "visserie",
         180,
         2,
         4
        ]
       ],
       "datasetInfos": [],
       "dbfsResultPath": null,
       "isJsonSchema": true,
       "metadata": {},
       "overflow": false,
       "plotOptions": {
        "customPlotOptions": {},
        "displayType": "table",
        "pivotAggregation": null,
        "pivotColumns": null,
        "xColumns": null,
        "yColumns": null
       },
       "removedWidgets": [],
       "schema": [
        {
         "metadata": "{}",
         "name": "numero",
         "type": "\"string\""
        },
        {
         "metadata": "{}",
         "name": "nompce",
         "type": "\"string\""
        },
        {
         "metadata": "{}",
         "name": "price",
         "type": "\"float\""
        },
        {
         "metadata": "{}",
         "name": "mean_order",
         "type": "\"double\""
        },
        {
         "metadata": "{}",
         "name": "Total_order",
         "type": "\"long\""
        }
       ],
       "type": "table"
      }
     },
     "output_type": "display_data"
    }
   ],
   "source": [
    "%sql\n",
    "\n",
    "select \n",
    "first_value(piece.numpce) as numero,\n",
    "nompce,\n",
    "first(pupce) as price,\n",
    "avg(qtecde) as mean_order,\n",
    "sum(qtecde) as Total_order\n",
    "from piece \n",
    "join commande \n",
    "on piece.numpce = commande.numpce\n",
    "group by nompce"
   ]
  },
  {
   "cell_type": "markdown",
   "metadata": {
    "application/vnd.databricks.v1+cell": {
     "inputWidgets": {},
     "nuid": "fba09383-f312-41da-a12d-c59e531ed766",
     "showTitle": false,
     "title": ""
    }
   },
   "source": [
    "### Requête 21 - Donner, pour chaque pièce en stock, son numéro, son nom, son prix et le nombre moyen de quantité commandé, seulement si le prix est inférieur à 500€"
   ]
  },
  {
   "cell_type": "code",
   "execution_count": 0,
   "metadata": {
    "application/vnd.databricks.v1+cell": {
     "inputWidgets": {},
     "nuid": "1740549f-c3bb-4142-a4fb-46be1f22ab98",
     "showTitle": false,
     "title": ""
    }
   },
   "outputs": [
    {
     "data": {
      "text/html": [
       "<style scoped>\n",
       "  .table-result-container {\n",
       "    max-height: 300px;\n",
       "    overflow: auto;\n",
       "  }\n",
       "  table, th, td {\n",
       "    border: 1px solid black;\n",
       "    border-collapse: collapse;\n",
       "  }\n",
       "  th, td {\n",
       "    padding: 5px;\n",
       "  }\n",
       "  th {\n",
       "    text-align: left;\n",
       "  }\n",
       "</style><div class='table-result-container'><table class='table-result'><thead style='background-color: white'><tr><th>numero</th><th>nompce</th><th>price</th><th>mean_order</th><th>Total_order</th></tr></thead><tbody><tr><td>f33</td><td>axe</td><td>410.0</td><td>1.0</td><td>1</td></tr><tr><td>r204</td><td>support</td><td>450.0</td><td>8.0</td><td>8</td></tr><tr><td>r205</td><td>visserie</td><td>180.0</td><td>2.0</td><td>4</td></tr></tbody></table></div>"
      ]
     },
     "metadata": {
      "application/vnd.databricks.v1+output": {
       "addedWidgets": {},
       "aggData": [],
       "aggError": "",
       "aggOverflow": false,
       "aggSchema": [],
       "aggSeriesLimitReached": false,
       "aggType": "",
       "arguments": {},
       "columnCustomDisplayInfos": {},
       "data": [
        [
         "f33",
         "axe",
         410,
         1,
         1
        ],
        [
         "r204",
         "support",
         450,
         8,
         8
        ],
        [
         "r205",
         "visserie",
         180,
         2,
         4
        ]
       ],
       "datasetInfos": [],
       "dbfsResultPath": null,
       "isJsonSchema": true,
       "metadata": {},
       "overflow": false,
       "plotOptions": {
        "customPlotOptions": {},
        "displayType": "table",
        "pivotAggregation": null,
        "pivotColumns": null,
        "xColumns": null,
        "yColumns": null
       },
       "removedWidgets": [],
       "schema": [
        {
         "metadata": "{}",
         "name": "numero",
         "type": "\"string\""
        },
        {
         "metadata": "{}",
         "name": "nompce",
         "type": "\"string\""
        },
        {
         "metadata": "{}",
         "name": "price",
         "type": "\"float\""
        },
        {
         "metadata": "{}",
         "name": "mean_order",
         "type": "\"double\""
        },
        {
         "metadata": "{}",
         "name": "Total_order",
         "type": "\"long\""
        }
       ],
       "type": "table"
      }
     },
     "output_type": "display_data"
    }
   ],
   "source": [
    "%sql\n",
    "\n",
    "select \n",
    "first_value(piece.numpce) as numero,\n",
    "nompce,\n",
    "first(pupce) as price,\n",
    "avg(qtecde) as mean_order,\n",
    "sum(qtecde) as Total_order\n",
    "from piece \n",
    "join commande \n",
    "on piece.numpce = commande.numpce\n",
    "where pupce < 500\n",
    "group by nompce\n"
   ]
  },
  {
   "cell_type": "markdown",
   "metadata": {
    "application/vnd.databricks.v1+cell": {
     "inputWidgets": {},
     "nuid": "be372350-f949-4ba7-9b2d-22702c7c4a6e",
     "showTitle": false,
     "title": ""
    }
   },
   "source": [
    "### Requête 22 - Donner, pour chaque client ayant commandé, son numéro et le montant cumulé de ses commandes et seulement si ce montant cumulé dépasse 2000€"
   ]
  },
  {
   "cell_type": "code",
   "execution_count": 0,
   "metadata": {
    "application/vnd.databricks.v1+cell": {
     "inputWidgets": {},
     "nuid": "ab3b605a-fc2a-42eb-8d0d-cdc1a17e63b9",
     "showTitle": false,
     "title": ""
    }
   },
   "outputs": [
    {
     "data": {
      "text/html": [
       "<style scoped>\n",
       "  .table-result-container {\n",
       "    max-height: 300px;\n",
       "    overflow: auto;\n",
       "  }\n",
       "  table, th, td {\n",
       "    border: 1px solid black;\n",
       "    border-collapse: collapse;\n",
       "  }\n",
       "  th, td {\n",
       "    padding: 5px;\n",
       "  }\n",
       "  th {\n",
       "    text-align: left;\n",
       "  }\n",
       "</style><div class='table-result-container'><table class='table-result'><thead style='background-color: white'><tr><th>idcli</th><th>nomcli</th><th>nombre_de_commande</th><th>montant_cumule</th></tr></thead><tbody><tr><td>9701</td><td>macron</td><td>1</td><td>4500.0</td></tr><tr><td>9702</td><td>mbappe</td><td>1</td><td>3500.02</td></tr><tr><td>9002</td><td>rossi</td><td>1</td><td>3504.97</td></tr><tr><td>8802</td><td>tremblay</td><td>1</td><td>5555.98</td></tr></tbody></table></div>"
      ]
     },
     "metadata": {
      "application/vnd.databricks.v1+output": {
       "addedWidgets": {},
       "aggData": [],
       "aggError": "",
       "aggOverflow": false,
       "aggSchema": [],
       "aggSeriesLimitReached": false,
       "aggType": "",
       "arguments": {},
       "columnCustomDisplayInfos": {},
       "data": [
        [
         "9701",
         "macron",
         1,
         4500
        ],
        [
         "9702",
         "mbappe",
         1,
         3500.02
        ],
        [
         "9002",
         "rossi",
         1,
         3504.97
        ],
        [
         "8802",
         "tremblay",
         1,
         5555.98
        ]
       ],
       "datasetInfos": [],
       "dbfsResultPath": null,
       "isJsonSchema": true,
       "metadata": {},
       "overflow": false,
       "plotOptions": {
        "customPlotOptions": {},
        "displayType": "table",
        "pivotAggregation": null,
        "pivotColumns": null,
        "xColumns": null,
        "yColumns": null
       },
       "removedWidgets": [],
       "schema": [
        {
         "metadata": "{}",
         "name": "idcli",
         "type": "\"string\""
        },
        {
         "metadata": "{}",
         "name": "nomcli",
         "type": "\"string\""
        },
        {
         "metadata": "{}",
         "name": "nombre_de_commande",
         "type": "\"long\""
        },
        {
         "metadata": "{}",
         "name": "montant_cumule",
         "type": "\"double\""
        }
       ],
       "type": "table"
      }
     },
     "output_type": "display_data"
    }
   ],
   "source": [
    "%sql\n",
    "\n",
    "select first_value(client.idcli) as idcli,\n",
    "nomcli, \n",
    "count(numcde) as nombre_de_commande,\n",
    "round(sum(mtcde),2) as montant_cumule\n",
    "from commande \n",
    "join client\n",
    "on commande.idcli = client.idcli\n",
    "where mtcde > 2000\n",
    "group by nomcli\n",
    "\n",
    "-- 4 clients correspondent à la requête."
   ]
  },
  {
   "cell_type": "markdown",
   "metadata": {
    "application/vnd.databricks.v1+cell": {
     "inputWidgets": {},
     "nuid": "a173d59e-e82f-42a6-9592-170b77040c10",
     "showTitle": false,
     "title": ""
    }
   },
   "source": [
    "### Requête 23 - Donner la liste des produits (libellé et quantité en stock) par ordre alphabétique croissant"
   ]
  },
  {
   "cell_type": "code",
   "execution_count": 0,
   "metadata": {
    "application/vnd.databricks.v1+cell": {
     "inputWidgets": {},
     "nuid": "2d3bff8e-da6c-4c9d-909d-f97a20b42b5d",
     "showTitle": false,
     "title": ""
    }
   },
   "outputs": [
    {
     "data": {
      "text/html": [
       "<style scoped>\n",
       "  .table-result-container {\n",
       "    max-height: 300px;\n",
       "    overflow: auto;\n",
       "  }\n",
       "  table, th, td {\n",
       "    border: 1px solid black;\n",
       "    border-collapse: collapse;\n",
       "  }\n",
       "  th, td {\n",
       "    padding: 5px;\n",
       "  }\n",
       "  th {\n",
       "    text-align: left;\n",
       "  }\n",
       "</style><div class='table-result-container'><table class='table-result'><thead style='background-color: white'><tr><th>nompce</th><th>qtestpce</th></tr></thead><tbody><tr><td>axe</td><td>50</td></tr><tr><td>bielette</td><td>8</td></tr><tr><td>calandre</td><td>7</td></tr><tr><td>capot</td><td>3</td></tr><tr><td>moteur</td><td>2</td></tr><tr><td>support</td><td>4</td></tr><tr><td>verrin</td><td>10</td></tr><tr><td>visserie</td><td>120</td></tr></tbody></table></div>"
      ]
     },
     "metadata": {
      "application/vnd.databricks.v1+output": {
       "addedWidgets": {},
       "aggData": [],
       "aggError": "",
       "aggOverflow": false,
       "aggSchema": [],
       "aggSeriesLimitReached": false,
       "aggType": "",
       "arguments": {},
       "columnCustomDisplayInfos": {},
       "data": [
        [
         "axe",
         50
        ],
        [
         "bielette",
         8
        ],
        [
         "calandre",
         7
        ],
        [
         "capot",
         3
        ],
        [
         "moteur",
         2
        ],
        [
         "support",
         4
        ],
        [
         "verrin",
         10
        ],
        [
         "visserie",
         120
        ]
       ],
       "datasetInfos": [],
       "dbfsResultPath": null,
       "isJsonSchema": true,
       "metadata": {},
       "overflow": false,
       "plotOptions": {
        "customPlotOptions": {},
        "displayType": "table",
        "pivotAggregation": null,
        "pivotColumns": null,
        "xColumns": null,
        "yColumns": null
       },
       "removedWidgets": [],
       "schema": [
        {
         "metadata": "{}",
         "name": "nompce",
         "type": "\"string\""
        },
        {
         "metadata": "{}",
         "name": "qtestpce",
         "type": "\"integer\""
        }
       ],
       "type": "table"
      }
     },
     "output_type": "display_data"
    }
   ],
   "source": [
    "%sql\n",
    "\n",
    "select nompce, \n",
    "qtestpce\n",
    "from piece\n",
    "order by nompce"
   ]
  },
  {
   "cell_type": "markdown",
   "metadata": {
    "application/vnd.databricks.v1+cell": {
     "inputWidgets": {},
     "nuid": "74974f32-1efe-4803-8e7e-14ca93ebf533",
     "showTitle": false,
     "title": ""
    }
   },
   "source": [
    "### Requête 24 - Donner la liste des produits (quantité en stock, libellé, prix en euro) triée par quantité en stock décrossante et par prix croissant"
   ]
  },
  {
   "cell_type": "code",
   "execution_count": 0,
   "metadata": {
    "application/vnd.databricks.v1+cell": {
     "inputWidgets": {},
     "nuid": "8e46f723-9317-4672-ba82-ff48fbca2a5b",
     "showTitle": false,
     "title": ""
    }
   },
   "outputs": [
    {
     "data": {
      "text/html": [
       "<style scoped>\n",
       "  .table-result-container {\n",
       "    max-height: 300px;\n",
       "    overflow: auto;\n",
       "  }\n",
       "  table, th, td {\n",
       "    border: 1px solid black;\n",
       "    border-collapse: collapse;\n",
       "  }\n",
       "  th, td {\n",
       "    padding: 5px;\n",
       "  }\n",
       "  th {\n",
       "    text-align: left;\n",
       "  }\n",
       "</style><div class='table-result-container'><table class='table-result'><thead style='background-color: white'><tr><th>nompce</th><th>qtestpce</th><th>price</th></tr></thead><tbody><tr><td>visserie</td><td>120</td><td>180.0€</td></tr><tr><td>axe</td><td>50</td><td>410.0€</td></tr><tr><td>verrin</td><td>10</td><td>550.0€</td></tr><tr><td>bielette</td><td>8</td><td>830.67€</td></tr><tr><td>calandre</td><td>7</td><td>615.0€</td></tr><tr><td>support</td><td>4</td><td>450.0€</td></tr><tr><td>capot</td><td>3</td><td>890.0€</td></tr><tr><td>moteur</td><td>2</td><td>1215.0€</td></tr></tbody></table></div>"
      ]
     },
     "metadata": {
      "application/vnd.databricks.v1+output": {
       "addedWidgets": {},
       "aggData": [],
       "aggError": "",
       "aggOverflow": false,
       "aggSchema": [],
       "aggSeriesLimitReached": false,
       "aggType": "",
       "arguments": {},
       "columnCustomDisplayInfos": {},
       "data": [
        [
         "visserie",
         120,
         "180.0€"
        ],
        [
         "axe",
         50,
         "410.0€"
        ],
        [
         "verrin",
         10,
         "550.0€"
        ],
        [
         "bielette",
         8,
         "830.67€"
        ],
        [
         "calandre",
         7,
         "615.0€"
        ],
        [
         "support",
         4,
         "450.0€"
        ],
        [
         "capot",
         3,
         "890.0€"
        ],
        [
         "moteur",
         2,
         "1215.0€"
        ]
       ],
       "datasetInfos": [],
       "dbfsResultPath": null,
       "isJsonSchema": true,
       "metadata": {},
       "overflow": false,
       "plotOptions": {
        "customPlotOptions": {},
        "displayType": "table",
        "pivotAggregation": null,
        "pivotColumns": null,
        "xColumns": null,
        "yColumns": null
       },
       "removedWidgets": [],
       "schema": [
        {
         "metadata": "{}",
         "name": "nompce",
         "type": "\"string\""
        },
        {
         "metadata": "{}",
         "name": "qtestpce",
         "type": "\"integer\""
        },
        {
         "metadata": "{}",
         "name": "price",
         "type": "\"string\""
        }
       ],
       "type": "table"
      }
     },
     "output_type": "display_data"
    }
   ],
   "source": [
    "%sql\n",
    "\n",
    "select nompce, \n",
    "qtestpce,\n",
    "concat (pupce, \"€\") as price\n",
    "from piece\n",
    "order by qtestpce desc, pupce asc"
   ]
  },
  {
   "cell_type": "code",
   "execution_count": 0,
   "metadata": {
    "application/vnd.databricks.v1+cell": {
     "inputWidgets": {},
     "nuid": "5297c329-9a58-4472-ab7d-41684ff933bd",
     "showTitle": false,
     "title": ""
    }
   },
   "outputs": [
    {
     "data": {
      "text/html": [
       "<style scoped>\n",
       "  .ansiout {\n",
       "    display: block;\n",
       "    unicode-bidi: embed;\n",
       "    white-space: pre-wrap;\n",
       "    word-wrap: break-word;\n",
       "    word-break: break-all;\n",
       "    font-family: \"Source Code Pro\", \"Menlo\", monospace;;\n",
       "    font-size: 13px;\n",
       "    color: #555;\n",
       "    margin-left: 4px;\n",
       "    line-height: 19px;\n",
       "  }\n",
       "</style>"
      ]
     },
     "metadata": {
      "application/vnd.databricks.v1+output": {
       "arguments": {},
       "data": "",
       "errorSummary": "",
       "errorTraceType": null,
       "metadata": {},
       "type": "ipynbError"
      }
     },
     "output_type": "display_data"
    }
   ],
   "source": []
  }
 ],
 "metadata": {
  "application/vnd.databricks.v1+notebook": {
   "dashboards": [],
   "language": "python",
   "notebookMetadata": {
    "pythonIndentUnit": 4
   },
   "notebookName": "TP n°3 - Databricks & Spark",
   "notebookOrigID": 1833628520957329,
   "widgets": {}
  },
  "kernelspec": {
   "display_name": "Python 3 (ipykernel)",
   "language": "python",
   "name": "python3"
  },
  "language_info": {
   "codemirror_mode": {
    "name": "ipython",
    "version": 3
   },
   "file_extension": ".py",
   "mimetype": "text/x-python",
   "name": "python",
   "nbconvert_exporter": "python",
   "pygments_lexer": "ipython3",
   "version": "3.9.13"
  }
 },
 "nbformat": 4,
 "nbformat_minor": 1
}
